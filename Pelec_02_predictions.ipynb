{
 "cells": [
  {
   "cell_type": "markdown",
   "id": "07d066bf",
   "metadata": {},
   "source": [
    "# Projet 3 : Anticipez les besoins en consommation électrique de batiments  \n",
    "# Notebook de tests d'apprentissages\n",
    "Ce notebook contient les différents essais de modèles d'apprentissage.\n",
    "\n",
    "\n",
    "## Contexte et objectifs :  \n",
    "La ville de Seattle a effectué des relevés de consommation énergétique et des émissions des gaz à effet de serres des batiments de la ville.  \n",
    "Cependant ces relevés sont très couteux et donc la ville voudrait prédire ces valeurs pour les batiments dont les mesures ne sont pas disponibles.  \n",
    "Le but est donc de prédire la consommation énergétique et les émissions de GES des batiments de la ville.  \n",
    "Pour réaliser cette prédiction, on pourra se baser sur les données du permis d'exploitation, afin d'éviter tout relevés.  \n",
    "De plus, la ville voudrait connaitre l'apport de l'Energy Star Score dans cette prédiction. En effet, cette variable est fastidieuse à calculer et donc on voudrait savoir si cette information apporte une plus value ou non dans la prédiction."
   ]
  },
  {
   "cell_type": "markdown",
   "id": "36645db0",
   "metadata": {},
   "source": [
    "## Chargement des modules Python"
   ]
  },
  {
   "cell_type": "code",
   "execution_count": 1,
   "id": "55b879b8",
   "metadata": {},
   "outputs": [],
   "source": [
    "import pickle\n",
    "import os\n",
    "import numpy as np\n",
    "import pandas as pd\n",
    "import matplotlib.pyplot as plt\n",
    "from matplotlib import cm\n",
    "from sklearn import model_selection, dummy, linear_model, neighbors, svm, tree, metrics, neural_network, ensemble, kernel_ridge\n",
    "from sklearn.preprocessing import StandardScaler\n",
    "import xgboost as xgb\n",
    "from scipy.stats import pearsonr"
   ]
  },
  {
   "cell_type": "markdown",
   "id": "7686dc5f",
   "metadata": {},
   "source": [
    "## fonctions utiles"
   ]
  },
  {
   "cell_type": "code",
   "execution_count": 2,
   "id": "070576b2",
   "metadata": {},
   "outputs": [],
   "source": [
    "class My_preprocessing :\n",
    "    \"\"\"\n",
    "    Class to perform the preprocessing of the dataset\n",
    "    \"\"\"\n",
    "    def __init__(self, binary_cols=[], float_cols=[], prct_cols=[], norm=\"no\") :\n",
    "        self.binary_cols = binary_cols\n",
    "        self.float_cols = float_cols\n",
    "        self.prct_cols = prct_cols\n",
    "        if norm in ['std', 'log', 'no'] :\n",
    "            self.type = norm\n",
    "        else :\n",
    "            print(\"Warning, wrong normalisation type\")\n",
    "            self.type = \"no\"\n",
    "        if norm == \"std\" :\n",
    "            self.func_float = StandardScaler()\n",
    "        else :\n",
    "            self.func_float = self.nothing()\n",
    "        self.func_prct = self.prct2int\n",
    "        self.is_fitted = False\n",
    "        \n",
    "    def prct2int(self, data) :\n",
    "        \"\"\"\n",
    "        method to convert percentage in range 0, 100 to range 0,1\n",
    "        parameters : np.array like \n",
    "        returns : np.array-like\n",
    "        \"\"\"\n",
    "        return data/100\n",
    "    \n",
    "    def logscaler(self, data):\n",
    "        \"\"\"\n",
    "        method to convert convert into log scale\n",
    "        parameters : np.array like \n",
    "        returns : np.array-like\n",
    "        \"\"\"\n",
    "        return np.log10(data+1)\n",
    "    \n",
    "    def nothing(self) :\n",
    "        \"\"\"\n",
    "        function nothing\n",
    "        \"\"\"\n",
    "        pass\n",
    "    \n",
    "    def fit(self, data) :\n",
    "        \"\"\"\n",
    "        function to fit the preprocessing parameters\n",
    "        parameters : data np.array like\n",
    "        returns : None\n",
    "        \"\"\"\n",
    "        if self.type == \"std\" :\n",
    "            self.func_float.fit(data[self.float_cols])\n",
    "        self.is_fitted = True\n",
    "        \"\"\"\n",
    "        function to fit the preprocessing parameters\n",
    "        parameters : data np.array like\n",
    "        returns : None\n",
    "        \"\"\"\n",
    "    def transform(self, data) :\n",
    "        \"\"\"\n",
    "        function to transform dataset\n",
    "        parameters : data np.array like\n",
    "        returns : np.array like\n",
    "        \"\"\"\n",
    "        if self.is_fitted :\n",
    "            odata = data.copy(deep=True)\n",
    "            if self.type == 'log' :\n",
    "                odata[self.float_cols] = self.logscaler(data[self.float_cols])\n",
    "            elif self.type == \"std\":\n",
    "                odata[self.float_cols] = self.func_float.transform(data[self.float_cols])\n",
    "            odata[self.prct_cols] = self.func_prct(data[self.prct_cols])\n",
    "            return odata.values\n",
    "        else :\n",
    "            raise \"Preprocessor is not fitted\""
   ]
  },
  {
   "cell_type": "markdown",
   "id": "9a7c7b0a",
   "metadata": {},
   "source": [
    "## Variables globales\n",
    "on créé un dataframe regroupant les scores des différents modéles"
   ]
  },
  {
   "cell_type": "code",
   "execution_count": 3,
   "id": "6a6c3db9",
   "metadata": {},
   "outputs": [],
   "source": [
    "# stockage des résultats\n",
    "result_NRJ = pd.DataFrame(columns=[\"model\", \"scaler\",\"EnergySoreStar\",'mean_score', \"std\", \"result_obj\", \"level\"])\n",
    "result_GES = pd.DataFrame(columns=[\"model\", \"scaler\", \"EnergySoreStar\",'mean_score', \"std\", \"result_obj\", \"level\"])\n",
    "\n",
    "# pour le plot\n",
    "medianprops = {'color':\"black\"}\n",
    "meanprops = {'marker':'o', 'markeredgecolor':'black',\n",
    "            'markerfacecolor':'firebrick'}"
   ]
  },
  {
   "cell_type": "markdown",
   "id": "ff257f11",
   "metadata": {},
   "source": [
    "## Chargement du dataset\n",
    "On charge les données nettoyées dans le notebook de nettoyage.  \n",
    "On utilise dans un premier temps le jeu de données avec la variable ENERGYSTARScore. En effet, pour pouvoir caractériser sans biais l'impact de cette variable, il est important d'utiliser le même dataset.  \n",
    "Dans un second temps, nous pourrons comparer ce jeu de données avec le second contenant plus de données. "
   ]
  },
  {
   "cell_type": "code",
   "execution_count": 4,
   "id": "281f37b3",
   "metadata": {},
   "outputs": [
    {
     "data": {
      "text/html": [
       "<div>\n",
       "<style scoped>\n",
       "    .dataframe tbody tr th:only-of-type {\n",
       "        vertical-align: middle;\n",
       "    }\n",
       "\n",
       "    .dataframe tbody tr th {\n",
       "        vertical-align: top;\n",
       "    }\n",
       "\n",
       "    .dataframe thead th {\n",
       "        text-align: right;\n",
       "    }\n",
       "</style>\n",
       "<table border=\"1\" class=\"dataframe\">\n",
       "  <thead>\n",
       "    <tr style=\"text-align: right;\">\n",
       "      <th></th>\n",
       "      <th>OSEBuildingID</th>\n",
       "      <th>PrimaryPropertyType</th>\n",
       "      <th>NumberofBuildings</th>\n",
       "      <th>NumberofFloors</th>\n",
       "      <th>PropertyGFATotal</th>\n",
       "      <th>PropertyGFAParking</th>\n",
       "      <th>PropertyGFABuilding(s)</th>\n",
       "      <th>LargestPropertyUseType</th>\n",
       "      <th>LargestPropertyUseTypeGFA</th>\n",
       "      <th>ENERGYSTARScore</th>\n",
       "      <th>...</th>\n",
       "      <th>Multifamily HR (10+)</th>\n",
       "      <th>Multifamily LR (1-4)</th>\n",
       "      <th>Multifamily MR (5-9)</th>\n",
       "      <th>NonResidential</th>\n",
       "      <th>Nonresidential COS</th>\n",
       "      <th>SPS-District K-12</th>\n",
       "      <th>MainEnergySource_Electricity(%)</th>\n",
       "      <th>MainEnergySource_NaturalGas(%)</th>\n",
       "      <th>MainEnergySource_SteamUse(%)</th>\n",
       "      <th>building_age</th>\n",
       "    </tr>\n",
       "  </thead>\n",
       "  <tbody>\n",
       "    <tr>\n",
       "      <th>0</th>\n",
       "      <td>1</td>\n",
       "      <td>Hotel</td>\n",
       "      <td>1.0</td>\n",
       "      <td>12.0</td>\n",
       "      <td>88434</td>\n",
       "      <td>0.0</td>\n",
       "      <td>88434.0</td>\n",
       "      <td>Hotel</td>\n",
       "      <td>88434.0</td>\n",
       "      <td>65.0</td>\n",
       "      <td>...</td>\n",
       "      <td>0.0</td>\n",
       "      <td>0.0</td>\n",
       "      <td>0.0</td>\n",
       "      <td>1.0</td>\n",
       "      <td>0.0</td>\n",
       "      <td>0.0</td>\n",
       "      <td>1.0</td>\n",
       "      <td>0.0</td>\n",
       "      <td>0.0</td>\n",
       "      <td>88</td>\n",
       "    </tr>\n",
       "    <tr>\n",
       "      <th>1</th>\n",
       "      <td>2</td>\n",
       "      <td>Hotel</td>\n",
       "      <td>1.0</td>\n",
       "      <td>11.0</td>\n",
       "      <td>103566</td>\n",
       "      <td>15064.0</td>\n",
       "      <td>88502.0</td>\n",
       "      <td>Hotel</td>\n",
       "      <td>83880.0</td>\n",
       "      <td>51.0</td>\n",
       "      <td>...</td>\n",
       "      <td>0.0</td>\n",
       "      <td>0.0</td>\n",
       "      <td>0.0</td>\n",
       "      <td>1.0</td>\n",
       "      <td>0.0</td>\n",
       "      <td>0.0</td>\n",
       "      <td>0.0</td>\n",
       "      <td>1.0</td>\n",
       "      <td>0.0</td>\n",
       "      <td>19</td>\n",
       "    </tr>\n",
       "    <tr>\n",
       "      <th>2</th>\n",
       "      <td>3</td>\n",
       "      <td>Hotel</td>\n",
       "      <td>1.0</td>\n",
       "      <td>41.0</td>\n",
       "      <td>961990</td>\n",
       "      <td>0.0</td>\n",
       "      <td>961990.0</td>\n",
       "      <td>Hotel</td>\n",
       "      <td>757243.0</td>\n",
       "      <td>18.0</td>\n",
       "      <td>...</td>\n",
       "      <td>0.0</td>\n",
       "      <td>0.0</td>\n",
       "      <td>0.0</td>\n",
       "      <td>1.0</td>\n",
       "      <td>0.0</td>\n",
       "      <td>0.0</td>\n",
       "      <td>1.0</td>\n",
       "      <td>0.0</td>\n",
       "      <td>0.0</td>\n",
       "      <td>46</td>\n",
       "    </tr>\n",
       "    <tr>\n",
       "      <th>3</th>\n",
       "      <td>5</td>\n",
       "      <td>Hotel</td>\n",
       "      <td>1.0</td>\n",
       "      <td>10.0</td>\n",
       "      <td>61320</td>\n",
       "      <td>0.0</td>\n",
       "      <td>61320.0</td>\n",
       "      <td>Hotel</td>\n",
       "      <td>61320.0</td>\n",
       "      <td>1.0</td>\n",
       "      <td>...</td>\n",
       "      <td>0.0</td>\n",
       "      <td>0.0</td>\n",
       "      <td>0.0</td>\n",
       "      <td>1.0</td>\n",
       "      <td>0.0</td>\n",
       "      <td>0.0</td>\n",
       "      <td>0.0</td>\n",
       "      <td>0.0</td>\n",
       "      <td>1.0</td>\n",
       "      <td>89</td>\n",
       "    </tr>\n",
       "    <tr>\n",
       "      <th>4</th>\n",
       "      <td>10</td>\n",
       "      <td>Hotel</td>\n",
       "      <td>1.0</td>\n",
       "      <td>11.0</td>\n",
       "      <td>83008</td>\n",
       "      <td>0.0</td>\n",
       "      <td>83008.0</td>\n",
       "      <td>Hotel</td>\n",
       "      <td>81352.0</td>\n",
       "      <td>25.0</td>\n",
       "      <td>...</td>\n",
       "      <td>0.0</td>\n",
       "      <td>0.0</td>\n",
       "      <td>0.0</td>\n",
       "      <td>1.0</td>\n",
       "      <td>0.0</td>\n",
       "      <td>0.0</td>\n",
       "      <td>0.0</td>\n",
       "      <td>1.0</td>\n",
       "      <td>0.0</td>\n",
       "      <td>89</td>\n",
       "    </tr>\n",
       "  </tbody>\n",
       "</table>\n",
       "<p>5 rows × 96 columns</p>\n",
       "</div>"
      ],
      "text/plain": [
       "   OSEBuildingID PrimaryPropertyType  NumberofBuildings  NumberofFloors  \\\n",
       "0              1               Hotel                1.0            12.0   \n",
       "1              2               Hotel                1.0            11.0   \n",
       "2              3               Hotel                1.0            41.0   \n",
       "3              5               Hotel                1.0            10.0   \n",
       "4             10               Hotel                1.0            11.0   \n",
       "\n",
       "   PropertyGFATotal  PropertyGFAParking  PropertyGFABuilding(s)  \\\n",
       "0             88434                 0.0                 88434.0   \n",
       "1            103566             15064.0                 88502.0   \n",
       "2            961990                 0.0                961990.0   \n",
       "3             61320                 0.0                 61320.0   \n",
       "4             83008                 0.0                 83008.0   \n",
       "\n",
       "  LargestPropertyUseType  LargestPropertyUseTypeGFA  ENERGYSTARScore  ...  \\\n",
       "0                  Hotel                    88434.0             65.0  ...   \n",
       "1                  Hotel                    83880.0             51.0  ...   \n",
       "2                  Hotel                   757243.0             18.0  ...   \n",
       "3                  Hotel                    61320.0              1.0  ...   \n",
       "4                  Hotel                    81352.0             25.0  ...   \n",
       "\n",
       "   Multifamily HR (10+)  Multifamily LR (1-4)  Multifamily MR (5-9)  \\\n",
       "0                   0.0                   0.0                   0.0   \n",
       "1                   0.0                   0.0                   0.0   \n",
       "2                   0.0                   0.0                   0.0   \n",
       "3                   0.0                   0.0                   0.0   \n",
       "4                   0.0                   0.0                   0.0   \n",
       "\n",
       "   NonResidential  Nonresidential COS  SPS-District K-12  \\\n",
       "0             1.0                 0.0                0.0   \n",
       "1             1.0                 0.0                0.0   \n",
       "2             1.0                 0.0                0.0   \n",
       "3             1.0                 0.0                0.0   \n",
       "4             1.0                 0.0                0.0   \n",
       "\n",
       "   MainEnergySource_Electricity(%)  MainEnergySource_NaturalGas(%)  \\\n",
       "0                              1.0                             0.0   \n",
       "1                              0.0                             1.0   \n",
       "2                              1.0                             0.0   \n",
       "3                              0.0                             0.0   \n",
       "4                              0.0                             1.0   \n",
       "\n",
       "   MainEnergySource_SteamUse(%)  building_age  \n",
       "0                           0.0            88  \n",
       "1                           0.0            19  \n",
       "2                           0.0            46  \n",
       "3                           1.0            89  \n",
       "4                           0.0            89  \n",
       "\n",
       "[5 rows x 96 columns]"
      ]
     },
     "execution_count": 4,
     "metadata": {},
     "output_type": "execute_result"
    }
   ],
   "source": [
    "DATA = pd.read_csv(\"data/building-energy-benchmarking_EnergyStarScore_cleaned.csv\")\n",
    "DATA.head()"
   ]
  },
  {
   "cell_type": "markdown",
   "id": "0c6ef3b1",
   "metadata": {},
   "source": [
    "## Création du train test et test set\n",
    "On sépare le jeu de données en 80% train et 20% test.  \n",
    "On supprime les variables inutiles avant : \n",
    "- 'OSEBuildingID' : l'ID ne contient pas d'informations sur la consommation\n",
    "- 'PrimaryPropertyType' : a été encodé en OneHot\n",
    "- 'LargestPropertyUseType': a été encodé\n",
    "- 'LargestPropertyUseTypeGFA' : a été encodé\n",
    "- 'SteamUse(kBtu)' : nécessite un relevé, on utilise plutot le mix énergétique\n",
    "- 'Electricity(kBtu)' nécessite un relevé, on utilise plutot le mix énergétique\n",
    "- 'NaturalGas(kBtu)'nécessite un relevé, on utilise plutot le mix énergétique\n",
    "- 'OtherFuelUse(kBtu)' nécessite un relevé, on utilise plutot le mix énergétique"
   ]
  },
  {
   "cell_type": "code",
   "execution_count": 5,
   "id": "d3d634a1",
   "metadata": {},
   "outputs": [
    {
     "name": "stdout",
     "output_type": "stream",
     "text": [
      "Nombre d'observation dans le train set 3485\n",
      "Nombre d'observation dans le test set 872\n"
     ]
    }
   ],
   "source": [
    "Y = DATA[[\"SiteEnergyUseWN(kBtu)\", \"GHGEmissions(MetricTonsCO2e)\"]]\n",
    "X = DATA.drop([\"SiteEnergyUseWN(kBtu)\", \"GHGEmissions(MetricTonsCO2e)\", 'OSEBuildingID', 'PrimaryPropertyType',\\\n",
    "              'LargestPropertyUseType', 'LargestPropertyUseTypeGFA', 'SteamUse(kBtu)', 'Electricity(kBtu)', \\\n",
    "               'NaturalGas(kBtu)', 'OtherFuelUse(kBtu)' ], axis=1,inplace=False)\n",
    "X_train, X_test, Y_train, Y_test = model_selection.train_test_split(X, Y, test_size=0.2, random_state=42)\n",
    "y_train_NRJ = Y_train[\"SiteEnergyUseWN(kBtu)\"].values\n",
    "y_train_GES = Y_train[\"GHGEmissions(MetricTonsCO2e)\"].values\n",
    "y_test_NRJ = Y_test[\"SiteEnergyUseWN(kBtu)\"].values\n",
    "y_test_GES = Y_test[\"GHGEmissions(MetricTonsCO2e)\"].values\n",
    "print(f\"Nombre d'observation dans le train set {len(X_train)}\")\n",
    "print(f\"Nombre d'observation dans le test set {len(X_test)}\")"
   ]
  },
  {
   "cell_type": "markdown",
   "id": "20d9df1d",
   "metadata": {},
   "source": [
    "## Baseline\n",
    "### retournant la moyenne"
   ]
  },
  {
   "cell_type": "code",
   "execution_count": 6,
   "id": "c7ccbd7b",
   "metadata": {},
   "outputs": [
    {
     "name": "stdout",
     "output_type": "stream",
     "text": [
      "==================================================\n",
      "Consommation d'énergie\n",
      "==================================================\n",
      "Dummy mean : MAE = 4577332.189132216\n",
      "==================================================\n",
      "Emissions de GES\n",
      "==================================================\n",
      "Dummy mean : MAE = 98.86887343132794\n"
     ]
    }
   ],
   "source": [
    "print(\"=\"*50)\n",
    "print(\"Consommation d'énergie\")\n",
    "print(\"=\"*50)\n",
    "model_NRJ= dummy.DummyRegressor(strategy=\"mean\")\n",
    "model_NRJ.fit(X_train, y_train_NRJ)\n",
    "MAE_mean_NRJ = metrics.mean_absolute_error(y_train_NRJ, model_NRJ.predict(X_train))\n",
    "print(f\"Dummy mean : MAE = {MAE_mean_NRJ}\")\n",
    "\n",
    "print(\"=\"*50)\n",
    "print(\"Emissions de GES\")\n",
    "print(\"=\"*50)\n",
    "model_GES= dummy.DummyRegressor(strategy=\"mean\")\n",
    "model_GES.fit(X_train, y_train_GES)\n",
    "MAE_mean_GES = metrics.mean_absolute_error(y_train_GES, model_GES.predict(X_train))\n",
    "print(f\"Dummy mean : MAE = {MAE_mean_GES}\")"
   ]
  },
  {
   "cell_type": "markdown",
   "id": "1c7a758e",
   "metadata": {},
   "source": [
    "## retourant la médiane"
   ]
  },
  {
   "cell_type": "code",
   "execution_count": 7,
   "id": "6c049fd5",
   "metadata": {},
   "outputs": [
    {
     "name": "stdout",
     "output_type": "stream",
     "text": [
      "==================================================\n",
      "Consommation d'énergie\n",
      "==================================================\n",
      "Dummy mean : MAE = 3609291.83210897\n",
      "==================================================\n",
      "Emissions de GES\n",
      "==================================================\n",
      "Dummy mean : MAE = 79.55800286944046\n"
     ]
    }
   ],
   "source": [
    "print(\"=\"*50)\n",
    "print(\"Consommation d'énergie\")\n",
    "print(\"=\"*50)\n",
    "model_NRJ= dummy.DummyRegressor(strategy=\"median\")\n",
    "model_NRJ.fit(X_train, y_train_NRJ)\n",
    "MAE_med_NRJ = metrics.mean_absolute_error(y_train_NRJ, model_NRJ.predict(X_train))\n",
    "print(f\"Dummy mean : MAE = {MAE_med_NRJ}\")\n",
    "\n",
    "print(\"=\"*50)\n",
    "print(\"Emissions de GES\")\n",
    "print(\"=\"*50)\n",
    "model_GES= dummy.DummyRegressor(strategy=\"median\")\n",
    "model_GES.fit(X_train, y_train_GES)\n",
    "MAE_med_GES = metrics.mean_absolute_error(y_train_GES, model_GES.predict(X_train))\n",
    "print(f\"Dummy mean : MAE = {MAE_med_GES}\")"
   ]
  },
  {
   "cell_type": "markdown",
   "id": "9c9e7be0",
   "metadata": {},
   "source": [
    "## Classification des variables\n",
    "Pour plus de simplicité dans la suite du code, on va classer l'ensemble des variables en différents groupes en fonction du type des valeurs : \n",
    "- binaire\n",
    "- float\n",
    "- pourcentage"
   ]
  },
  {
   "cell_type": "code",
   "execution_count": 8,
   "id": "551384ce",
   "metadata": {},
   "outputs": [
    {
     "name": "stdout",
     "output_type": "stream",
     "text": [
      "[]\n"
     ]
    }
   ],
   "source": [
    "var_bin = ['Outlier','MainEnergySource_Electricity(%)', 'MainEnergySource_NaturalGas(%)', 'MainEnergySource_SteamUse(%)',\\\n",
    "          'Campus', 'Multifamily HR (10+)', 'Multifamily LR (1-4)', 'Multifamily MR (5-9)', 'NonResidential', \\\n",
    "           'Nonresidential COS', 'SPS-District K-12']\n",
    "var_float = [\"building_age\",'NumberofBuildings', 'NumberofFloors', 'PropertyGFATotal','PropertyGFAParking', 'PropertyGFABuilding(s)', \\\n",
    "            'Adult EducationGFA', 'Automobile DealershipGFA', 'Bank BranchGFA', 'Bar/NightclubGFA', 'College/UniversityGFA', \\\n",
    "             'Convenience Store without Gas StationGFA', 'Convention CenterGFA', 'CourthouseGFA', 'Data CenterGFA', \\\n",
    "             'Distribution CenterGFA', 'Enclosed MallGFA', 'Fast Food RestaurantGFA', 'Financial OfficeGFA', \\\n",
    "             'Fitness Center/Health Club/GymGFA', 'Food SalesGFA', 'Food ServiceGFA', \\\n",
    "             'Hospital (General Medical & Surgical)GFA', 'HotelGFA', 'K-12 SchoolGFA', 'LaboratoryGFA', 'LibraryGFA', \\\n",
    "             'Lifestyle CenterGFA', 'Manufacturing/Industrial PlantGFA','Medical OfficeGFA', 'Movie TheaterGFA', \\\n",
    "             'Multifamily HousingGFA', 'MuseumGFA', 'Non-Refrigerated WarehouseGFA', 'OfficeGFA', 'OtherGFA', \\\n",
    "             'Other - EducationGFA', 'Other - Entertainment/Public AssemblyGFA', 'Other - Lodging/ResidentialGFA', \\\n",
    "             'Other - MallGFA', 'Other - Public ServicesGFA', 'Other - RecreationGFA', 'Other - Restaurant/BarGFA', \\\n",
    "             'Other - ServicesGFA', 'Other - Technology/ScienceGFA', 'Other - UtilityGFA', 'Other/Specialty HospitalGFA', \\\n",
    "             'Outpatient Rehabilitation/Physical TherapyGFA', 'ParkingGFA', 'Performing ArtsGFA', \\\n",
    "             'Personal Services (Health/Beauty, Dry Cleaning, etc)GFA', 'Police StationGFA', 'Pre-school/DaycareGFA', \\\n",
    "             'Prison/IncarcerationGFA', 'Refrigerated WarehouseGFA', 'Repair Services (Vehicle, Shoe, Locksmith, etc)GFA', \\\n",
    "             'Residence Hall/DormitoryGFA', 'Residential Care FacilityGFA', 'RestaurantGFA', 'Retail StoreGFA', \\\n",
    "             'Self-Storage FacilityGFA', 'Senior Care CommunityGFA', 'Social/Meeting HallGFA', 'Strip MallGFA', \\\n",
    "             'Supermarket/Grocery StoreGFA', 'Swimming PoolGFA', 'Urgent Care/Clinic/Other OutpatientGFA', \\\n",
    "             'Vocational SchoolGFA', 'Wholesale Club/SupercenterGFA', 'Worship FacilityGFA']\n",
    "var_prct = ['ENERGYSTARScore','Electricity(%)', 'NaturalGas(%)', 'SteamUse(%)','OtherFuelUse(%)']\n",
    "print([col for col in X.columns if col not in var_bin+var_float+var_prct])"
   ]
  },
  {
   "cell_type": "markdown",
   "id": "d1b7f08b",
   "metadata": {},
   "source": [
    "Creation de différent niveau de test. A chaque niveau on ajoute plus de variables, pour essayer d'avoir les meilleurs résultats avec le minimum de variables\n",
    "- level 1 : le minimum de données \n",
    "    - YearBuild \n",
    "    - MainEnergySource_Electricity(%)', 'MainEnergySource_NaturalGas(%)', 'MainEnergySource_SteamUse(%)'\n",
    "    - 'NumberofBuildings', 'NumberofFloors', 'PropertyGFATotal','PropertyGFAParking', 'PropertyGFABuilding(s)'\n",
    "- level 2 : on ajoute le type d'immeuble et les superficies qui sont le plus corrélés aux variables à prédire\n",
    "    - level 1\n",
    "    - 'Campus', 'Multifamily HR (10+)', 'Multifamily LR (1-4)', 'Multifamily MR (5-9)', 'NonResidential', 'Nonresidential COS', 'SPS-District K-12'\n",
    "    - 'Data CenterGFA' 'Hospital (General Medical & Surgical)GFA', 'OfficeGFA', 'College/UniversityGFA' 'HotelGFA'\n",
    "- level 3 : on ajoute la proportion de chaque energie \n",
    "    - level 2\n",
    "    - 'Electricity(%)', 'NaturalGas(%)', 'SteamUse(%)','OtherFuelUse(%)'\n",
    "- level all : toute les variables"
   ]
  },
  {
   "cell_type": "code",
   "execution_count": 9,
   "id": "5615b666",
   "metadata": {},
   "outputs": [],
   "source": [
    "level1_col = [\"building_age\", 'MainEnergySource_Electricity(%)', 'MainEnergySource_NaturalGas(%)', \\\n",
    "              'MainEnergySource_SteamUse(%)', 'NumberofBuildings', 'NumberofFloors', 'PropertyGFATotal',\\\n",
    "              'PropertyGFAParking', 'PropertyGFABuilding(s)']\n",
    "level2_col = level1_col + ['Campus', 'Multifamily HR (10+)', 'Multifamily LR (1-4)', 'Multifamily MR (5-9)', \\\n",
    "                           'NonResidential', 'Nonresidential COS', 'SPS-District K-12', 'Data CenterGFA', \\\n",
    "                           'Hospital (General Medical & Surgical)GFA', 'OfficeGFA', 'College/UniversityGFA', 'HotelGFA']\n",
    "level3_col = level2_col + ['Electricity(%)', 'NaturalGas(%)', 'SteamUse(%)','OtherFuelUse(%)']"
   ]
  },
  {
   "cell_type": "markdown",
   "id": "1e1864dc",
   "metadata": {},
   "source": [
    "## selection des modèles à tester :\n",
    "on choisit différent types de modèles :\n",
    "- modèles linéaire :\n",
    "    - LinearRegression\n",
    "    - Ridge Regression\n",
    "    - Lasso Regression\n",
    "    - ElasticNet Regression\n",
    "    - Support vector machine Regression\n",
    "- KNN \n",
    "- des arbres de décision\n",
    "- des modèles non linéaires :\n",
    "    - Kernel Ridge Regression\n",
    "    - Kernel Support Vector machine\n",
    "- des méthodes ensemblistes :\n",
    "    - AdaBoost\n",
    "    - GBoost \n",
    "    - XGBoost\n",
    "    - random forest\n",
    "    \n",
    "les reseaux de neurones ont été testés, mais ne sont pas conservés ici compte tenu de la faible performance et du temps de calculs important nécessaire"
   ]
  },
  {
   "cell_type": "code",
   "execution_count": 10,
   "id": "4d6b800d",
   "metadata": {},
   "outputs": [],
   "source": [
    "models = []\n",
    "models.append(('LinReg', linear_model.LinearRegression()))\n",
    "models.append(('Ridge', linear_model.Ridge(max_iter=20000, tol=0.5)))\n",
    "models.append(('Lasso', linear_model.Lasso(max_iter=20000, tol=0.5)))\n",
    "models.append(('ElasticNet', linear_model.ElasticNet()))\n",
    "models.append(('KNN', neighbors.KNeighborsRegressor()))\n",
    "models.append(('Decision Tree', tree.DecisionTreeRegressor()))\n",
    "models.append(('Kernel Ridge', kernel_ridge.KernelRidge()))\n",
    "models.append(('Ker SVR', svm.SVR(kernel=\"rbf\")))\n",
    "models.append((\"Adaboost\", ensemble.AdaBoostRegressor()))\n",
    "models.append((\"GBoost\", ensemble.GradientBoostingRegressor()))\n",
    "models.append((\"XGBoost\", xgb.XGBRegressor()))\n",
    "models.append((\"RandomForest\", ensemble.RandomForestRegressor()))\n",
    "#models.append((\"Neural Network\", neural_network.MLPRegressor(max_iter=1000, tol=0.5)))\n",
    "# les réseaux de neurones sont retirés, ils sont long à fitter et les proformances sont médiocres dans ce cas\n",
    "names = [model[0] for model in models]"
   ]
  },
  {
   "cell_type": "markdown",
   "id": "614650a5",
   "metadata": {},
   "source": [
    "## option des entrainements"
   ]
  },
  {
   "cell_type": "code",
   "execution_count": 11,
   "id": "100bdac6",
   "metadata": {},
   "outputs": [],
   "source": [
    "seed = 42\n",
    "n_job=-1\n",
    "n_fold = 10\n",
    "scoring = \"neg_mean_absolute_error\""
   ]
  },
  {
   "cell_type": "markdown",
   "id": "48b31454",
   "metadata": {},
   "source": [
    "## test des modèles avec la précision niveau 1\n",
    "chaque modèle sera testé avec sans preprocessing, avec des données réduites centrées et avec des données passées au log\n",
    "### consommation d'énergie ; sans ENERGYSTARScore "
   ]
  },
  {
   "cell_type": "code",
   "execution_count": 12,
   "id": "58fd7f16",
   "metadata": {
    "scrolled": false
   },
   "outputs": [
    {
     "name": "stdout",
     "output_type": "stream",
     "text": [
      "--------------------\n",
      "Consommation d'énergie\n",
      "--------------------\n",
      "==================================================\n",
      "Level = 1 ; scaler = no ; EnergyStarScore = False\n",
      "==================================================\n",
      "LinReg         : -2.43426e+06 (4.50910e+05)\n",
      "Ridge          : -2.43378e+06 (4.53365e+05)\n",
      "Lasso          : -2.42916e+06 (4.31570e+05)\n",
      "ElasticNet     : -2.42446e+06 (4.51102e+05)\n",
      "KNN            : -2.47825e+06 (3.81346e+05)\n",
      "Decision Tree  : -1.62484e+06 (3.43083e+05)\n",
      "Kernel Ridge   : -2.42491e+06 (4.48447e+05)\n",
      "Ker SVR        : -3.60947e+06 (6.40614e+05)\n",
      "Adaboost       : -4.33630e+06 (2.73670e+06)\n",
      "GBoost         : -1.87955e+06 (3.48432e+05)\n",
      "XGBoost        : -1.59388e+06 (3.35727e+05)\n",
      "RandomForest   : -1.63650e+06 (3.42739e+05)\n",
      "==================================================\n",
      "Level = 1 ; scaler = std ; EnergyStarScore = False\n",
      "==================================================\n",
      "LinReg         : -2.43716e+06 (4.46437e+05)\n",
      "Ridge          : -2.43332e+06 (4.53285e+05)\n",
      "Lasso          : -2.46885e+06 (4.14142e+05)\n",
      "ElasticNet     : -2.40597e+06 (4.40135e+05)\n",
      "KNN            : -2.35812e+06 (4.32177e+05)\n",
      "Decision Tree  : -1.63167e+06 (3.32916e+05)\n",
      "Kernel Ridge   : -2.43124e+06 (4.52855e+05)\n",
      "Ker SVR        : -3.60953e+06 (6.40613e+05)\n",
      "Adaboost       : -3.38152e+06 (1.18258e+06)\n",
      "GBoost         : -1.88178e+06 (3.47088e+05)\n",
      "XGBoost        : -1.59463e+06 (3.37030e+05)\n",
      "RandomForest   : -1.64235e+06 (3.46420e+05)\n",
      "==================================================\n",
      "Level = 1 ; scaler = log ; EnergyStarScore = False\n",
      "==================================================\n",
      "LinReg         : -3.93016e+06 (3.91526e+05)\n",
      "Ridge          : -3.91663e+06 (3.90161e+05)\n",
      "Lasso          : -3.97628e+06 (3.81842e+05)\n",
      "ElasticNet     : -3.39073e+06 (4.98484e+05)\n",
      "KNN            : -2.20174e+06 (3.62598e+05)\n",
      "Decision Tree  : -1.60100e+06 (3.08938e+05)\n",
      "Kernel Ridge   : -3.59664e+06 (3.88766e+05)\n",
      "Ker SVR        : -3.60957e+06 (6.40613e+05)\n",
      "Adaboost       : -4.69411e+06 (2.62260e+06)\n",
      "GBoost         : -1.87845e+06 (3.41519e+05)\n",
      "XGBoost        : -1.59626e+06 (3.35276e+05)\n",
      "RandomForest   : -1.64710e+06 (3.50290e+05)\n"
     ]
    }
   ],
   "source": [
    "level = 1\n",
    "level_col = level1_col\n",
    "energystarscore = False\n",
    "y_train = y_train_NRJ\n",
    "\n",
    "var_float_level  = [col for col in level_col if col in var_float]\n",
    "var_bin_level = [col for col in level_col if col in var_bin]\n",
    "var_prct_level = [col for col in level_col if col in var_prct]\n",
    "\n",
    "x_train = X_train[level_col]\n",
    "#Energie\n",
    "print(\"-\"*20)\n",
    "print(\"Consommation d'énergie\")\n",
    "print(\"-\"*20)\n",
    "\n",
    "mean_train = np.mean(y_train)\n",
    "\n",
    "for norm in ['no', 'std', 'log'] :\n",
    "    print(\"=\"*50)\n",
    "    print(f\"Level = {level} ; scaler = {norm} ; EnergyStarScore = {energystarscore}\")\n",
    "    print(\"=\"*50)\n",
    "    preprocessor = My_preprocessing(float_cols=var_float_level, prct_cols=var_prct_level, binary_cols=var_bin_level, norm=norm)\n",
    "    preprocessor.fit(x_train)\n",
    "    x_train_scaled = preprocessor.transform(x_train)\n",
    "    for name, model in models:\n",
    "        kfold = model_selection.KFold(n_splits=n_fold, random_state=seed, shuffle=True)\n",
    "        cv_results = model_selection.cross_val_score(model, x_train_scaled, y_train, \\\n",
    "                                                         cv=kfold, scoring=scoring, n_jobs=n_job)\n",
    "        print(f\"{name:15s}: {cv_results.mean():.5e} ({cv_results.std():.5e})\")\n",
    "        result_NRJ = result_NRJ.append({\"model\" :name, \"scaler\": norm, \"EnergySoreStar\" : energystarscore,\\\n",
    "                                        'mean_score':cv_results.mean() , \"std\":cv_results.std(), \\\n",
    "                                        \"result_obj\": cv_results, \"level\":level}, ignore_index=True)"
   ]
  },
  {
   "cell_type": "markdown",
   "id": "4783350a",
   "metadata": {},
   "source": [
    "### Emission de GES ; sans ENERGYSTARScore "
   ]
  },
  {
   "cell_type": "code",
   "execution_count": 13,
   "id": "86260886",
   "metadata": {
    "scrolled": false
   },
   "outputs": [
    {
     "name": "stdout",
     "output_type": "stream",
     "text": [
      "--------------------\n",
      "Emission de GES\n",
      "--------------------\n",
      "==================================================\n",
      "Level = 1 ; scaler = no ; EnergyStarScore = False\n",
      "==================================================\n",
      "LinReg         : -77.561 (12.632)\n",
      "Ridge          : -77.428 (12.543)\n",
      "Lasso          : -73.456 (11.833)\n",
      "ElasticNet     : -76.187 (13.322)\n",
      "KNN            : -69.636 (14.804)\n",
      "Decision Tree  : -45.460 (12.341)\n",
      "Kernel Ridge   : -76.562 (12.538)\n",
      "Ker SVR        : -66.912 (15.900)\n",
      "Adaboost       : -100.648 (31.208)\n",
      "GBoost         : -50.762 (12.206)\n",
      "XGBoost        : -42.554 (11.969)\n",
      "RandomForest   : -44.225 (12.371)\n",
      "==================================================\n",
      "Level = 1 ; scaler = std ; EnergyStarScore = False\n",
      "==================================================\n",
      "LinReg         : -78.010 (11.806)\n",
      "Ridge          : -77.404 (12.541)\n",
      "Lasso          : -72.874 (11.896)\n",
      "ElasticNet     : -68.502 (13.157)\n",
      "KNN            : -59.351 (14.176)\n",
      "Decision Tree  : -46.119 (13.288)\n",
      "Kernel Ridge   : -77.313 (12.537)\n",
      "Ker SVR        : -61.633 (15.878)\n",
      "Adaboost       : -113.083 (21.506)\n",
      "GBoost         : -50.736 (12.026)\n",
      "XGBoost        : -42.619 (11.986)\n",
      "RandomForest   : -44.229 (12.548)\n",
      "==================================================\n",
      "Level = 1 ; scaler = log ; EnergyStarScore = False\n",
      "==================================================\n",
      "LinReg         : -89.940 (11.742)\n",
      "Ridge          : -89.679 (11.685)\n",
      "Lasso          : -88.637 (11.129)\n",
      "ElasticNet     : -78.123 (13.777)\n",
      "KNN            : -58.454 (12.307)\n",
      "Decision Tree  : -45.833 (13.432)\n",
      "Kernel Ridge   : -83.106 (12.205)\n",
      "Ker SVR        : -68.636 (16.239)\n",
      "Adaboost       : -117.054 (35.047)\n",
      "GBoost         : -50.589 (12.027)\n",
      "XGBoost        : -42.647 (11.907)\n",
      "RandomForest   : -44.427 (12.447)\n"
     ]
    }
   ],
   "source": [
    "level = 1\n",
    "level_col = level1_col\n",
    "energystarscore = False\n",
    "y_train = y_train_GES\n",
    "\n",
    "var_float_level  = [col for col in level_col if col in var_float]\n",
    "var_bin_level = [col for col in level_col if col in var_bin]\n",
    "var_prct_level = [col for col in level_col if col in var_prct]\n",
    "\n",
    "x_train = X_train[level_col]\n",
    "#Energie\n",
    "print(\"-\"*20)\n",
    "print(\"Emission de GES\")\n",
    "print(\"-\"*20)\n",
    "\n",
    "mean_train = np.mean(y_train)\n",
    "\n",
    "for norm in ['no', 'std', 'log'] :\n",
    "    print(\"=\"*50)\n",
    "    print(f\"Level = {level} ; scaler = {norm} ; EnergyStarScore = {energystarscore}\")\n",
    "    print(\"=\"*50)\n",
    "    preprocessor = My_preprocessing(float_cols=var_float_level, prct_cols=var_prct_level, binary_cols=var_bin_level, norm=norm)\n",
    "    preprocessor.fit(x_train)\n",
    "    x_train_scaled = preprocessor.transform(x_train)\n",
    "    for name, model in models:\n",
    "        kfold = model_selection.KFold(n_splits=n_fold, random_state=seed, shuffle=True)\n",
    "        cv_results = model_selection.cross_val_score(model, x_train_scaled, y_train, \\\n",
    "                                                         cv=kfold, scoring=scoring, n_jobs=n_job)\n",
    "        print(f\"{name:15s}: {cv_results.mean():.3f} ({cv_results.std():.3f})\")\n",
    "        result_GES = result_GES.append({\"model\" :name, \"scaler\": norm, \"EnergySoreStar\" : energystarscore,\\\n",
    "                                        'mean_score':cv_results.mean() , \"std\":cv_results.std(), \\\n",
    "                                        \"result_obj\": cv_results, \"level\":level}, ignore_index=True)"
   ]
  },
  {
   "cell_type": "markdown",
   "id": "77784c0b",
   "metadata": {},
   "source": [
    "## test des modèles avec la précision niveau 2\n",
    "chaque modèle sera testé avec sans preprocessing, avec des données réduites centrées et avec des données passées au log\n",
    "### consommation d'énergie ; sans ENERGYSTARScore "
   ]
  },
  {
   "cell_type": "code",
   "execution_count": 14,
   "id": "ccee7ee6",
   "metadata": {
    "scrolled": false
   },
   "outputs": [
    {
     "name": "stdout",
     "output_type": "stream",
     "text": [
      "--------------------\n",
      "Consommation d'énergie\n",
      "--------------------\n",
      "==================================================\n",
      "Level = 2 ; scaler = no ; EnergyStarScore = False\n",
      "==================================================\n",
      "LinReg         : -1.78149e+06 (2.29749e+05)\n",
      "Ridge          : -1.77980e+06 (2.29326e+05)\n",
      "Lasso          : -1.98368e+06 (2.54644e+05)\n",
      "ElasticNet     : -1.76304e+06 (2.30356e+05)\n",
      "KNN            : -2.08743e+06 (4.10347e+05)\n",
      "Decision Tree  : -1.30624e+06 (2.37757e+05)\n",
      "Kernel Ridge   : -1.77946e+06 (2.28266e+05)\n",
      "Ker SVR        : -3.60949e+06 (6.40614e+05)\n",
      "Adaboost       : -2.93349e+06 (3.32676e+05)\n",
      "GBoost         : -1.50676e+06 (2.12655e+05)\n",
      "XGBoost        : -1.31141e+06 (2.53619e+05)\n",
      "RandomForest   : -1.27561e+06 (2.42975e+05)\n",
      "==================================================\n",
      "Level = 2 ; scaler = std ; EnergyStarScore = False\n",
      "==================================================\n",
      "LinReg         : -1.78117e+06 (2.32903e+05)\n",
      "Ridge          : -1.77964e+06 (2.29055e+05)\n",
      "Lasso          : -1.98368e+06 (2.54643e+05)\n",
      "ElasticNet     : -1.94122e+06 (2.84545e+05)\n",
      "KNN            : -1.74234e+06 (3.50376e+05)\n",
      "Decision Tree  : -1.27922e+06 (1.74101e+05)\n",
      "Kernel Ridge   : -1.77923e+06 (2.29268e+05)\n",
      "Ker SVR        : -3.60954e+06 (6.40613e+05)\n",
      "Adaboost       : -3.04671e+06 (3.72762e+05)\n",
      "GBoost         : -1.49588e+06 (1.94224e+05)\n",
      "XGBoost        : -1.31059e+06 (2.53723e+05)\n",
      "RandomForest   : -1.28338e+06 (2.53899e+05)\n",
      "==================================================\n",
      "Level = 2 ; scaler = log ; EnergyStarScore = False\n",
      "==================================================\n",
      "LinReg         : -3.35991e+06 (4.01470e+05)\n",
      "Ridge          : -3.35299e+06 (4.00387e+05)\n",
      "Lasso          : -3.49706e+06 (4.03174e+05)\n",
      "ElasticNet     : -3.15878e+06 (4.79089e+05)\n",
      "KNN            : -1.87877e+06 (4.18186e+05)\n",
      "Decision Tree  : -1.27729e+06 (1.95763e+05)\n",
      "Kernel Ridge   : -3.17296e+06 (4.14301e+05)\n",
      "Ker SVR        : -3.60956e+06 (6.40613e+05)\n",
      "Adaboost       : -3.09341e+06 (3.51941e+05)\n",
      "GBoost         : -1.51001e+06 (2.07456e+05)\n",
      "XGBoost        : -1.31656e+06 (2.55893e+05)\n",
      "RandomForest   : -1.25998e+06 (2.30287e+05)\n"
     ]
    }
   ],
   "source": [
    "level = 2\n",
    "level_col = level2_col\n",
    "energystarscore = False\n",
    "y_train = y_train_NRJ\n",
    "\n",
    "var_float_level  = [col for col in level_col if col in var_float]\n",
    "var_bin_level = [col for col in level_col if col in var_bin]\n",
    "var_prct_level = [col for col in level_col if col in var_prct]\n",
    "\n",
    "x_train = X_train[level2_col]\n",
    "#Energie\n",
    "print(\"-\"*20)\n",
    "print(\"Consommation d'énergie\")\n",
    "print(\"-\"*20)\n",
    "\n",
    "mean_train = np.mean(y_train)\n",
    "\n",
    "for norm in ['no', 'std', 'log'] :\n",
    "    print(\"=\"*50)\n",
    "    print(f\"Level = {level} ; scaler = {norm} ; EnergyStarScore = {energystarscore}\")\n",
    "    print(\"=\"*50)\n",
    "    preprocessor = My_preprocessing(float_cols=var_float_level, prct_cols=var_prct_level, binary_cols=var_bin_level, norm=norm)\n",
    "    preprocessor.fit(x_train)\n",
    "    x_train_scaled = preprocessor.transform(x_train)\n",
    "    for name, model in models:\n",
    "        kfold = model_selection.KFold(n_splits=n_fold, random_state=seed, shuffle=True)\n",
    "        cv_results = model_selection.cross_val_score(model, x_train_scaled, y_train, \\\n",
    "                                                         cv=kfold, scoring=scoring, n_jobs=n_job)\n",
    "        print(f\"{name:15s}: {cv_results.mean():.5e} ({cv_results.std():.5e})\")\n",
    "        result_NRJ = result_NRJ.append({\"model\" :name, \"scaler\": norm, \"EnergySoreStar\" : energystarscore,\\\n",
    "                                        'mean_score':cv_results.mean() , \"std\":cv_results.std(), \\\n",
    "                                        \"result_obj\": cv_results, \"level\":level}, ignore_index=True)"
   ]
  },
  {
   "cell_type": "markdown",
   "id": "c2b60b90",
   "metadata": {},
   "source": [
    "### Emission de GES ; sans ENERGYSTARScore "
   ]
  },
  {
   "cell_type": "code",
   "execution_count": 15,
   "id": "37b6537a",
   "metadata": {
    "scrolled": false
   },
   "outputs": [
    {
     "name": "stdout",
     "output_type": "stream",
     "text": [
      "--------------------\n",
      "Emission de GES\n",
      "--------------------\n",
      "==================================================\n",
      "Level = 2 ; scaler = no ; EnergyStarScore = False\n",
      "==================================================\n",
      "LinReg         : -50.834 (7.089)\n",
      "Ridge          : -50.793 (7.090)\n",
      "Lasso          : -51.348 (7.174)\n",
      "ElasticNet     : -51.216 (7.726)\n",
      "KNN            : -60.720 (12.029)\n",
      "Decision Tree  : -36.374 (8.291)\n",
      "Kernel Ridge   : -50.788 (7.129)\n",
      "Ker SVR        : -66.602 (15.851)\n",
      "Adaboost       : -154.116 (32.937)\n",
      "GBoost         : -42.808 (7.867)\n",
      "XGBoost        : -35.846 (8.107)\n",
      "RandomForest   : -36.623 (8.692)\n",
      "==================================================\n",
      "Level = 2 ; scaler = std ; EnergyStarScore = False\n",
      "==================================================\n",
      "LinReg         : -50.872 (7.315)\n",
      "Ridge          : -50.782 (7.084)\n",
      "Lasso          : -51.280 (7.313)\n",
      "ElasticNet     : -55.260 (9.443)\n",
      "KNN            : -45.383 (10.675)\n",
      "Decision Tree  : -37.454 (9.169)\n",
      "Kernel Ridge   : -50.751 (7.094)\n",
      "Ker SVR        : -60.917 (15.750)\n",
      "Adaboost       : -172.575 (27.203)\n",
      "GBoost         : -42.880 (8.155)\n",
      "XGBoost        : -35.831 (8.122)\n",
      "RandomForest   : -36.528 (9.108)\n",
      "==================================================\n",
      "Level = 2 ; scaler = log ; EnergyStarScore = False\n",
      "==================================================\n",
      "LinReg         : -78.247 (10.927)\n",
      "Ridge          : -78.128 (10.872)\n",
      "Lasso          : -79.877 (10.630)\n",
      "ElasticNet     : -73.316 (12.984)\n",
      "KNN            : -48.401 (10.310)\n",
      "Decision Tree  : -36.875 (9.007)\n",
      "Kernel Ridge   : -73.950 (11.372)\n",
      "Ker SVR        : -68.654 (16.075)\n",
      "Adaboost       : -159.015 (33.665)\n",
      "GBoost         : -41.596 (7.166)\n",
      "XGBoost        : -35.762 (8.001)\n",
      "RandomForest   : -34.966 (8.424)\n"
     ]
    }
   ],
   "source": [
    "level = 2\n",
    "level_col = level2_col\n",
    "energystarscore = False\n",
    "y_train = y_train_GES\n",
    "\n",
    "var_float_level  = [col for col in level_col if col in var_float]\n",
    "var_bin_level = [col for col in level_col if col in var_bin]\n",
    "var_prct_level = [col for col in level_col if col in var_prct]\n",
    "\n",
    "x_train = X_train[level2_col]\n",
    "#Energie\n",
    "print(\"-\"*20)\n",
    "print(\"Emission de GES\")\n",
    "print(\"-\"*20)\n",
    "\n",
    "mean_train = np.mean(y_train)\n",
    "\n",
    "for norm in ['no', 'std', 'log'] :\n",
    "    print(\"=\"*50)\n",
    "    print(f\"Level = {level} ; scaler = {norm} ; EnergyStarScore = {energystarscore}\")\n",
    "    print(\"=\"*50)\n",
    "    preprocessor = My_preprocessing(float_cols=var_float_level, prct_cols=var_prct_level, binary_cols=var_bin_level, norm=norm)\n",
    "    preprocessor.fit(x_train)\n",
    "    x_train_scaled = preprocessor.transform(x_train)\n",
    "    for name, model in models:\n",
    "        kfold = model_selection.KFold(n_splits=n_fold, random_state=seed, shuffle=True)\n",
    "        cv_results = model_selection.cross_val_score(model, x_train_scaled, y_train, \\\n",
    "                                                         cv=kfold, scoring=scoring, n_jobs=n_job)\n",
    "        print(f\"{name:15s}: {cv_results.mean():.3f} ({cv_results.std():.3f})\")\n",
    "        result_GES = result_GES.append({\"model\" :name, \"scaler\": norm, \"EnergySoreStar\" : energystarscore,\\\n",
    "                                        'mean_score':cv_results.mean() , \"std\":cv_results.std(), \\\n",
    "                                        \"result_obj\": cv_results, \"level\":level}, ignore_index=True)"
   ]
  },
  {
   "cell_type": "markdown",
   "id": "57a95622",
   "metadata": {},
   "source": [
    "## test des modèles avec la précision niveau 3\n",
    "chaque modèle sera testé avec sans preprocessing, avec des données réduites centrées et avec des données passées au log\n",
    "### consommation d'énergie ; sans ENERGYSTARScore "
   ]
  },
  {
   "cell_type": "code",
   "execution_count": 16,
   "id": "fea87de2",
   "metadata": {
    "scrolled": false
   },
   "outputs": [
    {
     "name": "stdout",
     "output_type": "stream",
     "text": [
      "--------------------\n",
      "Consommation d'énergie\n",
      "--------------------\n",
      "==================================================\n",
      "Level = 3 ; scaler = no ; EnergyStarScore = False\n",
      "==================================================\n",
      "LinReg         : -1.79937e+06 (2.47090e+05)\n",
      "Ridge          : -1.78430e+06 (2.26899e+05)\n",
      "Lasso          : -2.13083e+06 (2.83027e+05)\n",
      "ElasticNet     : -1.74767e+06 (2.30356e+05)\n",
      "KNN            : -2.08748e+06 (4.10298e+05)\n",
      "Decision Tree  : -1.45759e+06 (2.74806e+05)\n",
      "Kernel Ridge   : -1.78127e+06 (2.27958e+05)\n",
      "Ker SVR        : -3.60949e+06 (6.40614e+05)\n",
      "Adaboost       : -3.00495e+06 (3.44318e+05)\n",
      "GBoost         : -1.49625e+06 (2.16809e+05)\n",
      "XGBoost        : -1.28336e+06 (2.72449e+05)\n",
      "RandomForest   : -1.27806e+06 (2.39746e+05)\n",
      "==================================================\n",
      "Level = 3 ; scaler = std ; EnergyStarScore = False\n",
      "==================================================\n",
      "LinReg         : -1.79670e+06 (2.48663e+05)\n",
      "Ridge          : -1.78414e+06 (2.26629e+05)\n",
      "Lasso          : -2.13083e+06 (2.83027e+05)\n",
      "ElasticNet     : -1.92371e+06 (2.85210e+05)\n",
      "KNN            : -1.72094e+06 (3.49723e+05)\n",
      "Decision Tree  : -1.40740e+06 (1.39370e+05)\n",
      "Kernel Ridge   : -1.78334e+06 (2.26806e+05)\n",
      "Ker SVR        : -3.60954e+06 (6.40613e+05)\n",
      "Adaboost       : -3.01624e+06 (2.74772e+05)\n",
      "GBoost         : -1.50748e+06 (2.31361e+05)\n",
      "XGBoost        : -1.28358e+06 (2.72718e+05)\n",
      "RandomForest   : -1.26702e+06 (2.39528e+05)\n",
      "==================================================\n",
      "Level = 3 ; scaler = log ; EnergyStarScore = False\n",
      "==================================================\n",
      "LinReg         : -3.38095e+06 (4.02348e+05)\n",
      "Ridge          : -3.35402e+06 (3.95990e+05)\n",
      "Lasso          : -3.51717e+06 (4.09789e+05)\n",
      "ElasticNet     : -3.14301e+06 (4.79118e+05)\n",
      "KNN            : -1.85822e+06 (4.24739e+05)\n",
      "Decision Tree  : -1.45106e+06 (2.38104e+05)\n",
      "Kernel Ridge   : -3.23227e+06 (4.01168e+05)\n",
      "Ker SVR        : -3.60956e+06 (6.40613e+05)\n",
      "Adaboost       : -3.19121e+06 (3.65657e+05)\n",
      "GBoost         : -1.50370e+06 (2.12522e+05)\n",
      "XGBoost        : -1.28584e+06 (2.72055e+05)\n",
      "RandomForest   : -1.25260e+06 (2.32555e+05)\n"
     ]
    }
   ],
   "source": [
    "level = 3\n",
    "level_col = level3_col\n",
    "energystarscore = False\n",
    "y_train = y_train_NRJ\n",
    "\n",
    "var_float_level  = [col for col in level_col if col in var_float]\n",
    "var_bin_level = [col for col in level_col if col in var_bin]\n",
    "var_prct_level = [col for col in level_col if col in var_prct]\n",
    "\n",
    "x_train = X_train[level3_col]\n",
    "#Energie\n",
    "print(\"-\"*20)\n",
    "print(\"Consommation d'énergie\")\n",
    "print(\"-\"*20)\n",
    "\n",
    "mean_train = np.mean(y_train)\n",
    "\n",
    "for norm in ['no', 'std', 'log'] :\n",
    "    print(\"=\"*50)\n",
    "    print(f\"Level = {level} ; scaler = {norm} ; EnergyStarScore = {energystarscore}\")\n",
    "    print(\"=\"*50)\n",
    "    preprocessor = My_preprocessing(float_cols=var_float_level, prct_cols=var_prct_level, binary_cols=var_bin_level, norm=norm)\n",
    "    preprocessor.fit(x_train)\n",
    "    x_train_scaled = preprocessor.transform(x_train)\n",
    "    for name, model in models:\n",
    "        kfold = model_selection.KFold(n_splits=n_fold, random_state=seed, shuffle=True)\n",
    "        cv_results = model_selection.cross_val_score(model, x_train_scaled, y_train, \\\n",
    "                                                         cv=kfold, scoring=scoring, n_jobs=n_job)\n",
    "        print(f\"{name:15s}: {cv_results.mean():.5e} ({cv_results.std():.5e})\")\n",
    "        result_NRJ = result_NRJ.append({\"model\" :name, \"scaler\": norm, \"EnergySoreStar\" : energystarscore,\\\n",
    "                                        'mean_score':cv_results.mean() , \"std\":cv_results.std(), \\\n",
    "                                        \"result_obj\": cv_results, \"level\":level}, ignore_index=True)"
   ]
  },
  {
   "cell_type": "markdown",
   "id": "49122675",
   "metadata": {},
   "source": [
    "### Emission de GES ; sans ENERGYSTARScore "
   ]
  },
  {
   "cell_type": "code",
   "execution_count": 17,
   "id": "ad51d759",
   "metadata": {
    "scrolled": false
   },
   "outputs": [
    {
     "name": "stdout",
     "output_type": "stream",
     "text": [
      "--------------------\n",
      "Emission de GES\n",
      "--------------------\n",
      "==================================================\n",
      "Level = 3 ; scaler = no ; EnergyStarScore = False\n",
      "==================================================\n",
      "LinReg         : -49.239 (7.414)\n",
      "Ridge          : -48.912 (7.244)\n",
      "Lasso          : -50.150 (7.154)\n",
      "ElasticNet     : -49.483 (7.664)\n",
      "KNN            : -60.724 (12.027)\n",
      "Decision Tree  : -32.475 (8.630)\n",
      "Kernel Ridge   : -48.859 (7.245)\n",
      "Ker SVR        : -66.606 (15.851)\n",
      "Adaboost       : -188.170 (41.167)\n",
      "GBoost         : -33.419 (7.820)\n",
      "XGBoost        : -28.811 (8.573)\n",
      "RandomForest   : -28.362 (8.379)\n",
      "==================================================\n",
      "Level = 3 ; scaler = std ; EnergyStarScore = False\n",
      "==================================================\n",
      "LinReg         : -49.182 (7.568)\n",
      "Ridge          : -48.901 (7.237)\n",
      "Lasso          : -50.068 (7.445)\n",
      "ElasticNet     : -52.882 (9.438)\n",
      "KNN            : -40.712 (10.668)\n",
      "Decision Tree  : -32.341 (9.158)\n",
      "Kernel Ridge   : -48.823 (7.238)\n",
      "Ker SVR        : -58.071 (15.893)\n",
      "Adaboost       : -183.671 (37.027)\n",
      "GBoost         : -33.524 (7.986)\n",
      "XGBoost        : -28.805 (8.572)\n",
      "RandomForest   : -28.362 (8.623)\n",
      "==================================================\n",
      "Level = 3 ; scaler = log ; EnergyStarScore = False\n",
      "==================================================\n",
      "LinReg         : -76.228 (10.267)\n",
      "Ridge          : -75.641 (10.077)\n",
      "Lasso          : -78.716 (10.170)\n",
      "ElasticNet     : -71.078 (13.062)\n",
      "KNN            : -41.560 (10.510)\n",
      "Decision Tree  : -31.992 (8.586)\n",
      "Kernel Ridge   : -73.418 (10.217)\n",
      "Ker SVR        : -65.291 (16.172)\n",
      "Adaboost       : -204.797 (43.913)\n",
      "GBoost         : -32.712 (6.913)\n",
      "XGBoost        : -28.869 (8.523)\n",
      "RandomForest   : -27.465 (7.807)\n"
     ]
    }
   ],
   "source": [
    "level = 3\n",
    "level_col = level3_col\n",
    "energystarscore = False\n",
    "y_train = y_train_GES\n",
    "\n",
    "var_float_level  = [col for col in level_col if col in var_float]\n",
    "var_bin_level = [col for col in level_col if col in var_bin]\n",
    "var_prct_level = [col for col in level_col if col in var_prct]\n",
    "\n",
    "x_train = X_train[level3_col]\n",
    "#Energie\n",
    "print(\"-\"*20)\n",
    "print(\"Emission de GES\")\n",
    "print(\"-\"*20)\n",
    "\n",
    "mean_train = np.mean(y_train)\n",
    "\n",
    "for norm in ['no', 'std', 'log'] :\n",
    "    print(\"=\"*50)\n",
    "    print(f\"Level = {level} ; scaler = {norm} ; EnergyStarScore = {energystarscore}\")\n",
    "    print(\"=\"*50)\n",
    "    preprocessor = My_preprocessing(float_cols=var_float_level, prct_cols=var_prct_level, binary_cols=var_bin_level, norm=norm)\n",
    "    preprocessor.fit(x_train)\n",
    "    x_train_scaled = preprocessor.transform(x_train)\n",
    "    for name, model in models:\n",
    "        kfold = model_selection.KFold(n_splits=n_fold, random_state=seed, shuffle=True)\n",
    "        cv_results = model_selection.cross_val_score(model, x_train_scaled, y_train, \\\n",
    "                                                         cv=kfold, scoring=scoring, n_jobs=n_job)\n",
    "        print(f\"{name:15s}: {cv_results.mean():.3f} ({cv_results.std():.3f})\")\n",
    "        result_GES = result_GES.append({\"model\" :name, \"scaler\": norm, \"EnergySoreStar\" : energystarscore,\\\n",
    "                                        'mean_score':cv_results.mean() , \"std\":cv_results.std(), \\\n",
    "                                        \"result_obj\": cv_results, \"level\":level}, ignore_index=True)"
   ]
  },
  {
   "cell_type": "markdown",
   "id": "5596be01",
   "metadata": {},
   "source": [
    "## test des modèles avec toutes les variables\n",
    "chaque modèle sera testé avec sans preprocessing, avec des données réduites centrées et avec des données passées au log\n",
    "### consommation d'énergie ; sans ENERGYSTARScore "
   ]
  },
  {
   "cell_type": "code",
   "execution_count": 18,
   "id": "690d8c30",
   "metadata": {
    "scrolled": false
   },
   "outputs": [
    {
     "name": "stdout",
     "output_type": "stream",
     "text": [
      "--------------------\n",
      "Consommation d'énergie\n",
      "--------------------\n",
      "==================================================\n",
      "Level = all ; scaler = no ; EnergyStarScore = False\n",
      "==================================================\n",
      "LinReg         : -5.59386e+12 (1.19710e+13)\n",
      "Ridge          : -1.48167e+06 (2.57529e+05)\n",
      "Lasso          : -1.94713e+06 (2.99341e+05)\n",
      "ElasticNet     : -1.46886e+06 (2.35732e+05)\n",
      "KNN            : -1.81905e+06 (4.34693e+05)\n",
      "Decision Tree  : -1.14794e+06 (2.74123e+05)\n",
      "Kernel Ridge   : -1.47974e+06 (2.55977e+05)\n",
      "Ker SVR        : -3.60950e+06 (6.40614e+05)\n",
      "Adaboost       : -3.08781e+06 (4.91142e+05)\n",
      "GBoost         : -1.16820e+06 (2.05425e+05)\n",
      "XGBoost        : -9.44027e+05 (2.07567e+05)\n",
      "RandomForest   : -9.73373e+05 (2.87665e+05)\n",
      "==================================================\n",
      "Level = all ; scaler = std ; EnergyStarScore = False\n",
      "==================================================\n",
      "LinReg         : -3.22303e+13 (8.58377e+13)\n",
      "Ridge          : -1.47053e+06 (2.45036e+05)\n",
      "Lasso          : -1.94710e+06 (2.99328e+05)\n",
      "ElasticNet     : -1.64888e+06 (2.49966e+05)\n",
      "KNN            : -2.52537e+06 (5.18343e+05)\n",
      "Decision Tree  : -1.18827e+06 (3.19560e+05)\n",
      "Kernel Ridge   : -1.47044e+06 (2.44894e+05)\n",
      "Ker SVR        : -3.60957e+06 (6.40617e+05)\n",
      "Adaboost       : -3.00101e+06 (2.72674e+05)\n",
      "GBoost         : -1.16452e+06 (2.00004e+05)\n",
      "XGBoost        : -9.44456e+05 (2.07937e+05)\n",
      "RandomForest   : -9.90321e+05 (3.01761e+05)\n",
      "==================================================\n",
      "Level = all ; scaler = log ; EnergyStarScore = False\n",
      "==================================================\n",
      "LinReg         : -3.26332e+06 (4.10256e+05)\n",
      "Ridge          : -3.28276e+06 (3.90360e+05)\n",
      "Lasso          : -3.38507e+06 (4.00315e+05)\n",
      "ElasticNet     : -3.14836e+06 (4.74895e+05)\n",
      "KNN            : -3.12918e+06 (5.72326e+05)\n",
      "Decision Tree  : -1.10833e+06 (2.12145e+05)\n",
      "Kernel Ridge   : -3.28248e+06 (3.90397e+05)\n",
      "Ker SVR        : -3.60957e+06 (6.40617e+05)\n",
      "Adaboost       : -3.00495e+06 (3.88783e+05)\n",
      "GBoost         : -1.15893e+06 (1.89254e+05)\n",
      "XGBoost        : -9.50081e+05 (2.09395e+05)\n",
      "RandomForest   : -9.87111e+05 (3.00660e+05)\n"
     ]
    }
   ],
   "source": [
    "level = \"all\"\n",
    "level_col = X_train.columns\n",
    "energystarscore = False\n",
    "y_train = y_train_NRJ\n",
    "\n",
    "var_float_level  = var_float\n",
    "var_bin_level = var_bin\n",
    "var_prct_level = var_bin\n",
    "\n",
    "x_train = X_train\n",
    "#Energie\n",
    "print(\"-\"*20)\n",
    "print(\"Consommation d'énergie\")\n",
    "print(\"-\"*20)\n",
    "\n",
    "mean_train = np.mean(y_train)\n",
    "\n",
    "for norm in ['no', 'std', 'log'] :\n",
    "    print(\"=\"*50)\n",
    "    print(f\"Level = {level} ; scaler = {norm} ; EnergyStarScore = {energystarscore}\")\n",
    "    print(\"=\"*50)\n",
    "    preprocessor = My_preprocessing(float_cols=var_float_level, prct_cols=var_prct_level, binary_cols=var_bin_level, norm=norm)\n",
    "    preprocessor.fit(x_train)\n",
    "    x_train_scaled = preprocessor.transform(x_train)\n",
    "    for name, model in models:\n",
    "        kfold = model_selection.KFold(n_splits=n_fold, random_state=seed, shuffle=True)\n",
    "        cv_results = model_selection.cross_val_score(model, x_train_scaled, y_train, \\\n",
    "                                                         cv=kfold, scoring=scoring, n_jobs=n_job)\n",
    "        print(f\"{name:15s}: {cv_results.mean():.5e} ({cv_results.std():.5e})\")\n",
    "        result_NRJ = result_NRJ.append({\"model\" :name, \"scaler\": norm, \"EnergySoreStar\" : energystarscore,\\\n",
    "                                        'mean_score':cv_results.mean() , \"std\":cv_results.std(), \\\n",
    "                                        \"result_obj\": cv_results, \"level\":level}, ignore_index=True)"
   ]
  },
  {
   "cell_type": "markdown",
   "id": "28979358",
   "metadata": {},
   "source": [
    "### Emission de GES ; sans ENERGYSTARScore "
   ]
  },
  {
   "cell_type": "code",
   "execution_count": 19,
   "id": "848ffca8",
   "metadata": {
    "scrolled": false
   },
   "outputs": [
    {
     "name": "stdout",
     "output_type": "stream",
     "text": [
      "--------------------\n",
      "Emission de GES\n",
      "--------------------\n",
      "==================================================\n",
      "Level = all ; scaler = no ; EnergyStarScore = False\n",
      "==================================================\n",
      "LinReg         : -185457741.129 (371256245.623)\n",
      "Ridge          : -44.837 (6.192)\n",
      "Lasso          : -46.847 (6.265)\n",
      "ElasticNet     : -44.713 (5.912)\n",
      "KNN            : -56.406 (11.893)\n",
      "Decision Tree  : -27.427 (9.441)\n",
      "Kernel Ridge   : -44.818 (6.173)\n",
      "Ker SVR        : -65.865 (15.804)\n",
      "Adaboost       : -203.780 (29.043)\n",
      "GBoost         : -27.681 (7.055)\n",
      "XGBoost        : -20.731 (7.146)\n",
      "RandomForest   : -22.809 (8.254)\n",
      "==================================================\n",
      "Level = all ; scaler = std ; EnergyStarScore = False\n",
      "==================================================\n",
      "LinReg         : -1487335536.345 (2959145932.916)\n",
      "Ridge          : -44.468 (5.731)\n",
      "Lasso          : -49.646 (5.631)\n",
      "ElasticNet     : -49.202 (7.714)\n",
      "KNN            : -54.169 (15.867)\n",
      "Decision Tree  : -27.361 (9.352)\n",
      "Kernel Ridge   : -44.469 (5.732)\n",
      "Ker SVR        : -67.735 (17.002)\n",
      "Adaboost       : -201.614 (43.561)\n",
      "GBoost         : -27.595 (7.193)\n",
      "XGBoost        : -20.731 (7.144)\n",
      "RandomForest   : -22.555 (8.513)\n",
      "==================================================\n",
      "Level = all ; scaler = log ; EnergyStarScore = False\n",
      "==================================================\n",
      "LinReg         : -73.533 (9.837)\n",
      "Ridge          : -72.969 (9.748)\n",
      "Lasso          : -73.457 (9.713)\n",
      "ElasticNet     : -71.099 (12.551)\n",
      "KNN            : -64.256 (14.961)\n",
      "Decision Tree  : -26.788 (9.378)\n",
      "Kernel Ridge   : -72.966 (9.748)\n",
      "Ker SVR        : -67.625 (16.989)\n",
      "Adaboost       : -203.760 (45.953)\n",
      "GBoost         : -26.484 (6.016)\n",
      "XGBoost        : -20.782 (7.054)\n",
      "RandomForest   : -21.791 (7.998)\n"
     ]
    }
   ],
   "source": [
    "level = \"all\"\n",
    "level_col = X_train.columns\n",
    "energystarscore = False\n",
    "y_train = y_train_GES\n",
    "\n",
    "var_float_level  = var_float\n",
    "var_bin_level = var_bin\n",
    "var_prct_level = var_bin\n",
    "\n",
    "x_train = X_train\n",
    "print(\"-\"*20)\n",
    "print(\"Emission de GES\")\n",
    "print(\"-\"*20)\n",
    "\n",
    "mean_train = np.mean(y_train)\n",
    "\n",
    "for norm in ['no', 'std', 'log'] :\n",
    "    print(\"=\"*50)\n",
    "    print(f\"Level = {level} ; scaler = {norm} ; EnergyStarScore = {energystarscore}\")\n",
    "    print(\"=\"*50)\n",
    "    preprocessor = My_preprocessing(float_cols=var_float_level, prct_cols=var_prct_level, binary_cols=var_bin_level, norm=norm)\n",
    "    preprocessor.fit(x_train)\n",
    "    x_train_scaled = preprocessor.transform(x_train)\n",
    "    for name, model in models:\n",
    "        kfold = model_selection.KFold(n_splits=n_fold, random_state=seed, shuffle=True)\n",
    "        cv_results = model_selection.cross_val_score(model, x_train_scaled, y_train, \\\n",
    "                                                         cv=kfold, scoring=scoring, n_jobs=n_job)\n",
    "        print(f\"{name:15s}: {cv_results.mean():.3f} ({cv_results.std():.3f})\")\n",
    "        result_GES = result_GES.append({\"model\" :name, \"scaler\": norm, \"EnergySoreStar\" : energystarscore,\\\n",
    "                                        'mean_score':cv_results.mean() , \"std\":cv_results.std(), \\\n",
    "                                        \"result_obj\": cv_results, \"level\":level}, ignore_index=True)"
   ]
  },
  {
   "cell_type": "markdown",
   "id": "a3e8b99f",
   "metadata": {},
   "source": [
    "## Représentation des résultats\n",
    "Une fois l'ensemble des modèles testés, on va représenter les résultats afin d'identifier les modèles les plus performants sur le différents jeu de données\n",
    "### Consommation d'énergie"
   ]
  },
  {
   "cell_type": "code",
   "execution_count": 20,
   "id": "c81b4220",
   "metadata": {
    "scrolled": true
   },
   "outputs": [
    {
     "data": {
      "text/html": [
       "<div>\n",
       "<style scoped>\n",
       "    .dataframe tbody tr th:only-of-type {\n",
       "        vertical-align: middle;\n",
       "    }\n",
       "\n",
       "    .dataframe tbody tr th {\n",
       "        vertical-align: top;\n",
       "    }\n",
       "\n",
       "    .dataframe thead th {\n",
       "        text-align: right;\n",
       "    }\n",
       "</style>\n",
       "<table border=\"1\" class=\"dataframe\">\n",
       "  <thead>\n",
       "    <tr style=\"text-align: right;\">\n",
       "      <th></th>\n",
       "      <th>model</th>\n",
       "      <th>scaler</th>\n",
       "      <th>EnergySoreStar</th>\n",
       "      <th>mean_score</th>\n",
       "      <th>std</th>\n",
       "      <th>result_obj</th>\n",
       "      <th>level</th>\n",
       "    </tr>\n",
       "  </thead>\n",
       "  <tbody>\n",
       "    <tr>\n",
       "      <th>0</th>\n",
       "      <td>LinReg</td>\n",
       "      <td>no</td>\n",
       "      <td>False</td>\n",
       "      <td>-2.434261e+06</td>\n",
       "      <td>450909.984068</td>\n",
       "      <td>[-3151269.6453865743, -2429005.5011538966, -31...</td>\n",
       "      <td>1</td>\n",
       "    </tr>\n",
       "    <tr>\n",
       "      <th>1</th>\n",
       "      <td>Ridge</td>\n",
       "      <td>no</td>\n",
       "      <td>False</td>\n",
       "      <td>-2.433780e+06</td>\n",
       "      <td>453365.480798</td>\n",
       "      <td>[-3164356.3397800825, -2430021.7932218937, -31...</td>\n",
       "      <td>1</td>\n",
       "    </tr>\n",
       "    <tr>\n",
       "      <th>2</th>\n",
       "      <td>Lasso</td>\n",
       "      <td>no</td>\n",
       "      <td>False</td>\n",
       "      <td>-2.429160e+06</td>\n",
       "      <td>431570.226539</td>\n",
       "      <td>[-3127888.531665885, -2461626.140282048, -2969...</td>\n",
       "      <td>1</td>\n",
       "    </tr>\n",
       "    <tr>\n",
       "      <th>3</th>\n",
       "      <td>ElasticNet</td>\n",
       "      <td>no</td>\n",
       "      <td>False</td>\n",
       "      <td>-2.424456e+06</td>\n",
       "      <td>451101.741336</td>\n",
       "      <td>[-3159554.5714867422, -2454763.81472168, -3073...</td>\n",
       "      <td>1</td>\n",
       "    </tr>\n",
       "    <tr>\n",
       "      <th>4</th>\n",
       "      <td>KNN</td>\n",
       "      <td>no</td>\n",
       "      <td>False</td>\n",
       "      <td>-2.478248e+06</td>\n",
       "      <td>381346.420779</td>\n",
       "      <td>[-2845464.5859977077, -2781263.442549169, -308...</td>\n",
       "      <td>1</td>\n",
       "    </tr>\n",
       "    <tr>\n",
       "      <th>...</th>\n",
       "      <td>...</td>\n",
       "      <td>...</td>\n",
       "      <td>...</td>\n",
       "      <td>...</td>\n",
       "      <td>...</td>\n",
       "      <td>...</td>\n",
       "      <td>...</td>\n",
       "    </tr>\n",
       "    <tr>\n",
       "      <th>139</th>\n",
       "      <td>Ker SVR</td>\n",
       "      <td>log</td>\n",
       "      <td>False</td>\n",
       "      <td>-3.609573e+06</td>\n",
       "      <td>640617.255255</td>\n",
       "      <td>[-4153741.823801981, -4288679.112947691, -4653...</td>\n",
       "      <td>all</td>\n",
       "    </tr>\n",
       "    <tr>\n",
       "      <th>140</th>\n",
       "      <td>Adaboost</td>\n",
       "      <td>log</td>\n",
       "      <td>False</td>\n",
       "      <td>-3.004946e+06</td>\n",
       "      <td>388783.410140</td>\n",
       "      <td>[-3015126.575732393, -2713166.9850469693, -312...</td>\n",
       "      <td>all</td>\n",
       "    </tr>\n",
       "    <tr>\n",
       "      <th>141</th>\n",
       "      <td>GBoost</td>\n",
       "      <td>log</td>\n",
       "      <td>False</td>\n",
       "      <td>-1.158927e+06</td>\n",
       "      <td>189254.410571</td>\n",
       "      <td>[-1328467.4522258076, -1286590.7713645983, -13...</td>\n",
       "      <td>all</td>\n",
       "    </tr>\n",
       "    <tr>\n",
       "      <th>142</th>\n",
       "      <td>XGBoost</td>\n",
       "      <td>log</td>\n",
       "      <td>False</td>\n",
       "      <td>-9.500807e+05</td>\n",
       "      <td>209395.440974</td>\n",
       "      <td>[-1106836.5749559326, -1250854.4544232092, -10...</td>\n",
       "      <td>all</td>\n",
       "    </tr>\n",
       "    <tr>\n",
       "      <th>143</th>\n",
       "      <td>RandomForest</td>\n",
       "      <td>log</td>\n",
       "      <td>False</td>\n",
       "      <td>-9.871111e+05</td>\n",
       "      <td>300660.498544</td>\n",
       "      <td>[-1475313.1257162378, -1324586.938002122, -127...</td>\n",
       "      <td>all</td>\n",
       "    </tr>\n",
       "  </tbody>\n",
       "</table>\n",
       "<p>144 rows × 7 columns</p>\n",
       "</div>"
      ],
      "text/plain": [
       "            model scaler EnergySoreStar    mean_score            std  \\\n",
       "0          LinReg     no          False -2.434261e+06  450909.984068   \n",
       "1           Ridge     no          False -2.433780e+06  453365.480798   \n",
       "2           Lasso     no          False -2.429160e+06  431570.226539   \n",
       "3      ElasticNet     no          False -2.424456e+06  451101.741336   \n",
       "4             KNN     no          False -2.478248e+06  381346.420779   \n",
       "..            ...    ...            ...           ...            ...   \n",
       "139       Ker SVR    log          False -3.609573e+06  640617.255255   \n",
       "140      Adaboost    log          False -3.004946e+06  388783.410140   \n",
       "141        GBoost    log          False -1.158927e+06  189254.410571   \n",
       "142       XGBoost    log          False -9.500807e+05  209395.440974   \n",
       "143  RandomForest    log          False -9.871111e+05  300660.498544   \n",
       "\n",
       "                                            result_obj level  \n",
       "0    [-3151269.6453865743, -2429005.5011538966, -31...     1  \n",
       "1    [-3164356.3397800825, -2430021.7932218937, -31...     1  \n",
       "2    [-3127888.531665885, -2461626.140282048, -2969...     1  \n",
       "3    [-3159554.5714867422, -2454763.81472168, -3073...     1  \n",
       "4    [-2845464.5859977077, -2781263.442549169, -308...     1  \n",
       "..                                                 ...   ...  \n",
       "139  [-4153741.823801981, -4288679.112947691, -4653...   all  \n",
       "140  [-3015126.575732393, -2713166.9850469693, -312...   all  \n",
       "141  [-1328467.4522258076, -1286590.7713645983, -13...   all  \n",
       "142  [-1106836.5749559326, -1250854.4544232092, -10...   all  \n",
       "143  [-1475313.1257162378, -1324586.938002122, -127...   all  \n",
       "\n",
       "[144 rows x 7 columns]"
      ]
     },
     "execution_count": 20,
     "metadata": {},
     "output_type": "execute_result"
    }
   ],
   "source": [
    "result = result_NRJ.copy(deep=True)\n",
    "result"
   ]
  },
  {
   "cell_type": "markdown",
   "id": "1abfbcd6",
   "metadata": {},
   "source": [
    "#### avec les données centrées réduites"
   ]
  },
  {
   "cell_type": "code",
   "execution_count": 21,
   "id": "48211894",
   "metadata": {},
   "outputs": [
    {
     "name": "stdout",
     "output_type": "stream",
     "text": [
      "             model scaler EnergySoreStar    mean_score           std  \\\n",
      "12          LinReg    std          False -2.437161e+06  4.464367e+05   \n",
      "13           Ridge    std          False -2.433324e+06  4.532848e+05   \n",
      "14           Lasso    std          False -2.468855e+06  4.141417e+05   \n",
      "15      ElasticNet    std          False -2.405968e+06  4.401353e+05   \n",
      "16             KNN    std          False -2.358116e+06  4.321773e+05   \n",
      "17   Decision Tree    std          False -1.631671e+06  3.329163e+05   \n",
      "18    Kernel Ridge    std          False -2.431236e+06  4.528548e+05   \n",
      "19         Ker SVR    std          False -3.609528e+06  6.406130e+05   \n",
      "20        Adaboost    std          False -3.381518e+06  1.182578e+06   \n",
      "21          GBoost    std          False -1.881776e+06  3.470884e+05   \n",
      "22         XGBoost    std          False -1.594634e+06  3.370301e+05   \n",
      "23    RandomForest    std          False -1.642350e+06  3.464201e+05   \n",
      "48          LinReg    std          False -1.781165e+06  2.329029e+05   \n",
      "49           Ridge    std          False -1.779643e+06  2.290550e+05   \n",
      "50           Lasso    std          False -1.983676e+06  2.546435e+05   \n",
      "51      ElasticNet    std          False -1.941216e+06  2.845455e+05   \n",
      "52             KNN    std          False -1.742339e+06  3.503761e+05   \n",
      "53   Decision Tree    std          False -1.279216e+06  1.741012e+05   \n",
      "54    Kernel Ridge    std          False -1.779232e+06  2.292681e+05   \n",
      "55         Ker SVR    std          False -3.609537e+06  6.406128e+05   \n",
      "56        Adaboost    std          False -3.046709e+06  3.727621e+05   \n",
      "57          GBoost    std          False -1.495881e+06  1.942236e+05   \n",
      "58         XGBoost    std          False -1.310594e+06  2.537229e+05   \n",
      "59    RandomForest    std          False -1.283381e+06  2.538989e+05   \n",
      "84          LinReg    std          False -1.796695e+06  2.486626e+05   \n",
      "85           Ridge    std          False -1.784145e+06  2.266287e+05   \n",
      "86           Lasso    std          False -2.130826e+06  2.830271e+05   \n",
      "87      ElasticNet    std          False -1.923706e+06  2.852102e+05   \n",
      "88             KNN    std          False -1.720943e+06  3.497232e+05   \n",
      "89   Decision Tree    std          False -1.407404e+06  1.393695e+05   \n",
      "90    Kernel Ridge    std          False -1.783344e+06  2.268060e+05   \n",
      "91         Ker SVR    std          False -3.609536e+06  6.406129e+05   \n",
      "92        Adaboost    std          False -3.016243e+06  2.747722e+05   \n",
      "93          GBoost    std          False -1.507484e+06  2.313607e+05   \n",
      "94         XGBoost    std          False -1.283581e+06  2.727177e+05   \n",
      "95    RandomForest    std          False -1.267016e+06  2.395284e+05   \n",
      "120         LinReg    std          False -3.223031e+13  8.583773e+13   \n",
      "121          Ridge    std          False -1.470532e+06  2.450358e+05   \n",
      "122          Lasso    std          False -1.947095e+06  2.993275e+05   \n",
      "123     ElasticNet    std          False -1.648877e+06  2.499656e+05   \n",
      "124            KNN    std          False -2.525367e+06  5.183431e+05   \n",
      "125  Decision Tree    std          False -1.188266e+06  3.195597e+05   \n",
      "126   Kernel Ridge    std          False -1.470443e+06  2.448938e+05   \n",
      "127        Ker SVR    std          False -3.609573e+06  6.406173e+05   \n",
      "128       Adaboost    std          False -3.001008e+06  2.726742e+05   \n",
      "129         GBoost    std          False -1.164522e+06  2.000045e+05   \n",
      "130        XGBoost    std          False -9.444562e+05  2.079374e+05   \n",
      "131   RandomForest    std          False -9.903210e+05  3.017611e+05   \n",
      "\n",
      "                                            result_obj level  \n",
      "12   [-3160166.0598331233, -2429617.181500287, -311...     1  \n",
      "13   [-3163876.9894031985, -2430112.894811713, -312...     1  \n",
      "14   [-3133008.3783444245, -2517308.8266944047, -29...     1  \n",
      "15   [-3106005.8611417036, -2734094.055379591, -306...     1  \n",
      "16   [-2908561.029389112, -2834716.280157742, -2627...     1  \n",
      "17   [-1556655.5574586245, -2155190.510296848, -162...     1  \n",
      "18   [-3161888.4547004234, -2427933.402864472, -312...     1  \n",
      "19   [-4153710.945906383, -4288619.706211186, -4653...     1  \n",
      "20   [-4649260.859783532, -3038115.6593819205, -293...     1  \n",
      "21   [-2140822.4146356066, -2427065.747566382, -201...     1  \n",
      "22   [-1821047.673013639, -2034444.218078295, -1617...     1  \n",
      "23   [-1892856.6276091025, -2089375.7357245926, -18...     1  \n",
      "48   [-1734971.898303037, -2234081.4511994272, -197...     2  \n",
      "49   [-1730222.2895625771, -2231848.168017398, -197...     2  \n",
      "50   [-1889152.113230902, -2344005.373436144, -2135...     2  \n",
      "51   [-2277496.2925705113, -2092182.0905880327, -24...     2  \n",
      "52   [-2289058.9935726076, -2096328.3947174784, -21...     2  \n",
      "53   [-1407084.640688997, -1354617.0451315187, -129...     2  \n",
      "54   [-1728520.9238582337, -2232991.133565521, -197...     2  \n",
      "55   [-4153717.691228738, -4288629.075065698, -4653...     2  \n",
      "56   [-3244304.9169106646, -2954658.627912354, -377...     2  \n",
      "57   [-1620172.49888746, -1640261.6864007395, -1692...     2  \n",
      "58   [-1403152.3648116332, -1459339.204512464, -140...     2  \n",
      "59   [-1623333.937951156, -1482285.7636910346, -159...     2  \n",
      "84   [-1707439.2224434381, -2355098.6677111746, -19...     3  \n",
      "85   [-1732428.3071398218, -2233838.3660257505, -20...     3  \n",
      "86   [-2076532.9765360465, -2517065.668999015, -225...     3  \n",
      "87   [-2261254.1604650505, -2079945.028989907, -245...     3  \n",
      "88   [-2269580.0792543264, -2062973.0459844929, -22...     3  \n",
      "89   [-1527042.2031918624, -1497978.1662124929, -15...     3  \n",
      "90   [-1731026.485620696, -2233265.1540673096, -200...     3  \n",
      "91   [-4153716.1603918467, -4288629.057018672, -465...     3  \n",
      "92   [-3096383.264440841, -3107700.1844287077, -253...     3  \n",
      "93   [-1580849.6836695299, -1717738.4817070272, -17...     3  \n",
      "94   [-1321764.3075945845, -1572652.6134487106, -14...     3  \n",
      "95   [-1520864.7704815322, -1530395.0983126578, -14...     3  \n",
      "120  [-1619373.6836637512, -26654663910965.977, -13...   all  \n",
      "121  [-1593552.1922263983, -2025722.7039678548, -12...   all  \n",
      "122  [-2100443.4143965957, -2425251.1933961846, -17...   all  \n",
      "123  [-2064208.5032852096, -1838478.4650046993, -19...   all  \n",
      "124  [-3100023.6028067046, -3336234.5273645506, -32...   all  \n",
      "125  [-1328544.1446316906, -1497633.8012186247, -12...   all  \n",
      "126  [-1593688.017736151, -2024909.609563725, -1261...   all  \n",
      "127  [-4153741.8775470904, -4288679.30164781, -4653...   all  \n",
      "128  [-3027635.3825555504, -3401706.85274522, -3073...   all  \n",
      "129  [-1337609.8071199215, -1397933.1930523268, -13...   all  \n",
      "130  [-1070568.259769686, -1249424.8340793697, -106...   all  \n",
      "131  [-1458117.0021493726, -1323531.9097002968, -12...   all  \n"
     ]
    }
   ],
   "source": [
    "print(result[result[\"scaler\"] == \"std\"])"
   ]
  },
  {
   "cell_type": "markdown",
   "id": "fbb5ee39",
   "metadata": {},
   "source": [
    "la performance de la régression linéaire avec l'ensemble des variables est abérante : on affiche le graphique sur une échelle permettant la comparaison"
   ]
  },
  {
   "cell_type": "code",
   "execution_count": 22,
   "id": "e5b8d97e",
   "metadata": {
    "scrolled": false
   },
   "outputs": [
    {
     "name": "stdout",
     "output_type": "stream",
     "text": [
      "==================================================\n",
      "level = 1\n",
      "==================================================\n"
     ]
    },
    {
     "data": {
      "image/png": "[encoded data removed]",
      "text/plain": [
       "<Figure size 1080x576 with 1 Axes>"
      ]
     },
     "metadata": {
      "needs_background": "light"
     },
     "output_type": "display_data"
    },
    {
     "name": "stdout",
     "output_type": "stream",
     "text": [
      "==================================================\n",
      "level = 2\n",
      "==================================================\n"
     ]
    },
    {
     "data": {
      "image/png": "[encoded data removed]",
      "text/plain": [
       "<Figure size 1080x576 with 1 Axes>"
      ]
     },
     "metadata": {
      "needs_background": "light"
     },
     "output_type": "display_data"
    },
    {
     "name": "stdout",
     "output_type": "stream",
     "text": [
      "==================================================\n",
      "level = 3\n",
      "==================================================\n"
     ]
    },
    {
     "data": {
      "image/png": "[encoded data removed]",
      "text/plain": [
       "<Figure size 1080x576 with 1 Axes>"
      ]
     },
     "metadata": {
      "needs_background": "light"
     },
     "output_type": "display_data"
    },
    {
     "name": "stdout",
     "output_type": "stream",
     "text": [
      "==================================================\n",
      "level = all\n",
      "==================================================\n"
     ]
    },
    {
     "data": {
      "image/png": "[encoded data removed]",
      "text/plain": [
       "<Figure size 1080x576 with 1 Axes>"
      ]
     },
     "metadata": {
      "needs_background": "light"
     },
     "output_type": "display_data"
    }
   ],
   "source": [
    "for level in result['level'].unique() : \n",
    "    print(\"=\"*50)\n",
    "    print(f\"level = {level}\")\n",
    "    print(\"=\"*50)\n",
    "    fig, ax = plt.subplots(figsize=(15,8))\n",
    "    ax.boxplot(result.loc[(result[\"level\"]==level) & (result[\"scaler\"]==\"std\")]['result_obj'], labels=names,\\\n",
    "              medianprops=medianprops, patch_artist=True, showmeans=True, meanprops=meanprops)\n",
    "    if level == \"all\" :\n",
    "        ax.set_ylim(-6e6, -0.5e6)\n",
    "    #print(result.loc[(result[\"level\"]==level) & (result[\"scaler\"]==\"std\")])\n",
    "    plt.show()"
   ]
  },
  {
   "cell_type": "markdown",
   "id": "04f81be7",
   "metadata": {},
   "source": [
    "les meilleurs performances sont obtenues sur les modèles basés sur des arbres de décisions.  \n",
    "De manière générale les modèles XGBoost donnent des meilleures performances. On sélectionne donc ce modèle.  \n",
    "Parmis les autres modèles on sélectionne également l'ElasticNet afin d'étudier le poids de chaque variable.  "
   ]
  },
  {
   "cell_type": "markdown",
   "id": "14c406c9",
   "metadata": {},
   "source": [
    "#### effet de la normalisation des données\n",
    "on etudie l'effet de la normalisation sur ces modèles et sur le niveau \"all\""
   ]
  },
  {
   "cell_type": "code",
   "execution_count": 23,
   "id": "8a572257",
   "metadata": {},
   "outputs": [
    {
     "data": {
      "text/html": [
       "<div>\n",
       "<style scoped>\n",
       "    .dataframe tbody tr th:only-of-type {\n",
       "        vertical-align: middle;\n",
       "    }\n",
       "\n",
       "    .dataframe tbody tr th {\n",
       "        vertical-align: top;\n",
       "    }\n",
       "\n",
       "    .dataframe thead th {\n",
       "        text-align: right;\n",
       "    }\n",
       "</style>\n",
       "<table border=\"1\" class=\"dataframe\">\n",
       "  <thead>\n",
       "    <tr style=\"text-align: right;\">\n",
       "      <th></th>\n",
       "      <th>model</th>\n",
       "      <th>scaler</th>\n",
       "      <th>EnergySoreStar</th>\n",
       "      <th>mean_score</th>\n",
       "      <th>std</th>\n",
       "      <th>result_obj</th>\n",
       "      <th>level</th>\n",
       "    </tr>\n",
       "  </thead>\n",
       "  <tbody>\n",
       "    <tr>\n",
       "      <th>111</th>\n",
       "      <td>ElasticNet</td>\n",
       "      <td>no</td>\n",
       "      <td>False</td>\n",
       "      <td>-1.468863e+06</td>\n",
       "      <td>235731.654837</td>\n",
       "      <td>[-1594962.4229140903, -1913574.5028040484, -12...</td>\n",
       "      <td>all</td>\n",
       "    </tr>\n",
       "    <tr>\n",
       "      <th>123</th>\n",
       "      <td>ElasticNet</td>\n",
       "      <td>std</td>\n",
       "      <td>False</td>\n",
       "      <td>-1.648877e+06</td>\n",
       "      <td>249965.608138</td>\n",
       "      <td>[-2064208.5032852096, -1838478.4650046993, -19...</td>\n",
       "      <td>all</td>\n",
       "    </tr>\n",
       "    <tr>\n",
       "      <th>135</th>\n",
       "      <td>ElasticNet</td>\n",
       "      <td>log</td>\n",
       "      <td>False</td>\n",
       "      <td>-3.148358e+06</td>\n",
       "      <td>474895.418517</td>\n",
       "      <td>[-3769801.7340779244, -3697280.5636495166, -39...</td>\n",
       "      <td>all</td>\n",
       "    </tr>\n",
       "  </tbody>\n",
       "</table>\n",
       "</div>"
      ],
      "text/plain": [
       "          model scaler EnergySoreStar    mean_score            std  \\\n",
       "111  ElasticNet     no          False -1.468863e+06  235731.654837   \n",
       "123  ElasticNet    std          False -1.648877e+06  249965.608138   \n",
       "135  ElasticNet    log          False -3.148358e+06  474895.418517   \n",
       "\n",
       "                                            result_obj level  \n",
       "111  [-1594962.4229140903, -1913574.5028040484, -12...   all  \n",
       "123  [-2064208.5032852096, -1838478.4650046993, -19...   all  \n",
       "135  [-3769801.7340779244, -3697280.5636495166, -39...   all  "
      ]
     },
     "execution_count": 23,
     "metadata": {},
     "output_type": "execute_result"
    }
   ],
   "source": [
    "result.loc[(result[\"level\"]==\"all\") & (result[\"model\"]==\"ElasticNet\")]"
   ]
  },
  {
   "cell_type": "code",
   "execution_count": 24,
   "id": "de5a9103",
   "metadata": {
    "scrolled": false
   },
   "outputs": [
    {
     "name": "stdout",
     "output_type": "stream",
     "text": [
      "==================================================\n",
      "Model = XGBoost\n",
      "==================================================\n"
     ]
    },
    {
     "data": {
      "image/png": "[encoded data removed]",
      "text/plain": [
       "<Figure size 1080x576 with 1 Axes>"
      ]
     },
     "metadata": {
      "needs_background": "light"
     },
     "output_type": "display_data"
    },
    {
     "name": "stdout",
     "output_type": "stream",
     "text": [
      "==================================================\n",
      "Model = ElasticNet\n",
      "==================================================\n"
     ]
    },
    {
     "data": {
      "image/png": "[encoded data removed]",
      "text/plain": [
       "<Figure size 1080x576 with 1 Axes>"
      ]
     },
     "metadata": {
      "needs_background": "light"
     },
     "output_type": "display_data"
    }
   ],
   "source": [
    "for m in [\"XGBoost\", \"ElasticNet\"] :\n",
    "    print(\"=\"*50)\n",
    "    print(f\"Model = {m}\")\n",
    "    print(\"=\"*50)\n",
    "    fig, ax = plt.subplots(figsize=(15,8))\n",
    "    ax.boxplot(result.loc[(result[\"level\"]==\"all\") & (result[\"model\"]==m)]['result_obj'], labels=result[\"scaler\"].unique(),\\\n",
    "              medianprops=medianprops, patch_artist=True, showmeans=True, meanprops=meanprops)\n",
    "    plt.show()"
   ]
  },
  {
   "cell_type": "markdown",
   "id": "a37b44b8",
   "metadata": {},
   "source": [
    "Le modele XGBoost est insensible à la normalisation des données.  \n",
    "Le modèle ElasticNet est plus sensible et donne de meilleur résultat pour des données non normalisées ou centrées réduites.  \n",
    "Le choix le plus simple est donc de ne pas transformer les données d'entrées."
   ]
  },
  {
   "cell_type": "markdown",
   "id": "5f15c361",
   "metadata": {},
   "source": [
    "### Emission de GES"
   ]
  },
  {
   "cell_type": "code",
   "execution_count": 25,
   "id": "e0657549",
   "metadata": {
    "scrolled": true
   },
   "outputs": [
    {
     "data": {
      "text/html": [
       "<div>\n",
       "<style scoped>\n",
       "    .dataframe tbody tr th:only-of-type {\n",
       "        vertical-align: middle;\n",
       "    }\n",
       "\n",
       "    .dataframe tbody tr th {\n",
       "        vertical-align: top;\n",
       "    }\n",
       "\n",
       "    .dataframe thead th {\n",
       "        text-align: right;\n",
       "    }\n",
       "</style>\n",
       "<table border=\"1\" class=\"dataframe\">\n",
       "  <thead>\n",
       "    <tr style=\"text-align: right;\">\n",
       "      <th></th>\n",
       "      <th>model</th>\n",
       "      <th>scaler</th>\n",
       "      <th>EnergySoreStar</th>\n",
       "      <th>mean_score</th>\n",
       "      <th>std</th>\n",
       "      <th>result_obj</th>\n",
       "      <th>level</th>\n",
       "    </tr>\n",
       "  </thead>\n",
       "  <tbody>\n",
       "    <tr>\n",
       "      <th>108</th>\n",
       "      <td>LinReg</td>\n",
       "      <td>no</td>\n",
       "      <td>False</td>\n",
       "      <td>-1.854577e+08</td>\n",
       "      <td>3.712562e+08</td>\n",
       "      <td>[-855946904.8658223, -794727.8364501145, -2017...</td>\n",
       "      <td>all</td>\n",
       "    </tr>\n",
       "    <tr>\n",
       "      <th>109</th>\n",
       "      <td>Ridge</td>\n",
       "      <td>no</td>\n",
       "      <td>False</td>\n",
       "      <td>-4.483682e+01</td>\n",
       "      <td>6.191761e+00</td>\n",
       "      <td>[-39.94305396532403, -55.84005626006335, -44.2...</td>\n",
       "      <td>all</td>\n",
       "    </tr>\n",
       "    <tr>\n",
       "      <th>110</th>\n",
       "      <td>Lasso</td>\n",
       "      <td>no</td>\n",
       "      <td>False</td>\n",
       "      <td>-4.684714e+01</td>\n",
       "      <td>6.265482e+00</td>\n",
       "      <td>[-42.12655052240385, -56.056019327869684, -47....</td>\n",
       "      <td>all</td>\n",
       "    </tr>\n",
       "    <tr>\n",
       "      <th>111</th>\n",
       "      <td>ElasticNet</td>\n",
       "      <td>no</td>\n",
       "      <td>False</td>\n",
       "      <td>-4.471306e+01</td>\n",
       "      <td>5.911722e+00</td>\n",
       "      <td>[-39.89773184865296, -54.8016327113579, -44.18...</td>\n",
       "      <td>all</td>\n",
       "    </tr>\n",
       "    <tr>\n",
       "      <th>112</th>\n",
       "      <td>KNN</td>\n",
       "      <td>no</td>\n",
       "      <td>False</td>\n",
       "      <td>-5.640636e+01</td>\n",
       "      <td>1.189298e+01</td>\n",
       "      <td>[-54.468527220630385, -82.82028653295129, -65....</td>\n",
       "      <td>all</td>\n",
       "    </tr>\n",
       "    <tr>\n",
       "      <th>113</th>\n",
       "      <td>Decision Tree</td>\n",
       "      <td>no</td>\n",
       "      <td>False</td>\n",
       "      <td>-2.742653e+01</td>\n",
       "      <td>9.440704e+00</td>\n",
       "      <td>[-27.597936962750715, -35.93997134670487, -31....</td>\n",
       "      <td>all</td>\n",
       "    </tr>\n",
       "    <tr>\n",
       "      <th>114</th>\n",
       "      <td>Kernel Ridge</td>\n",
       "      <td>no</td>\n",
       "      <td>False</td>\n",
       "      <td>-4.481810e+01</td>\n",
       "      <td>6.173070e+00</td>\n",
       "      <td>[-39.972664343716424, -55.687208136528476, -44...</td>\n",
       "      <td>all</td>\n",
       "    </tr>\n",
       "    <tr>\n",
       "      <th>115</th>\n",
       "      <td>Ker SVR</td>\n",
       "      <td>no</td>\n",
       "      <td>False</td>\n",
       "      <td>-6.586524e+01</td>\n",
       "      <td>1.580371e+01</td>\n",
       "      <td>[-67.08610592372767, -98.82785511476843, -74.9...</td>\n",
       "      <td>all</td>\n",
       "    </tr>\n",
       "    <tr>\n",
       "      <th>116</th>\n",
       "      <td>Adaboost</td>\n",
       "      <td>no</td>\n",
       "      <td>False</td>\n",
       "      <td>-2.037803e+02</td>\n",
       "      <td>2.904304e+01</td>\n",
       "      <td>[-220.81973967337086, -243.11804073737076, -22...</td>\n",
       "      <td>all</td>\n",
       "    </tr>\n",
       "    <tr>\n",
       "      <th>117</th>\n",
       "      <td>GBoost</td>\n",
       "      <td>no</td>\n",
       "      <td>False</td>\n",
       "      <td>-2.768105e+01</td>\n",
       "      <td>7.054552e+00</td>\n",
       "      <td>[-26.372163168349292, -41.14153318220495, -31....</td>\n",
       "      <td>all</td>\n",
       "    </tr>\n",
       "    <tr>\n",
       "      <th>118</th>\n",
       "      <td>XGBoost</td>\n",
       "      <td>no</td>\n",
       "      <td>False</td>\n",
       "      <td>-2.073078e+01</td>\n",
       "      <td>7.145999e+00</td>\n",
       "      <td>[-19.242852566477904, -33.02454481134954, -21....</td>\n",
       "      <td>all</td>\n",
       "    </tr>\n",
       "    <tr>\n",
       "      <th>119</th>\n",
       "      <td>RandomForest</td>\n",
       "      <td>no</td>\n",
       "      <td>False</td>\n",
       "      <td>-2.280875e+01</td>\n",
       "      <td>8.253952e+00</td>\n",
       "      <td>[-22.408404011461325, -40.34252607449856, -25....</td>\n",
       "      <td>all</td>\n",
       "    </tr>\n",
       "    <tr>\n",
       "      <th>120</th>\n",
       "      <td>LinReg</td>\n",
       "      <td>std</td>\n",
       "      <td>False</td>\n",
       "      <td>-1.487336e+09</td>\n",
       "      <td>2.959146e+09</td>\n",
       "      <td>[-40.32592993277035, -5286203019.227774, -44.4...</td>\n",
       "      <td>all</td>\n",
       "    </tr>\n",
       "    <tr>\n",
       "      <th>121</th>\n",
       "      <td>Ridge</td>\n",
       "      <td>std</td>\n",
       "      <td>False</td>\n",
       "      <td>-4.446766e+01</td>\n",
       "      <td>5.730772e+00</td>\n",
       "      <td>[-39.92132144737979, -55.78048335553474, -44.1...</td>\n",
       "      <td>all</td>\n",
       "    </tr>\n",
       "    <tr>\n",
       "      <th>122</th>\n",
       "      <td>Lasso</td>\n",
       "      <td>std</td>\n",
       "      <td>False</td>\n",
       "      <td>-4.964583e+01</td>\n",
       "      <td>5.630802e+00</td>\n",
       "      <td>[-48.26409417271971, -57.564866318592685, -50....</td>\n",
       "      <td>all</td>\n",
       "    </tr>\n",
       "    <tr>\n",
       "      <th>123</th>\n",
       "      <td>ElasticNet</td>\n",
       "      <td>std</td>\n",
       "      <td>False</td>\n",
       "      <td>-4.920216e+01</td>\n",
       "      <td>7.713883e+00</td>\n",
       "      <td>[-49.22934724572024, -66.41540600553832, -52.4...</td>\n",
       "      <td>all</td>\n",
       "    </tr>\n",
       "    <tr>\n",
       "      <th>124</th>\n",
       "      <td>KNN</td>\n",
       "      <td>std</td>\n",
       "      <td>False</td>\n",
       "      <td>-5.416909e+01</td>\n",
       "      <td>1.586663e+01</td>\n",
       "      <td>[-56.679839541547274, -92.29400573065902, -60....</td>\n",
       "      <td>all</td>\n",
       "    </tr>\n",
       "    <tr>\n",
       "      <th>125</th>\n",
       "      <td>Decision Tree</td>\n",
       "      <td>std</td>\n",
       "      <td>False</td>\n",
       "      <td>-2.736072e+01</td>\n",
       "      <td>9.351750e+00</td>\n",
       "      <td>[-25.047191977077368, -35.53243553008596, -33....</td>\n",
       "      <td>all</td>\n",
       "    </tr>\n",
       "    <tr>\n",
       "      <th>126</th>\n",
       "      <td>Kernel Ridge</td>\n",
       "      <td>std</td>\n",
       "      <td>False</td>\n",
       "      <td>-4.446874e+01</td>\n",
       "      <td>5.731863e+00</td>\n",
       "      <td>[-39.918250168733714, -55.78769566371869, -44....</td>\n",
       "      <td>all</td>\n",
       "    </tr>\n",
       "    <tr>\n",
       "      <th>127</th>\n",
       "      <td>Ker SVR</td>\n",
       "      <td>std</td>\n",
       "      <td>False</td>\n",
       "      <td>-6.773531e+01</td>\n",
       "      <td>1.700218e+01</td>\n",
       "      <td>[-69.82305754020007, -101.03000299466395, -79....</td>\n",
       "      <td>all</td>\n",
       "    </tr>\n",
       "    <tr>\n",
       "      <th>128</th>\n",
       "      <td>Adaboost</td>\n",
       "      <td>std</td>\n",
       "      <td>False</td>\n",
       "      <td>-2.016141e+02</td>\n",
       "      <td>4.356051e+01</td>\n",
       "      <td>[-208.05564263388044, -266.4946849076341, -248...</td>\n",
       "      <td>all</td>\n",
       "    </tr>\n",
       "    <tr>\n",
       "      <th>129</th>\n",
       "      <td>GBoost</td>\n",
       "      <td>std</td>\n",
       "      <td>False</td>\n",
       "      <td>-2.759539e+01</td>\n",
       "      <td>7.192643e+00</td>\n",
       "      <td>[-25.997479813850454, -41.96625809565433, -30....</td>\n",
       "      <td>all</td>\n",
       "    </tr>\n",
       "    <tr>\n",
       "      <th>130</th>\n",
       "      <td>XGBoost</td>\n",
       "      <td>std</td>\n",
       "      <td>False</td>\n",
       "      <td>-2.073149e+01</td>\n",
       "      <td>7.143543e+00</td>\n",
       "      <td>[-19.242852566477904, -33.01493614638603, -21....</td>\n",
       "      <td>all</td>\n",
       "    </tr>\n",
       "    <tr>\n",
       "      <th>131</th>\n",
       "      <td>RandomForest</td>\n",
       "      <td>std</td>\n",
       "      <td>False</td>\n",
       "      <td>-2.255507e+01</td>\n",
       "      <td>8.513218e+00</td>\n",
       "      <td>[-21.579912034383966, -40.42608595988538, -26....</td>\n",
       "      <td>all</td>\n",
       "    </tr>\n",
       "    <tr>\n",
       "      <th>132</th>\n",
       "      <td>LinReg</td>\n",
       "      <td>log</td>\n",
       "      <td>False</td>\n",
       "      <td>-7.353278e+01</td>\n",
       "      <td>9.837383e+00</td>\n",
       "      <td>[-84.66042820074577, -92.90808341076932, -73.9...</td>\n",
       "      <td>all</td>\n",
       "    </tr>\n",
       "    <tr>\n",
       "      <th>133</th>\n",
       "      <td>Ridge</td>\n",
       "      <td>log</td>\n",
       "      <td>False</td>\n",
       "      <td>-7.296851e+01</td>\n",
       "      <td>9.747720e+00</td>\n",
       "      <td>[-82.53676729881253, -94.05887881169993, -75.1...</td>\n",
       "      <td>all</td>\n",
       "    </tr>\n",
       "    <tr>\n",
       "      <th>134</th>\n",
       "      <td>Lasso</td>\n",
       "      <td>log</td>\n",
       "      <td>False</td>\n",
       "      <td>-7.345729e+01</td>\n",
       "      <td>9.713448e+00</td>\n",
       "      <td>[-82.49927417171688, -95.06792239569518, -74.2...</td>\n",
       "      <td>all</td>\n",
       "    </tr>\n",
       "    <tr>\n",
       "      <th>135</th>\n",
       "      <td>ElasticNet</td>\n",
       "      <td>log</td>\n",
       "      <td>False</td>\n",
       "      <td>-7.109929e+01</td>\n",
       "      <td>1.255141e+01</td>\n",
       "      <td>[-73.94555461595507, -100.09062488218257, -77....</td>\n",
       "      <td>all</td>\n",
       "    </tr>\n",
       "    <tr>\n",
       "      <th>136</th>\n",
       "      <td>KNN</td>\n",
       "      <td>log</td>\n",
       "      <td>False</td>\n",
       "      <td>-6.425577e+01</td>\n",
       "      <td>1.496079e+01</td>\n",
       "      <td>[-75.08116905444126, -97.39017765042979, -68.7...</td>\n",
       "      <td>all</td>\n",
       "    </tr>\n",
       "    <tr>\n",
       "      <th>137</th>\n",
       "      <td>Decision Tree</td>\n",
       "      <td>log</td>\n",
       "      <td>False</td>\n",
       "      <td>-2.678762e+01</td>\n",
       "      <td>9.377565e+00</td>\n",
       "      <td>[-24.105444126074502, -37.0124641833811, -34.3...</td>\n",
       "      <td>all</td>\n",
       "    </tr>\n",
       "    <tr>\n",
       "      <th>138</th>\n",
       "      <td>Kernel Ridge</td>\n",
       "      <td>log</td>\n",
       "      <td>False</td>\n",
       "      <td>-7.296648e+01</td>\n",
       "      <td>9.747594e+00</td>\n",
       "      <td>[-82.53613514348898, -94.05544684792063, -75.1...</td>\n",
       "      <td>all</td>\n",
       "    </tr>\n",
       "    <tr>\n",
       "      <th>139</th>\n",
       "      <td>Ker SVR</td>\n",
       "      <td>log</td>\n",
       "      <td>False</td>\n",
       "      <td>-6.762510e+01</td>\n",
       "      <td>1.698862e+01</td>\n",
       "      <td>[-69.70411643369228, -100.88025019366489, -79....</td>\n",
       "      <td>all</td>\n",
       "    </tr>\n",
       "    <tr>\n",
       "      <th>140</th>\n",
       "      <td>Adaboost</td>\n",
       "      <td>log</td>\n",
       "      <td>False</td>\n",
       "      <td>-2.037601e+02</td>\n",
       "      <td>4.595260e+01</td>\n",
       "      <td>[-188.20807586670335, -171.4816855662146, -186...</td>\n",
       "      <td>all</td>\n",
       "    </tr>\n",
       "    <tr>\n",
       "      <th>141</th>\n",
       "      <td>GBoost</td>\n",
       "      <td>log</td>\n",
       "      <td>False</td>\n",
       "      <td>-2.648422e+01</td>\n",
       "      <td>6.016055e+00</td>\n",
       "      <td>[-25.838110853370683, -40.400541143049296, -30...</td>\n",
       "      <td>all</td>\n",
       "    </tr>\n",
       "    <tr>\n",
       "      <th>142</th>\n",
       "      <td>XGBoost</td>\n",
       "      <td>log</td>\n",
       "      <td>False</td>\n",
       "      <td>-2.078174e+01</td>\n",
       "      <td>7.053768e+00</td>\n",
       "      <td>[-19.119976686758434, -32.9817782967053, -21.3...</td>\n",
       "      <td>all</td>\n",
       "    </tr>\n",
       "    <tr>\n",
       "      <th>143</th>\n",
       "      <td>RandomForest</td>\n",
       "      <td>log</td>\n",
       "      <td>False</td>\n",
       "      <td>-2.179122e+01</td>\n",
       "      <td>7.997519e+00</td>\n",
       "      <td>[-20.539634957020073, -41.15702836676216, -26....</td>\n",
       "      <td>all</td>\n",
       "    </tr>\n",
       "  </tbody>\n",
       "</table>\n",
       "</div>"
      ],
      "text/plain": [
       "             model scaler EnergySoreStar    mean_score           std  \\\n",
       "108         LinReg     no          False -1.854577e+08  3.712562e+08   \n",
       "109          Ridge     no          False -4.483682e+01  6.191761e+00   \n",
       "110          Lasso     no          False -4.684714e+01  6.265482e+00   \n",
       "111     ElasticNet     no          False -4.471306e+01  5.911722e+00   \n",
       "112            KNN     no          False -5.640636e+01  1.189298e+01   \n",
       "113  Decision Tree     no          False -2.742653e+01  9.440704e+00   \n",
       "114   Kernel Ridge     no          False -4.481810e+01  6.173070e+00   \n",
       "115        Ker SVR     no          False -6.586524e+01  1.580371e+01   \n",
       "116       Adaboost     no          False -2.037803e+02  2.904304e+01   \n",
       "117         GBoost     no          False -2.768105e+01  7.054552e+00   \n",
       "118        XGBoost     no          False -2.073078e+01  7.145999e+00   \n",
       "119   RandomForest     no          False -2.280875e+01  8.253952e+00   \n",
       "120         LinReg    std          False -1.487336e+09  2.959146e+09   \n",
       "121          Ridge    std          False -4.446766e+01  5.730772e+00   \n",
       "122          Lasso    std          False -4.964583e+01  5.630802e+00   \n",
       "123     ElasticNet    std          False -4.920216e+01  7.713883e+00   \n",
       "124            KNN    std          False -5.416909e+01  1.586663e+01   \n",
       "125  Decision Tree    std          False -2.736072e+01  9.351750e+00   \n",
       "126   Kernel Ridge    std          False -4.446874e+01  5.731863e+00   \n",
       "127        Ker SVR    std          False -6.773531e+01  1.700218e+01   \n",
       "128       Adaboost    std          False -2.016141e+02  4.356051e+01   \n",
       "129         GBoost    std          False -2.759539e+01  7.192643e+00   \n",
       "130        XGBoost    std          False -2.073149e+01  7.143543e+00   \n",
       "131   RandomForest    std          False -2.255507e+01  8.513218e+00   \n",
       "132         LinReg    log          False -7.353278e+01  9.837383e+00   \n",
       "133          Ridge    log          False -7.296851e+01  9.747720e+00   \n",
       "134          Lasso    log          False -7.345729e+01  9.713448e+00   \n",
       "135     ElasticNet    log          False -7.109929e+01  1.255141e+01   \n",
       "136            KNN    log          False -6.425577e+01  1.496079e+01   \n",
       "137  Decision Tree    log          False -2.678762e+01  9.377565e+00   \n",
       "138   Kernel Ridge    log          False -7.296648e+01  9.747594e+00   \n",
       "139        Ker SVR    log          False -6.762510e+01  1.698862e+01   \n",
       "140       Adaboost    log          False -2.037601e+02  4.595260e+01   \n",
       "141         GBoost    log          False -2.648422e+01  6.016055e+00   \n",
       "142        XGBoost    log          False -2.078174e+01  7.053768e+00   \n",
       "143   RandomForest    log          False -2.179122e+01  7.997519e+00   \n",
       "\n",
       "                                            result_obj level  \n",
       "108  [-855946904.8658223, -794727.8364501145, -2017...   all  \n",
       "109  [-39.94305396532403, -55.84005626006335, -44.2...   all  \n",
       "110  [-42.12655052240385, -56.056019327869684, -47....   all  \n",
       "111  [-39.89773184865296, -54.8016327113579, -44.18...   all  \n",
       "112  [-54.468527220630385, -82.82028653295129, -65....   all  \n",
       "113  [-27.597936962750715, -35.93997134670487, -31....   all  \n",
       "114  [-39.972664343716424, -55.687208136528476, -44...   all  \n",
       "115  [-67.08610592372767, -98.82785511476843, -74.9...   all  \n",
       "116  [-220.81973967337086, -243.11804073737076, -22...   all  \n",
       "117  [-26.372163168349292, -41.14153318220495, -31....   all  \n",
       "118  [-19.242852566477904, -33.02454481134954, -21....   all  \n",
       "119  [-22.408404011461325, -40.34252607449856, -25....   all  \n",
       "120  [-40.32592993277035, -5286203019.227774, -44.4...   all  \n",
       "121  [-39.92132144737979, -55.78048335553474, -44.1...   all  \n",
       "122  [-48.26409417271971, -57.564866318592685, -50....   all  \n",
       "123  [-49.22934724572024, -66.41540600553832, -52.4...   all  \n",
       "124  [-56.679839541547274, -92.29400573065902, -60....   all  \n",
       "125  [-25.047191977077368, -35.53243553008596, -33....   all  \n",
       "126  [-39.918250168733714, -55.78769566371869, -44....   all  \n",
       "127  [-69.82305754020007, -101.03000299466395, -79....   all  \n",
       "128  [-208.05564263388044, -266.4946849076341, -248...   all  \n",
       "129  [-25.997479813850454, -41.96625809565433, -30....   all  \n",
       "130  [-19.242852566477904, -33.01493614638603, -21....   all  \n",
       "131  [-21.579912034383966, -40.42608595988538, -26....   all  \n",
       "132  [-84.66042820074577, -92.90808341076932, -73.9...   all  \n",
       "133  [-82.53676729881253, -94.05887881169993, -75.1...   all  \n",
       "134  [-82.49927417171688, -95.06792239569518, -74.2...   all  \n",
       "135  [-73.94555461595507, -100.09062488218257, -77....   all  \n",
       "136  [-75.08116905444126, -97.39017765042979, -68.7...   all  \n",
       "137  [-24.105444126074502, -37.0124641833811, -34.3...   all  \n",
       "138  [-82.53613514348898, -94.05544684792063, -75.1...   all  \n",
       "139  [-69.70411643369228, -100.88025019366489, -79....   all  \n",
       "140  [-188.20807586670335, -171.4816855662146, -186...   all  \n",
       "141  [-25.838110853370683, -40.400541143049296, -30...   all  \n",
       "142  [-19.119976686758434, -32.9817782967053, -21.3...   all  \n",
       "143  [-20.539634957020073, -41.15702836676216, -26....   all  "
      ]
     },
     "execution_count": 25,
     "metadata": {},
     "output_type": "execute_result"
    }
   ],
   "source": [
    "result = result_GES.copy(deep=True)\n",
    "result[result['level']==\"all\"]"
   ]
  },
  {
   "cell_type": "markdown",
   "id": "04b383a4",
   "metadata": {},
   "source": [
    "#### avec les données centrées réduites"
   ]
  },
  {
   "cell_type": "code",
   "execution_count": 26,
   "id": "ef7e392a",
   "metadata": {
    "scrolled": false
   },
   "outputs": [
    {
     "name": "stdout",
     "output_type": "stream",
     "text": [
      "==================================================\n",
      "level = 1\n",
      "==================================================\n"
     ]
    },
    {
     "data": {
      "image/png": "[encoded data removed]",
      "text/plain": [
       "<Figure size 1080x576 with 1 Axes>"
      ]
     },
     "metadata": {
      "needs_background": "light"
     },
     "output_type": "display_data"
    },
    {
     "name": "stdout",
     "output_type": "stream",
     "text": [
      "==================================================\n",
      "level = 2\n",
      "==================================================\n"
     ]
    },
    {
     "data": {
      "image/png": "[encoded data removed]",
      "text/plain": [
       "<Figure size 1080x576 with 1 Axes>"
      ]
     },
     "metadata": {
      "needs_background": "light"
     },
     "output_type": "display_data"
    },
    {
     "name": "stdout",
     "output_type": "stream",
     "text": [
      "==================================================\n",
      "level = 3\n",
      "==================================================\n"
     ]
    },
    {
     "data": {
      "image/png": "[encoded data removed]",
      "text/plain": [
       "<Figure size 1080x576 with 1 Axes>"
      ]
     },
     "metadata": {
      "needs_background": "light"
     },
     "output_type": "display_data"
    },
    {
     "name": "stdout",
     "output_type": "stream",
     "text": [
      "==================================================\n",
      "level = all\n",
      "==================================================\n"
     ]
    },
    {
     "data": {
      "image/png": "[encoded data removed]",
      "text/plain": [
       "<Figure size 1080x576 with 1 Axes>"
      ]
     },
     "metadata": {
      "needs_background": "light"
     },
     "output_type": "display_data"
    }
   ],
   "source": [
    "for level in result['level'].unique() : \n",
    "    print(\"=\"*50)\n",
    "    print(f\"level = {level}\")\n",
    "    print(\"=\"*50)\n",
    "    fig, ax = plt.subplots(figsize=(15,8))\n",
    "    ax.boxplot(result.loc[(result[\"level\"]==level) & (result[\"scaler\"]==\"std\")]['result_obj'], labels=names,\\\n",
    "              medianprops=medianprops, patch_artist=True, showmeans=True, meanprops=meanprops)\n",
    "    if level == \"all\" :\n",
    "        ax.set_ylim(-120, -10)\n",
    "    #print(result.loc[(result[\"level\"]==level) & (result[\"scaler\"]==\"std\")])\n",
    "    plt.show()"
   ]
  },
  {
   "cell_type": "markdown",
   "id": "5d5b614e",
   "metadata": {},
   "source": [
    "Les mêmes observations que pour la consommation d'énergie peuvent être faites.  \n",
    "Le modèle KNN peut être également performant.  "
   ]
  },
  {
   "cell_type": "markdown",
   "id": "b4d2499c",
   "metadata": {},
   "source": [
    "#### effet de la normalisation des données"
   ]
  },
  {
   "cell_type": "code",
   "execution_count": 27,
   "id": "9131f570",
   "metadata": {
    "scrolled": false
   },
   "outputs": [
    {
     "name": "stdout",
     "output_type": "stream",
     "text": [
      "==================================================\n",
      "Model = XGBoost\n",
      "==================================================\n"
     ]
    },
    {
     "data": {
      "image/png": "[encoded data removed]",
      "text/plain": [
       "<Figure size 1080x576 with 1 Axes>"
      ]
     },
     "metadata": {
      "needs_background": "light"
     },
     "output_type": "display_data"
    },
    {
     "name": "stdout",
     "output_type": "stream",
     "text": [
      "==================================================\n",
      "Model = ElasticNet\n",
      "==================================================\n"
     ]
    },
    {
     "data": {
      "image/png": "[encoded data removed]",
      "text/plain": [
       "<Figure size 1080x576 with 1 Axes>"
      ]
     },
     "metadata": {
      "needs_background": "light"
     },
     "output_type": "display_data"
    }
   ],
   "source": [
    "for m in [\"XGBoost\", \"ElasticNet\"] :\n",
    "    print(\"=\"*50)\n",
    "    print(f\"Model = {m}\")\n",
    "    print(\"=\"*50)\n",
    "    fig, ax = plt.subplots(figsize=(15,8))\n",
    "    ax.boxplot(result.loc[(result[\"level\"]==\"all\") & (result[\"model\"]==m)]['result_obj'], labels=result[\"scaler\"].unique(),\\\n",
    "              medianprops=medianprops, patch_artist=True, showmeans=True, meanprops=meanprops)\n",
    "    plt.show()"
   ]
  },
  {
   "cell_type": "markdown",
   "id": "34aaec47",
   "metadata": {},
   "source": [
    "Mêmes observations que pour la consommation d'énergie"
   ]
  },
  {
   "cell_type": "markdown",
   "id": "d42e81dd",
   "metadata": {},
   "source": [
    "## Choix du modèle et la normalisation :\n",
    "On va donc sélectionner 2 modèles : \n",
    "- XGBoost : Méthode ensembliste\n",
    "- ElasticNet : regression linéaire permettant de discuter du poids de chaque variable\n",
    "\n",
    "On choisit également de travailler avec des données non normalisées compte tenu du faible gain engendré par la normalisation."
   ]
  },
  {
   "cell_type": "markdown",
   "id": "7c9a077e",
   "metadata": {},
   "source": [
    "## Tunning des modèles"
   ]
  },
  {
   "cell_type": "code",
   "execution_count": 28,
   "id": "9f92e132",
   "metadata": {},
   "outputs": [],
   "source": [
    "tunning_result={\"NRJ\":{}, 'GES':{}}"
   ]
  },
  {
   "cell_type": "markdown",
   "id": "7525f7b1",
   "metadata": {},
   "source": [
    "### ElasticNet\n",
    "On va optimiser les hyperparamètres du modèle :\n",
    "- le paramètre alpha : contrôle de la régularisation\n",
    "- l1_ratio : proportion de la régularisation l1 par rapport à l2\n",
    "\n",
    "l'optimisation est réalisée sur le level 2"
   ]
  },
  {
   "cell_type": "code",
   "execution_count": 29,
   "id": "cb8498c8",
   "metadata": {},
   "outputs": [
    {
     "name": "stdout",
     "output_type": "stream",
     "text": [
      "Score inital pour l'énergy = [-1763039.42032991]\n",
      "Score inital pour l'émission de GES = [-51.21580501]\n"
     ]
    }
   ],
   "source": [
    "print(f\"Score inital pour l'énergy = {result_NRJ.loc[(result_NRJ['model'] == 'ElasticNet') & (result_NRJ['scaler']=='no') & (result_NRJ['level']==2)]['mean_score'].values}\")\n",
    "print(f\"Score inital pour l'émission de GES = {result_GES.loc[(result_GES['model'] == 'ElasticNet') & (result_GES['scaler']=='no') & (result_GES['level']==2)]['mean_score'].values}\")"
   ]
  },
  {
   "cell_type": "code",
   "execution_count": 30,
   "id": "484b7d83",
   "metadata": {
    "scrolled": true
   },
   "outputs": [
    {
     "name": "stdout",
     "output_type": "stream",
     "text": [
      "Best result for energy : -1.73311e+06 with {'alpha': 0.21209508879201905, 'l1_ratio': 0.4}\n",
      "Best result for GES : -49.15237944144475 with {'alpha': 0.868511373751352, 'l1_ratio': 0.9}\n"
     ]
    }
   ],
   "source": [
    "# Chargement des modèles optimisés\n",
    "if os.path.isfile(\"best_model_opt.pkl\") :\n",
    "    with open(\"best_model_opt.pkl\", 'rb') as f :\n",
    "        tunning_result = pickle.load(f)\n",
    "    print(f\"Best result for energy : {tunning_result['NRJ']['ElasticNet'].best_score_:.5e} with {tunning_result['NRJ']['ElasticNet'].best_params_}\")\n",
    "    print(f\"Best result for GES : {tunning_result['GES']['ElasticNet'].best_score_} with {tunning_result['GES']['ElasticNet'].best_params_}\")\n",
    "else : # optimisation des hyperparamètres\n",
    "    x_train = X_train[level2_col]\n",
    "    param = { \"alpha\" : np.logspace(-3, 3, 50), \"l1_ratio\" : np.arange(0,1, 0.1)}\n",
    "    model_NRJ = linear_model.ElasticNet()\n",
    "    kfold = model_selection.KFold(n_splits=n_fold, random_state=seed, shuffle=True)\n",
    "    grid_NRJ = model_selection.GridSearchCV(estimator=model_NRJ, param_grid=param, scoring=scoring, cv=kfold, n_jobs=n_job)\n",
    "\n",
    "    #grid_result = grid.fit(x_train, y_train_NRJ)\n",
    "    model.set_params(max_iter=1000, tol=0.01)\n",
    "    tunning_result[\"NRJ\"][\"ElasticNet\"] = grid_NRJ.fit(x_train, y_train_NRJ)\n",
    "    print(f\"Best result for energy : {tunning_result['NRJ']['ElasticNet'].best_score_:.5e} with {tunning_result['NRJ']['ElasticNet'].best_params_}\")\n",
    "    #grid_result = grid.fit(x_train, y_train_GES)\n",
    "    model_GES = linear_model.ElasticNet()\n",
    "    model.set_params(max_iter=3000, tol=1e-4)\n",
    "    grid_GES = model_selection.GridSearchCV(estimator=model_GES, param_grid=param, scoring=scoring, cv=kfold, n_jobs=n_job)\n",
    "    tunning_result[\"GES\"][\"ElasticNet\"] = grid_GES.fit(x_train, y_train_GES)\n",
    "    print(f\"Best result for GES : {tunning_result['GES']['ElasticNet'].best_score_} with {tunning_result['GES']['ElasticNet'].best_params_}\")"
   ]
  },
  {
   "cell_type": "markdown",
   "id": "f257f5ef",
   "metadata": {},
   "source": [
    "### XGBoost\n",
    "On va optimiser les hyperparamètres du modèle :\n",
    "- le learning rate : contrôle de la descente de gradient\n",
    "- max_depth : profondeur de chaque arbre\n",
    "- subsample : pourcentage d'observations pour chaque arbre\n",
    "- colsample_bytree : nombre de colonne par arbre\n",
    "- n_estimators : nombre d'arbre\n",
    "\n",
    "l'optimisation est réalisée sur le level 2"
   ]
  },
  {
   "cell_type": "code",
   "execution_count": 31,
   "id": "164216a3",
   "metadata": {},
   "outputs": [
    {
     "name": "stdout",
     "output_type": "stream",
     "text": [
      "Score inital pour l'énergy = [-1311411.01914187]\n",
      "Score inital pour l'émission de GES = [-35.84554589]\n"
     ]
    }
   ],
   "source": [
    "print(f\"Score inital pour l'énergy = {result_NRJ.loc[(result_NRJ['model'] == 'XGBoost') & (result_NRJ['scaler']=='no') & (result_NRJ['level']==2)]['mean_score'].values}\")\n",
    "print(f\"Score inital pour l'émission de GES = {result_GES.loc[(result_GES['model'] == 'XGBoost') & (result_GES['scaler']=='no') & (result_GES['level']==2)]['mean_score'].values}\")"
   ]
  },
  {
   "cell_type": "code",
   "execution_count": 32,
   "id": "d355fd9c",
   "metadata": {},
   "outputs": [
    {
     "name": "stdout",
     "output_type": "stream",
     "text": [
      "Best result for energy : -1096725.7916561991 with {'colsample_bytree': 0.8, 'learning_rate': 0.1, 'max_depth': 16, 'n_estimators': 400, 'subsample': 0.6}\n",
      "Best result for GES : -31.488770786672177 with {'colsample_bytree': 0.8, 'learning_rate': 0.1, 'max_depth': 21, 'n_estimators': 300, 'subsample': 0.8}\n"
     ]
    }
   ],
   "source": [
    "if os.path.isfile(\"best_model_opt.pkl\") :\n",
    "    with open(\"best_model_opt.pkl\", 'rb') as f :\n",
    "        tunning_result = pickle.load(f)\n",
    "    print(f\"Best result for energy : {tunning_result['NRJ']['XGBoost'].best_score_} with {tunning_result['NRJ']['XGBoost'].best_params_}\")\n",
    "    print(f\"Best result for GES : {tunning_result['GES']['XGBoost'].best_score_} with {tunning_result['GES']['XGBoost'].best_params_}\")\n",
    "else :\n",
    "    x_train = X_train[level2_col]\n",
    "    param = { \"learning_rate\" : np.arange(0,0.4, 0.1), 'max_depth': range(1,50,5), \"subsample\": np.arange(0.6,1.1,0.2), \\\n",
    "         'colsample_bytree': np.arange(0.6,1.1,0.2), \"n_estimators\" : range(100, 500, 100)}\n",
    "    model_NRJ = xgb.XGBRegressor()\n",
    "    kfold = model_selection.KFold(n_splits=n_fold, random_state=seed, shuffle=True)\n",
    "    grid_NRJ = model_selection.GridSearchCV(estimator=model_NRJ, param_grid=param, scoring=scoring, cv=kfold, n_jobs=n_job)\n",
    "\n",
    "    #grid_result = grid.fit(x_train, y_train_NRJ)\n",
    "    tunning_result[\"NRJ\"][\"XGBoost\"] = grid_NRJ.fit(x_train, y_train_NRJ)\n",
    "    print(f\"Best result for energy : {tunning_result['NRJ']['XGBoost'].best_score_} with {tunning_result['NRJ']['XGBoost'].best_params_}\")\n",
    "    #grid_result = grid.fit(x_train, y_train_GES)\n",
    "    model_GES = xgb.XGBRegressor()\n",
    "    grid_GES = model_selection.GridSearchCV(estimator=model_GES, param_grid=param, scoring=scoring, cv=kfold, n_jobs=n_job)\n",
    "    tunning_result[\"GES\"][\"XGBoost\"] = grid_GES.fit(x_train, y_train_GES)\n",
    "    print(f\"Best result for GES : {tunning_result['GES']['XGBoost'].best_score_} with {tunning_result['GES']['XGBoost'].best_params_}\")"
   ]
  },
  {
   "cell_type": "markdown",
   "id": "0f15c437",
   "metadata": {},
   "source": [
    "### Sauvegarde des meilleurs modèles"
   ]
  },
  {
   "cell_type": "code",
   "execution_count": 33,
   "id": "260ede2e",
   "metadata": {},
   "outputs": [],
   "source": [
    "with open(\"best_model_opt.pkl\", 'wb') as ofile :\n",
    "    pickle.dump(tunning_result, ofile)"
   ]
  },
  {
   "cell_type": "markdown",
   "id": "cc86aafb",
   "metadata": {},
   "source": [
    "## Effet de la variable ENERGYSTARScore\n",
    "Pour évaluer l'impact de la variable ENERGYSTARScore sur la performance des modèles,  \n",
    "des apprentissages vont être réalisés sur les deux modèles optimisées et pour chaque groupe de variables."
   ]
  },
  {
   "cell_type": "code",
   "execution_count": 34,
   "id": "4a653802",
   "metadata": {},
   "outputs": [],
   "source": [
    "result_model_opt = pd.DataFrame(columns=[\"model\", \"Y\", \"ENERGYSTARScore\",\"R2\", \"MAE\", \"%MAE\", \"level\"])\n",
    "column = {1:level1_col, 2:level2_col, 3:level3_col, \"all\":list(X_train.columns)}\n",
    "column['all'].remove('ENERGYSTARScore')"
   ]
  },
  {
   "cell_type": "markdown",
   "id": "3d963541",
   "metadata": {},
   "source": [
    "### Effet sur la prédiction de la consommation d'énergie"
   ]
  },
  {
   "cell_type": "code",
   "execution_count": 35,
   "id": "7a74e986",
   "metadata": {
    "scrolled": false
   },
   "outputs": [
    {
     "name": "stdout",
     "output_type": "stream",
     "text": [
      "--------------------\n",
      "Consommation d'énergie\n",
      "--------------------\n",
      "==================================================\n",
      "Level = 1 ; scaler = no ; EnergyStarScore = False\n",
      "==================================================\n",
      "ElasticNet     : -2417404.809 (449535.659)\n",
      "ElasticNet     :      0.493 (     0.188)\n",
      "XGBoost        : -1403054.179 (319684.072)\n",
      "XGBoost        :      0.746 (     0.188)\n",
      "==================================================\n",
      "Level = 1 ; scaler = no ; EnergyStarScore = True\n",
      "==================================================\n",
      "ElasticNet     : -2507879.579 (430380.586)\n",
      "ElasticNet     :      0.512 (     0.193)\n",
      "XGBoost        : -1342850.488 (282234.387)\n",
      "XGBoost        :      0.748 (     0.156)\n",
      "==================================================\n",
      "Level = 2 ; scaler = no ; EnergyStarScore = False\n",
      "==================================================\n",
      "ElasticNet     : -1733113.759 (228099.034)\n",
      "ElasticNet     :      0.788 (     0.089)\n",
      "XGBoost        : -1096725.792 (215260.535)\n",
      "XGBoost        :      0.857 (     0.106)\n",
      "==================================================\n",
      "Level = 2 ; scaler = no ; EnergyStarScore = True\n",
      "==================================================\n",
      "ElasticNet     : -1764806.848 (202759.500)\n",
      "ElasticNet     :      0.802 (     0.089)\n",
      "XGBoost        : -991435.972 (219887.171)\n",
      "XGBoost        :      0.865 (     0.105)\n",
      "==================================================\n",
      "Level = 3 ; scaler = no ; EnergyStarScore = False\n",
      "==================================================\n",
      "ElasticNet     : -1747035.527 (229021.762)\n",
      "ElasticNet     :      0.788 (     0.090)\n",
      "XGBoost        : -1090771.519 (196784.749)\n",
      "XGBoost        :      0.859 (     0.101)\n",
      "==================================================\n",
      "Level = 3 ; scaler = no ; EnergyStarScore = True\n",
      "==================================================\n",
      "ElasticNet     : -1770503.284 (212778.774)\n",
      "ElasticNet     :      0.803 (     0.090)\n",
      "XGBoost        : -944669.933 (193918.750)\n",
      "XGBoost        :      0.878 (     0.091)\n",
      "==================================================\n",
      "Level = all ; scaler = no ; EnergyStarScore = False\n",
      "==================================================\n",
      "ElasticNet     : -1444435.457 (210786.204)\n",
      "ElasticNet     :      0.840 (     0.084)\n",
      "XGBoost        : -968563.434 (227071.128)\n",
      "XGBoost        :      0.878 (     0.104)\n",
      "==================================================\n",
      "Level = all ; scaler = no ; EnergyStarScore = True\n",
      "==================================================\n",
      "ElasticNet     : -1467115.822 (236211.766)\n",
      "ElasticNet     :      0.844 (     0.089)\n",
      "XGBoost        : -831489.190 (211672.436)\n",
      "XGBoost        :      0.881 (     0.099)\n"
     ]
    }
   ],
   "source": [
    "print(\"-\"*20)\n",
    "print(\"Consommation d'énergie\")\n",
    "print(\"-\"*20)\n",
    "for level in [1,2,3,\"all\"] :\n",
    "    energystarscore = False\n",
    "    level_col = column[level]\n",
    "    norm=\"no\"\n",
    "    x_train = X_train[level_col]\n",
    "    y_train = y_train_NRJ\n",
    "    print(\"=\"*50)\n",
    "    print(f\"Level = {level} ; scaler = {norm} ; EnergyStarScore = {energystarscore}\")\n",
    "    print(\"=\"*50)\n",
    "    for name in tunning_result['NRJ']: \n",
    "        #print(name)\n",
    "        model = tunning_result['NRJ'][name].best_estimator_\n",
    "        kfold = model_selection.KFold(n_splits=n_fold, random_state=seed, shuffle=True)\n",
    "        score_result = {}\n",
    "        for score in [\"neg_mean_absolute_error\", \"r2\"] :\n",
    "            cv_results = model_selection.cross_val_score(model, x_train, y_train, \\\n",
    "                                                         cv=kfold, scoring=score, n_jobs=n_job)\n",
    "            print(f\"{name:15s}: {cv_results.mean():10.3f} ({cv_results.std():10.3f})\")\n",
    "            score_result[score] = cv_results.mean()\n",
    "        result_model_opt = result_model_opt.append({\"model\" :name, \"Y\": \"Energy\", \"ENERGYSTARScore\" : energystarscore,\\\n",
    "                                              'R2': score_result['r2'] , 'MAE' : score_result[\"neg_mean_absolute_error\"],\\\n",
    "                                              \"level\":level}, ignore_index=True)\n",
    "    \n",
    "    energystarscore = True\n",
    "    level_col = column[level]+['ENERGYSTARScore']\n",
    "    norm=\"no\"\n",
    "    x_train = X_train[level_col]\n",
    "    y_train = y_train_NRJ\n",
    "    print(\"=\"*50)\n",
    "    print(f\"Level = {level} ; scaler = {norm} ; EnergyStarScore = {energystarscore}\")\n",
    "    print(\"=\"*50)\n",
    "    for name in tunning_result['NRJ']: \n",
    "        #print(name)\n",
    "        model = tunning_result['NRJ'][name].best_estimator_\n",
    "        kfold = model_selection.KFold(n_splits=n_fold, random_state=seed, shuffle=True)\n",
    "        score_result = {}\n",
    "        for score in [\"neg_mean_absolute_error\", \"r2\"] :\n",
    "            cv_results = model_selection.cross_val_score(model, x_train, y_train, \\\n",
    "                                                         cv=kfold, scoring=score, n_jobs=n_job)\n",
    "            print(f\"{name:15s}: {cv_results.mean():10.3f} ({cv_results.std():10.3f})\")\n",
    "            score_result[score] = cv_results.mean()\n",
    "        result_model_opt = result_model_opt.append({\"model\" :name, \"Y\": \"Energy\", \"ENERGYSTARScore\" : energystarscore,\\\n",
    "                                              'R2': score_result['r2'] , 'MAE' : score_result[\"neg_mean_absolute_error\"],\\\n",
    "                                              \"level\":level}, ignore_index=True)"
   ]
  },
  {
   "cell_type": "markdown",
   "id": "52fc09e9",
   "metadata": {},
   "source": [
    "### Effet sur la prédiction de les émissions de GES"
   ]
  },
  {
   "cell_type": "code",
   "execution_count": 36,
   "id": "501fd1bf",
   "metadata": {},
   "outputs": [
    {
     "name": "stdout",
     "output_type": "stream",
     "text": [
      "--------------------\n",
      "Emissions de GES\n",
      "--------------------\n",
      "==================================================\n",
      "Level = 1 ; scaler = no ; EnergyStarScore = False\n",
      "==================================================\n",
      "ElasticNet     :    -75.265 (    12.810)\n",
      "ElasticNet     :      0.099 (     0.355)\n",
      "XGBoost        :    -36.771 (    12.574)\n",
      "XGBoost        :      0.664 (     0.218)\n",
      "==================================================\n",
      "Level = 1 ; scaler = no ; EnergyStarScore = True\n",
      "==================================================\n",
      "ElasticNet     :    -82.441 (    10.481)\n",
      "ElasticNet     :      0.109 (     0.369)\n",
      "XGBoost        :    -35.244 (    10.997)\n",
      "XGBoost        :      0.706 (     0.174)\n",
      "==================================================\n",
      "Level = 2 ; scaler = no ; EnergyStarScore = False\n",
      "==================================================\n",
      "ElasticNet     :    -49.152 (     7.369)\n",
      "ElasticNet     :      0.667 (     0.184)\n",
      "XGBoost        :    -31.489 (     8.925)\n",
      "XGBoost        :      0.781 (     0.098)\n",
      "==================================================\n",
      "Level = 2 ; scaler = no ; EnergyStarScore = True\n",
      "==================================================\n",
      "ElasticNet     :    -51.066 (     6.638)\n",
      "ElasticNet     :      0.676 (     0.173)\n",
      "XGBoost        :    -29.511 (     7.852)\n",
      "XGBoost        :      0.807 (     0.116)\n",
      "==================================================\n",
      "Level = 3 ; scaler = no ; EnergyStarScore = False\n",
      "==================================================\n",
      "ElasticNet     :    -48.706 (     7.220)\n",
      "ElasticNet     :      0.693 (     0.171)\n",
      "XGBoost        :    -24.358 (     8.413)\n",
      "XGBoost        :      0.840 (     0.126)\n",
      "==================================================\n",
      "Level = 3 ; scaler = no ; EnergyStarScore = True\n",
      "==================================================\n",
      "ElasticNet     :    -50.211 (     6.565)\n",
      "ElasticNet     :      0.707 (     0.154)\n",
      "XGBoost        :    -21.728 (     7.682)\n",
      "XGBoost        :      0.864 (     0.113)\n",
      "==================================================\n",
      "Level = all ; scaler = no ; EnergyStarScore = False\n",
      "==================================================\n",
      "ElasticNet     :    -43.000 (     5.554)\n",
      "ElasticNet     :      0.768 (     0.169)\n",
      "XGBoost        :    -21.492 (     7.073)\n",
      "XGBoost        :      0.852 (     0.145)\n",
      "==================================================\n",
      "Level = all ; scaler = no ; EnergyStarScore = True\n",
      "==================================================\n",
      "ElasticNet     :    -44.361 (     5.871)\n",
      "ElasticNet     :      0.779 (     0.142)\n",
      "XGBoost        :    -19.003 (     7.796)\n",
      "XGBoost        :      0.869 (     0.148)\n"
     ]
    }
   ],
   "source": [
    "print(\"-\"*20)\n",
    "print(\"Emissions de GES\")\n",
    "print(\"-\"*20)\n",
    "for level in [1,2,3,\"all\"] :\n",
    "    energystarscore = False\n",
    "    level_col = column[level]\n",
    "    norm=\"no\"\n",
    "    x_train = X_train[level_col]\n",
    "    y_train = y_train_GES\n",
    "    print(\"=\"*50)\n",
    "    print(f\"Level = {level} ; scaler = {norm} ; EnergyStarScore = {energystarscore}\")\n",
    "    print(\"=\"*50)\n",
    "    for name in tunning_result['GES']: \n",
    "        #print(name)\n",
    "        model = tunning_result['GES'][name].best_estimator_\n",
    "        kfold = model_selection.KFold(n_splits=n_fold, random_state=seed, shuffle=True)\n",
    "        score_result = {}\n",
    "        for score in [\"neg_mean_absolute_error\", \"r2\"] :\n",
    "            cv_results = model_selection.cross_val_score(model, x_train, y_train, \\\n",
    "                                                         cv=kfold, scoring=score, n_jobs=n_job)\n",
    "            print(f\"{name:15s}: {cv_results.mean():10.3f} ({cv_results.std():10.3f})\")\n",
    "            score_result[score] = cv_results.mean()\n",
    "        result_model_opt = result_model_opt.append({\"model\" :name, \"Y\": \"GES\", \"ENERGYSTARScore\" : energystarscore,\\\n",
    "                                              'R2': score_result['r2'] , 'MAE' : score_result[\"neg_mean_absolute_error\"],\\\n",
    "                                              \"level\":level}, ignore_index=True)\n",
    "    \n",
    "    energystarscore = True\n",
    "    level_col = column[level]+['ENERGYSTARScore']\n",
    "    norm=\"no\"\n",
    "    x_train = X_train[level_col]\n",
    "    y_train = y_train_GES\n",
    "    print(\"=\"*50)\n",
    "    print(f\"Level = {level} ; scaler = {norm} ; EnergyStarScore = {energystarscore}\")\n",
    "    print(\"=\"*50)\n",
    "    for name in tunning_result['GES']: \n",
    "        #print(name)\n",
    "        model = tunning_result['GES'][name].best_estimator_\n",
    "        kfold = model_selection.KFold(n_splits=n_fold, random_state=seed, shuffle=True)\n",
    "        score_result = {}\n",
    "        for score in [\"neg_mean_absolute_error\", \"r2\"] :\n",
    "            cv_results = model_selection.cross_val_score(model, x_train, y_train, \\\n",
    "                                                         cv=kfold, scoring=score, n_jobs=n_job)\n",
    "            print(f\"{name:15s}: {cv_results.mean():10.3f} ({cv_results.std():10.3f})\")\n",
    "            score_result[score] = cv_results.mean()\n",
    "        result_model_opt = result_model_opt.append({\"model\" :name, \"Y\": \"GES\", \"ENERGYSTARScore\" : energystarscore,\\\n",
    "                                              'R2': score_result['r2'] , 'MAE' : score_result[\"neg_mean_absolute_error\"],\\\n",
    "                                              \"level\":level}, ignore_index=True)"
   ]
  },
  {
   "cell_type": "code",
   "execution_count": 37,
   "id": "41d13bcc",
   "metadata": {},
   "outputs": [
    {
     "data": {
      "text/html": [
       "<div>\n",
       "<style scoped>\n",
       "    .dataframe tbody tr th:only-of-type {\n",
       "        vertical-align: middle;\n",
       "    }\n",
       "\n",
       "    .dataframe tbody tr th {\n",
       "        vertical-align: top;\n",
       "    }\n",
       "\n",
       "    .dataframe thead th {\n",
       "        text-align: right;\n",
       "    }\n",
       "</style>\n",
       "<table border=\"1\" class=\"dataframe\">\n",
       "  <thead>\n",
       "    <tr style=\"text-align: right;\">\n",
       "      <th></th>\n",
       "      <th>model</th>\n",
       "      <th>Y</th>\n",
       "      <th>ENERGYSTARScore</th>\n",
       "      <th>R2</th>\n",
       "      <th>MAE</th>\n",
       "      <th>%MAE</th>\n",
       "      <th>level</th>\n",
       "    </tr>\n",
       "  </thead>\n",
       "  <tbody>\n",
       "    <tr>\n",
       "      <th>0</th>\n",
       "      <td>ElasticNet</td>\n",
       "      <td>Energy</td>\n",
       "      <td>False</td>\n",
       "      <td>0.492872</td>\n",
       "      <td>-2.417405e+06</td>\n",
       "      <td>NaN</td>\n",
       "      <td>1</td>\n",
       "    </tr>\n",
       "    <tr>\n",
       "      <th>1</th>\n",
       "      <td>XGBoost</td>\n",
       "      <td>Energy</td>\n",
       "      <td>False</td>\n",
       "      <td>0.745544</td>\n",
       "      <td>-1.403054e+06</td>\n",
       "      <td>NaN</td>\n",
       "      <td>1</td>\n",
       "    </tr>\n",
       "    <tr>\n",
       "      <th>2</th>\n",
       "      <td>ElasticNet</td>\n",
       "      <td>Energy</td>\n",
       "      <td>True</td>\n",
       "      <td>0.512283</td>\n",
       "      <td>-2.507880e+06</td>\n",
       "      <td>NaN</td>\n",
       "      <td>1</td>\n",
       "    </tr>\n",
       "    <tr>\n",
       "      <th>3</th>\n",
       "      <td>XGBoost</td>\n",
       "      <td>Energy</td>\n",
       "      <td>True</td>\n",
       "      <td>0.748226</td>\n",
       "      <td>-1.342850e+06</td>\n",
       "      <td>NaN</td>\n",
       "      <td>1</td>\n",
       "    </tr>\n",
       "    <tr>\n",
       "      <th>4</th>\n",
       "      <td>ElasticNet</td>\n",
       "      <td>Energy</td>\n",
       "      <td>False</td>\n",
       "      <td>0.787775</td>\n",
       "      <td>-1.733114e+06</td>\n",
       "      <td>NaN</td>\n",
       "      <td>2</td>\n",
       "    </tr>\n",
       "    <tr>\n",
       "      <th>5</th>\n",
       "      <td>XGBoost</td>\n",
       "      <td>Energy</td>\n",
       "      <td>False</td>\n",
       "      <td>0.856894</td>\n",
       "      <td>-1.096726e+06</td>\n",
       "      <td>NaN</td>\n",
       "      <td>2</td>\n",
       "    </tr>\n",
       "    <tr>\n",
       "      <th>6</th>\n",
       "      <td>ElasticNet</td>\n",
       "      <td>Energy</td>\n",
       "      <td>True</td>\n",
       "      <td>0.801702</td>\n",
       "      <td>-1.764807e+06</td>\n",
       "      <td>NaN</td>\n",
       "      <td>2</td>\n",
       "    </tr>\n",
       "    <tr>\n",
       "      <th>7</th>\n",
       "      <td>XGBoost</td>\n",
       "      <td>Energy</td>\n",
       "      <td>True</td>\n",
       "      <td>0.864756</td>\n",
       "      <td>-9.914360e+05</td>\n",
       "      <td>NaN</td>\n",
       "      <td>2</td>\n",
       "    </tr>\n",
       "    <tr>\n",
       "      <th>8</th>\n",
       "      <td>ElasticNet</td>\n",
       "      <td>Energy</td>\n",
       "      <td>False</td>\n",
       "      <td>0.788036</td>\n",
       "      <td>-1.747036e+06</td>\n",
       "      <td>NaN</td>\n",
       "      <td>3</td>\n",
       "    </tr>\n",
       "    <tr>\n",
       "      <th>9</th>\n",
       "      <td>XGBoost</td>\n",
       "      <td>Energy</td>\n",
       "      <td>False</td>\n",
       "      <td>0.858991</td>\n",
       "      <td>-1.090772e+06</td>\n",
       "      <td>NaN</td>\n",
       "      <td>3</td>\n",
       "    </tr>\n",
       "    <tr>\n",
       "      <th>10</th>\n",
       "      <td>ElasticNet</td>\n",
       "      <td>Energy</td>\n",
       "      <td>True</td>\n",
       "      <td>0.802520</td>\n",
       "      <td>-1.770503e+06</td>\n",
       "      <td>NaN</td>\n",
       "      <td>3</td>\n",
       "    </tr>\n",
       "    <tr>\n",
       "      <th>11</th>\n",
       "      <td>XGBoost</td>\n",
       "      <td>Energy</td>\n",
       "      <td>True</td>\n",
       "      <td>0.878350</td>\n",
       "      <td>-9.446699e+05</td>\n",
       "      <td>NaN</td>\n",
       "      <td>3</td>\n",
       "    </tr>\n",
       "    <tr>\n",
       "      <th>12</th>\n",
       "      <td>ElasticNet</td>\n",
       "      <td>Energy</td>\n",
       "      <td>False</td>\n",
       "      <td>0.839775</td>\n",
       "      <td>-1.444435e+06</td>\n",
       "      <td>NaN</td>\n",
       "      <td>all</td>\n",
       "    </tr>\n",
       "    <tr>\n",
       "      <th>13</th>\n",
       "      <td>XGBoost</td>\n",
       "      <td>Energy</td>\n",
       "      <td>False</td>\n",
       "      <td>0.878055</td>\n",
       "      <td>-9.685634e+05</td>\n",
       "      <td>NaN</td>\n",
       "      <td>all</td>\n",
       "    </tr>\n",
       "    <tr>\n",
       "      <th>14</th>\n",
       "      <td>ElasticNet</td>\n",
       "      <td>Energy</td>\n",
       "      <td>True</td>\n",
       "      <td>0.844238</td>\n",
       "      <td>-1.467116e+06</td>\n",
       "      <td>NaN</td>\n",
       "      <td>all</td>\n",
       "    </tr>\n",
       "    <tr>\n",
       "      <th>15</th>\n",
       "      <td>XGBoost</td>\n",
       "      <td>Energy</td>\n",
       "      <td>True</td>\n",
       "      <td>0.881033</td>\n",
       "      <td>-8.314892e+05</td>\n",
       "      <td>NaN</td>\n",
       "      <td>all</td>\n",
       "    </tr>\n",
       "    <tr>\n",
       "      <th>16</th>\n",
       "      <td>ElasticNet</td>\n",
       "      <td>GES</td>\n",
       "      <td>False</td>\n",
       "      <td>0.098545</td>\n",
       "      <td>-7.526499e+01</td>\n",
       "      <td>NaN</td>\n",
       "      <td>1</td>\n",
       "    </tr>\n",
       "    <tr>\n",
       "      <th>17</th>\n",
       "      <td>XGBoost</td>\n",
       "      <td>GES</td>\n",
       "      <td>False</td>\n",
       "      <td>0.663830</td>\n",
       "      <td>-3.677066e+01</td>\n",
       "      <td>NaN</td>\n",
       "      <td>1</td>\n",
       "    </tr>\n",
       "    <tr>\n",
       "      <th>18</th>\n",
       "      <td>ElasticNet</td>\n",
       "      <td>GES</td>\n",
       "      <td>True</td>\n",
       "      <td>0.109249</td>\n",
       "      <td>-8.244055e+01</td>\n",
       "      <td>NaN</td>\n",
       "      <td>1</td>\n",
       "    </tr>\n",
       "    <tr>\n",
       "      <th>19</th>\n",
       "      <td>XGBoost</td>\n",
       "      <td>GES</td>\n",
       "      <td>True</td>\n",
       "      <td>0.706443</td>\n",
       "      <td>-3.524422e+01</td>\n",
       "      <td>NaN</td>\n",
       "      <td>1</td>\n",
       "    </tr>\n",
       "    <tr>\n",
       "      <th>20</th>\n",
       "      <td>ElasticNet</td>\n",
       "      <td>GES</td>\n",
       "      <td>False</td>\n",
       "      <td>0.666571</td>\n",
       "      <td>-4.915238e+01</td>\n",
       "      <td>NaN</td>\n",
       "      <td>2</td>\n",
       "    </tr>\n",
       "    <tr>\n",
       "      <th>21</th>\n",
       "      <td>XGBoost</td>\n",
       "      <td>GES</td>\n",
       "      <td>False</td>\n",
       "      <td>0.781135</td>\n",
       "      <td>-3.148877e+01</td>\n",
       "      <td>NaN</td>\n",
       "      <td>2</td>\n",
       "    </tr>\n",
       "    <tr>\n",
       "      <th>22</th>\n",
       "      <td>ElasticNet</td>\n",
       "      <td>GES</td>\n",
       "      <td>True</td>\n",
       "      <td>0.676043</td>\n",
       "      <td>-5.106597e+01</td>\n",
       "      <td>NaN</td>\n",
       "      <td>2</td>\n",
       "    </tr>\n",
       "    <tr>\n",
       "      <th>23</th>\n",
       "      <td>XGBoost</td>\n",
       "      <td>GES</td>\n",
       "      <td>True</td>\n",
       "      <td>0.807311</td>\n",
       "      <td>-2.951097e+01</td>\n",
       "      <td>NaN</td>\n",
       "      <td>2</td>\n",
       "    </tr>\n",
       "    <tr>\n",
       "      <th>24</th>\n",
       "      <td>ElasticNet</td>\n",
       "      <td>GES</td>\n",
       "      <td>False</td>\n",
       "      <td>0.693099</td>\n",
       "      <td>-4.870646e+01</td>\n",
       "      <td>NaN</td>\n",
       "      <td>3</td>\n",
       "    </tr>\n",
       "    <tr>\n",
       "      <th>25</th>\n",
       "      <td>XGBoost</td>\n",
       "      <td>GES</td>\n",
       "      <td>False</td>\n",
       "      <td>0.839532</td>\n",
       "      <td>-2.435846e+01</td>\n",
       "      <td>NaN</td>\n",
       "      <td>3</td>\n",
       "    </tr>\n",
       "    <tr>\n",
       "      <th>26</th>\n",
       "      <td>ElasticNet</td>\n",
       "      <td>GES</td>\n",
       "      <td>True</td>\n",
       "      <td>0.707262</td>\n",
       "      <td>-5.021148e+01</td>\n",
       "      <td>NaN</td>\n",
       "      <td>3</td>\n",
       "    </tr>\n",
       "    <tr>\n",
       "      <th>27</th>\n",
       "      <td>XGBoost</td>\n",
       "      <td>GES</td>\n",
       "      <td>True</td>\n",
       "      <td>0.864315</td>\n",
       "      <td>-2.172771e+01</td>\n",
       "      <td>NaN</td>\n",
       "      <td>3</td>\n",
       "    </tr>\n",
       "    <tr>\n",
       "      <th>28</th>\n",
       "      <td>ElasticNet</td>\n",
       "      <td>GES</td>\n",
       "      <td>False</td>\n",
       "      <td>0.768095</td>\n",
       "      <td>-4.300046e+01</td>\n",
       "      <td>NaN</td>\n",
       "      <td>all</td>\n",
       "    </tr>\n",
       "    <tr>\n",
       "      <th>29</th>\n",
       "      <td>XGBoost</td>\n",
       "      <td>GES</td>\n",
       "      <td>False</td>\n",
       "      <td>0.851559</td>\n",
       "      <td>-2.149235e+01</td>\n",
       "      <td>NaN</td>\n",
       "      <td>all</td>\n",
       "    </tr>\n",
       "    <tr>\n",
       "      <th>30</th>\n",
       "      <td>ElasticNet</td>\n",
       "      <td>GES</td>\n",
       "      <td>True</td>\n",
       "      <td>0.778663</td>\n",
       "      <td>-4.436141e+01</td>\n",
       "      <td>NaN</td>\n",
       "      <td>all</td>\n",
       "    </tr>\n",
       "    <tr>\n",
       "      <th>31</th>\n",
       "      <td>XGBoost</td>\n",
       "      <td>GES</td>\n",
       "      <td>True</td>\n",
       "      <td>0.869277</td>\n",
       "      <td>-1.900334e+01</td>\n",
       "      <td>NaN</td>\n",
       "      <td>all</td>\n",
       "    </tr>\n",
       "  </tbody>\n",
       "</table>\n",
       "</div>"
      ],
      "text/plain": [
       "         model       Y ENERGYSTARScore        R2           MAE  %MAE level\n",
       "0   ElasticNet  Energy           False  0.492872 -2.417405e+06   NaN     1\n",
       "1      XGBoost  Energy           False  0.745544 -1.403054e+06   NaN     1\n",
       "2   ElasticNet  Energy            True  0.512283 -2.507880e+06   NaN     1\n",
       "3      XGBoost  Energy            True  0.748226 -1.342850e+06   NaN     1\n",
       "4   ElasticNet  Energy           False  0.787775 -1.733114e+06   NaN     2\n",
       "5      XGBoost  Energy           False  0.856894 -1.096726e+06   NaN     2\n",
       "6   ElasticNet  Energy            True  0.801702 -1.764807e+06   NaN     2\n",
       "7      XGBoost  Energy            True  0.864756 -9.914360e+05   NaN     2\n",
       "8   ElasticNet  Energy           False  0.788036 -1.747036e+06   NaN     3\n",
       "9      XGBoost  Energy           False  0.858991 -1.090772e+06   NaN     3\n",
       "10  ElasticNet  Energy            True  0.802520 -1.770503e+06   NaN     3\n",
       "11     XGBoost  Energy            True  0.878350 -9.446699e+05   NaN     3\n",
       "12  ElasticNet  Energy           False  0.839775 -1.444435e+06   NaN   all\n",
       "13     XGBoost  Energy           False  0.878055 -9.685634e+05   NaN   all\n",
       "14  ElasticNet  Energy            True  0.844238 -1.467116e+06   NaN   all\n",
       "15     XGBoost  Energy            True  0.881033 -8.314892e+05   NaN   all\n",
       "16  ElasticNet     GES           False  0.098545 -7.526499e+01   NaN     1\n",
       "17     XGBoost     GES           False  0.663830 -3.677066e+01   NaN     1\n",
       "18  ElasticNet     GES            True  0.109249 -8.244055e+01   NaN     1\n",
       "19     XGBoost     GES            True  0.706443 -3.524422e+01   NaN     1\n",
       "20  ElasticNet     GES           False  0.666571 -4.915238e+01   NaN     2\n",
       "21     XGBoost     GES           False  0.781135 -3.148877e+01   NaN     2\n",
       "22  ElasticNet     GES            True  0.676043 -5.106597e+01   NaN     2\n",
       "23     XGBoost     GES            True  0.807311 -2.951097e+01   NaN     2\n",
       "24  ElasticNet     GES           False  0.693099 -4.870646e+01   NaN     3\n",
       "25     XGBoost     GES           False  0.839532 -2.435846e+01   NaN     3\n",
       "26  ElasticNet     GES            True  0.707262 -5.021148e+01   NaN     3\n",
       "27     XGBoost     GES            True  0.864315 -2.172771e+01   NaN     3\n",
       "28  ElasticNet     GES           False  0.768095 -4.300046e+01   NaN   all\n",
       "29     XGBoost     GES           False  0.851559 -2.149235e+01   NaN   all\n",
       "30  ElasticNet     GES            True  0.778663 -4.436141e+01   NaN   all\n",
       "31     XGBoost     GES            True  0.869277 -1.900334e+01   NaN   all"
      ]
     },
     "execution_count": 37,
     "metadata": {},
     "output_type": "execute_result"
    }
   ],
   "source": [
    "result_model_opt"
   ]
  },
  {
   "cell_type": "markdown",
   "id": "a132a2d5",
   "metadata": {},
   "source": [
    "## représentation des résultats"
   ]
  },
  {
   "cell_type": "markdown",
   "id": "c24d7a24",
   "metadata": {},
   "source": [
    "### consommation d'énergie"
   ]
  },
  {
   "cell_type": "code",
   "execution_count": 38,
   "id": "9733a089",
   "metadata": {},
   "outputs": [
    {
     "data": {
      "text/html": [
       "<div>\n",
       "<style scoped>\n",
       "    .dataframe tbody tr th:only-of-type {\n",
       "        vertical-align: middle;\n",
       "    }\n",
       "\n",
       "    .dataframe tbody tr th {\n",
       "        vertical-align: top;\n",
       "    }\n",
       "\n",
       "    .dataframe thead th {\n",
       "        text-align: right;\n",
       "    }\n",
       "</style>\n",
       "<table border=\"1\" class=\"dataframe\">\n",
       "  <thead>\n",
       "    <tr style=\"text-align: right;\">\n",
       "      <th></th>\n",
       "      <th>model</th>\n",
       "      <th>Y</th>\n",
       "      <th>ENERGYSTARScore</th>\n",
       "      <th>R2</th>\n",
       "      <th>MAE</th>\n",
       "      <th>%MAE</th>\n",
       "      <th>level</th>\n",
       "    </tr>\n",
       "  </thead>\n",
       "  <tbody>\n",
       "    <tr>\n",
       "      <th>0</th>\n",
       "      <td>ElasticNet</td>\n",
       "      <td>Energy</td>\n",
       "      <td>False</td>\n",
       "      <td>0.492872</td>\n",
       "      <td>-2.417405e+06</td>\n",
       "      <td>NaN</td>\n",
       "      <td>1</td>\n",
       "    </tr>\n",
       "    <tr>\n",
       "      <th>1</th>\n",
       "      <td>XGBoost</td>\n",
       "      <td>Energy</td>\n",
       "      <td>False</td>\n",
       "      <td>0.745544</td>\n",
       "      <td>-1.403054e+06</td>\n",
       "      <td>NaN</td>\n",
       "      <td>1</td>\n",
       "    </tr>\n",
       "    <tr>\n",
       "      <th>2</th>\n",
       "      <td>ElasticNet</td>\n",
       "      <td>Energy</td>\n",
       "      <td>True</td>\n",
       "      <td>0.512283</td>\n",
       "      <td>-2.507880e+06</td>\n",
       "      <td>NaN</td>\n",
       "      <td>1</td>\n",
       "    </tr>\n",
       "    <tr>\n",
       "      <th>3</th>\n",
       "      <td>XGBoost</td>\n",
       "      <td>Energy</td>\n",
       "      <td>True</td>\n",
       "      <td>0.748226</td>\n",
       "      <td>-1.342850e+06</td>\n",
       "      <td>NaN</td>\n",
       "      <td>1</td>\n",
       "    </tr>\n",
       "    <tr>\n",
       "      <th>4</th>\n",
       "      <td>ElasticNet</td>\n",
       "      <td>Energy</td>\n",
       "      <td>False</td>\n",
       "      <td>0.787775</td>\n",
       "      <td>-1.733114e+06</td>\n",
       "      <td>NaN</td>\n",
       "      <td>2</td>\n",
       "    </tr>\n",
       "    <tr>\n",
       "      <th>5</th>\n",
       "      <td>XGBoost</td>\n",
       "      <td>Energy</td>\n",
       "      <td>False</td>\n",
       "      <td>0.856894</td>\n",
       "      <td>-1.096726e+06</td>\n",
       "      <td>NaN</td>\n",
       "      <td>2</td>\n",
       "    </tr>\n",
       "    <tr>\n",
       "      <th>6</th>\n",
       "      <td>ElasticNet</td>\n",
       "      <td>Energy</td>\n",
       "      <td>True</td>\n",
       "      <td>0.801702</td>\n",
       "      <td>-1.764807e+06</td>\n",
       "      <td>NaN</td>\n",
       "      <td>2</td>\n",
       "    </tr>\n",
       "    <tr>\n",
       "      <th>7</th>\n",
       "      <td>XGBoost</td>\n",
       "      <td>Energy</td>\n",
       "      <td>True</td>\n",
       "      <td>0.864756</td>\n",
       "      <td>-9.914360e+05</td>\n",
       "      <td>NaN</td>\n",
       "      <td>2</td>\n",
       "    </tr>\n",
       "    <tr>\n",
       "      <th>8</th>\n",
       "      <td>ElasticNet</td>\n",
       "      <td>Energy</td>\n",
       "      <td>False</td>\n",
       "      <td>0.788036</td>\n",
       "      <td>-1.747036e+06</td>\n",
       "      <td>NaN</td>\n",
       "      <td>3</td>\n",
       "    </tr>\n",
       "    <tr>\n",
       "      <th>9</th>\n",
       "      <td>XGBoost</td>\n",
       "      <td>Energy</td>\n",
       "      <td>False</td>\n",
       "      <td>0.858991</td>\n",
       "      <td>-1.090772e+06</td>\n",
       "      <td>NaN</td>\n",
       "      <td>3</td>\n",
       "    </tr>\n",
       "    <tr>\n",
       "      <th>10</th>\n",
       "      <td>ElasticNet</td>\n",
       "      <td>Energy</td>\n",
       "      <td>True</td>\n",
       "      <td>0.802520</td>\n",
       "      <td>-1.770503e+06</td>\n",
       "      <td>NaN</td>\n",
       "      <td>3</td>\n",
       "    </tr>\n",
       "    <tr>\n",
       "      <th>11</th>\n",
       "      <td>XGBoost</td>\n",
       "      <td>Energy</td>\n",
       "      <td>True</td>\n",
       "      <td>0.878350</td>\n",
       "      <td>-9.446699e+05</td>\n",
       "      <td>NaN</td>\n",
       "      <td>3</td>\n",
       "    </tr>\n",
       "    <tr>\n",
       "      <th>12</th>\n",
       "      <td>ElasticNet</td>\n",
       "      <td>Energy</td>\n",
       "      <td>False</td>\n",
       "      <td>0.839775</td>\n",
       "      <td>-1.444435e+06</td>\n",
       "      <td>NaN</td>\n",
       "      <td>all</td>\n",
       "    </tr>\n",
       "    <tr>\n",
       "      <th>13</th>\n",
       "      <td>XGBoost</td>\n",
       "      <td>Energy</td>\n",
       "      <td>False</td>\n",
       "      <td>0.878055</td>\n",
       "      <td>-9.685634e+05</td>\n",
       "      <td>NaN</td>\n",
       "      <td>all</td>\n",
       "    </tr>\n",
       "    <tr>\n",
       "      <th>14</th>\n",
       "      <td>ElasticNet</td>\n",
       "      <td>Energy</td>\n",
       "      <td>True</td>\n",
       "      <td>0.844238</td>\n",
       "      <td>-1.467116e+06</td>\n",
       "      <td>NaN</td>\n",
       "      <td>all</td>\n",
       "    </tr>\n",
       "    <tr>\n",
       "      <th>15</th>\n",
       "      <td>XGBoost</td>\n",
       "      <td>Energy</td>\n",
       "      <td>True</td>\n",
       "      <td>0.881033</td>\n",
       "      <td>-8.314892e+05</td>\n",
       "      <td>NaN</td>\n",
       "      <td>all</td>\n",
       "    </tr>\n",
       "  </tbody>\n",
       "</table>\n",
       "</div>"
      ],
      "text/plain": [
       "         model       Y ENERGYSTARScore        R2           MAE  %MAE level\n",
       "0   ElasticNet  Energy           False  0.492872 -2.417405e+06   NaN     1\n",
       "1      XGBoost  Energy           False  0.745544 -1.403054e+06   NaN     1\n",
       "2   ElasticNet  Energy            True  0.512283 -2.507880e+06   NaN     1\n",
       "3      XGBoost  Energy            True  0.748226 -1.342850e+06   NaN     1\n",
       "4   ElasticNet  Energy           False  0.787775 -1.733114e+06   NaN     2\n",
       "5      XGBoost  Energy           False  0.856894 -1.096726e+06   NaN     2\n",
       "6   ElasticNet  Energy            True  0.801702 -1.764807e+06   NaN     2\n",
       "7      XGBoost  Energy            True  0.864756 -9.914360e+05   NaN     2\n",
       "8   ElasticNet  Energy           False  0.788036 -1.747036e+06   NaN     3\n",
       "9      XGBoost  Energy           False  0.858991 -1.090772e+06   NaN     3\n",
       "10  ElasticNet  Energy            True  0.802520 -1.770503e+06   NaN     3\n",
       "11     XGBoost  Energy            True  0.878350 -9.446699e+05   NaN     3\n",
       "12  ElasticNet  Energy           False  0.839775 -1.444435e+06   NaN   all\n",
       "13     XGBoost  Energy           False  0.878055 -9.685634e+05   NaN   all\n",
       "14  ElasticNet  Energy            True  0.844238 -1.467116e+06   NaN   all\n",
       "15     XGBoost  Energy            True  0.881033 -8.314892e+05   NaN   all"
      ]
     },
     "execution_count": 38,
     "metadata": {},
     "output_type": "execute_result"
    }
   ],
   "source": [
    "result_model_opt.loc[result_model_opt[\"Y\"]==\"Energy\"]"
   ]
  },
  {
   "cell_type": "code",
   "execution_count": 39,
   "id": "3364bcff",
   "metadata": {},
   "outputs": [
    {
     "name": "stdout",
     "output_type": "stream",
     "text": [
      "==================================================\n",
      "Coefficient de correlation\n",
      "==================================================\n"
     ]
    },
    {
     "data": {
      "image/png": "[encoded data removed]",
      "text/plain": [
       "<Figure size 1080x576 with 2 Axes>"
      ]
     },
     "metadata": {
      "needs_background": "light"
     },
     "output_type": "display_data"
    }
   ],
   "source": [
    "print(\"=\"*50)\n",
    "print(\"Coefficient de correlation\")\n",
    "print(\"=\"*50)\n",
    "fig,axs = plt.subplots(ncols=2, figsize=(15,8))\n",
    "for i, model in enumerate([\"ElasticNet\", 'XGBoost']) :\n",
    "    dat = result_model_opt.loc[(result_model_opt[\"Y\"]==\"Energy\") & (result_model_opt[\"ENERGYSTARScore\"] == False ) \\\n",
    "                              & (result_model_opt['model']==model)]\n",
    "    \n",
    "    axs[i].bar(range(0,len(dat)*2, 2), dat['R2'], width=0.5, label=\"No ENERGYSTARScore\")\n",
    "    dat = result_model_opt.loc[(result_model_opt[\"Y\"]==\"Energy\") & (result_model_opt[\"ENERGYSTARScore\"] == True ) \\\n",
    "                              & (result_model_opt['model']==model)]\n",
    "    axs[i].bar(range(1,len(dat)*2, 2), dat['R2'], width=0.5, label=\"ENERGYSTARScore\")\n",
    "    axs[i].set_xticks(range(0,len(dat)*2, 1), minor=False)\n",
    "    axs[i].set_xticklabels([1,1,2,2,3,3,\"all\", 'all'])\n",
    "    axs[i].set_title(model)\n",
    "plt.legend(loc=0)\n",
    "plt.show()"
   ]
  },
  {
   "cell_type": "code",
   "execution_count": 40,
   "id": "fead9078",
   "metadata": {},
   "outputs": [
    {
     "name": "stdout",
     "output_type": "stream",
     "text": [
      "==================================================\n",
      "Erreur moyenne\n",
      "==================================================\n",
      "Erreur moyenne de la baseline = 4.57733e+06\n"
     ]
    },
    {
     "data": {
      "image/png": "[encoded data removed]",
      "text/plain": [
       "<Figure size 1080x576 with 2 Axes>"
      ]
     },
     "metadata": {
      "needs_background": "light"
     },
     "output_type": "display_data"
    }
   ],
   "source": [
    "print(\"=\"*50)\n",
    "print(\"Erreur moyenne\")\n",
    "print(\"=\"*50)\n",
    "print(f\"Erreur moyenne de la baseline = {MAE_mean_NRJ:.5e}\")\n",
    "fig,axs = plt.subplots(ncols=2, figsize=(15,8))\n",
    "for i, model in enumerate([\"ElasticNet\", 'XGBoost']) :\n",
    "    dat = result_model_opt.loc[(result_model_opt[\"Y\"]==\"Energy\") & (result_model_opt[\"ENERGYSTARScore\"] == False ) \\\n",
    "                              & (result_model_opt['model']==model)]\n",
    "    \n",
    "    axs[i].bar(range(0,len(dat)*2, 2), -dat['MAE'], width=0.5, label=\"No ENERGYSTARScore\")\n",
    "    dat = result_model_opt.loc[(result_model_opt[\"Y\"]==\"Energy\") & (result_model_opt[\"ENERGYSTARScore\"] == True ) \\\n",
    "                              & (result_model_opt['model']==model)]\n",
    "    axs[i].bar(range(1,len(dat)*2, 2), -dat['MAE'], width=0.5, label=\"ENERGYSTARScore\")\n",
    "    axs[i].set_xticks(range(0,len(dat)*2, 1), minor=False)\n",
    "    axs[i].set_xticklabels([1,1,2,2,3,3,\"all\", 'all'])\n",
    "    axs[i].set_title(model)\n",
    "plt.legend(loc=0)\n",
    "plt.show()"
   ]
  },
  {
   "cell_type": "markdown",
   "id": "a07bfd47",
   "metadata": {},
   "source": [
    "les modèles XGBoost donnent de meilleures performances.  \n",
    "L'erreur la plus faible est otenue en utilisant l'ensemble des variables disponibles.\n",
    "Cependant la différence entre le niveau 2 et avec l'ensemble de toutes les données n'est pas très importante et peut donc être un bon compromis entre précision de prédiction et qualité des données.  \n",
    "    De même le gain obtenu grâce à l'ENERGYSTARScore n'est pas significatif et donc une bonne prédiction peut être réalisée sans.\n",
    "   "
   ]
  },
  {
   "cell_type": "markdown",
   "id": "ce0b7694",
   "metadata": {},
   "source": [
    "### Emission de GES"
   ]
  },
  {
   "cell_type": "code",
   "execution_count": 41,
   "id": "cc972bba",
   "metadata": {},
   "outputs": [
    {
     "data": {
      "text/html": [
       "<div>\n",
       "<style scoped>\n",
       "    .dataframe tbody tr th:only-of-type {\n",
       "        vertical-align: middle;\n",
       "    }\n",
       "\n",
       "    .dataframe tbody tr th {\n",
       "        vertical-align: top;\n",
       "    }\n",
       "\n",
       "    .dataframe thead th {\n",
       "        text-align: right;\n",
       "    }\n",
       "</style>\n",
       "<table border=\"1\" class=\"dataframe\">\n",
       "  <thead>\n",
       "    <tr style=\"text-align: right;\">\n",
       "      <th></th>\n",
       "      <th>model</th>\n",
       "      <th>Y</th>\n",
       "      <th>ENERGYSTARScore</th>\n",
       "      <th>R2</th>\n",
       "      <th>MAE</th>\n",
       "      <th>%MAE</th>\n",
       "      <th>level</th>\n",
       "    </tr>\n",
       "  </thead>\n",
       "  <tbody>\n",
       "    <tr>\n",
       "      <th>16</th>\n",
       "      <td>ElasticNet</td>\n",
       "      <td>GES</td>\n",
       "      <td>False</td>\n",
       "      <td>0.098545</td>\n",
       "      <td>-75.264992</td>\n",
       "      <td>NaN</td>\n",
       "      <td>1</td>\n",
       "    </tr>\n",
       "    <tr>\n",
       "      <th>17</th>\n",
       "      <td>XGBoost</td>\n",
       "      <td>GES</td>\n",
       "      <td>False</td>\n",
       "      <td>0.663830</td>\n",
       "      <td>-36.770659</td>\n",
       "      <td>NaN</td>\n",
       "      <td>1</td>\n",
       "    </tr>\n",
       "    <tr>\n",
       "      <th>18</th>\n",
       "      <td>ElasticNet</td>\n",
       "      <td>GES</td>\n",
       "      <td>True</td>\n",
       "      <td>0.109249</td>\n",
       "      <td>-82.440547</td>\n",
       "      <td>NaN</td>\n",
       "      <td>1</td>\n",
       "    </tr>\n",
       "    <tr>\n",
       "      <th>19</th>\n",
       "      <td>XGBoost</td>\n",
       "      <td>GES</td>\n",
       "      <td>True</td>\n",
       "      <td>0.706443</td>\n",
       "      <td>-35.244216</td>\n",
       "      <td>NaN</td>\n",
       "      <td>1</td>\n",
       "    </tr>\n",
       "    <tr>\n",
       "      <th>20</th>\n",
       "      <td>ElasticNet</td>\n",
       "      <td>GES</td>\n",
       "      <td>False</td>\n",
       "      <td>0.666571</td>\n",
       "      <td>-49.152379</td>\n",
       "      <td>NaN</td>\n",
       "      <td>2</td>\n",
       "    </tr>\n",
       "    <tr>\n",
       "      <th>21</th>\n",
       "      <td>XGBoost</td>\n",
       "      <td>GES</td>\n",
       "      <td>False</td>\n",
       "      <td>0.781135</td>\n",
       "      <td>-31.488771</td>\n",
       "      <td>NaN</td>\n",
       "      <td>2</td>\n",
       "    </tr>\n",
       "    <tr>\n",
       "      <th>22</th>\n",
       "      <td>ElasticNet</td>\n",
       "      <td>GES</td>\n",
       "      <td>True</td>\n",
       "      <td>0.676043</td>\n",
       "      <td>-51.065969</td>\n",
       "      <td>NaN</td>\n",
       "      <td>2</td>\n",
       "    </tr>\n",
       "    <tr>\n",
       "      <th>23</th>\n",
       "      <td>XGBoost</td>\n",
       "      <td>GES</td>\n",
       "      <td>True</td>\n",
       "      <td>0.807311</td>\n",
       "      <td>-29.510969</td>\n",
       "      <td>NaN</td>\n",
       "      <td>2</td>\n",
       "    </tr>\n",
       "    <tr>\n",
       "      <th>24</th>\n",
       "      <td>ElasticNet</td>\n",
       "      <td>GES</td>\n",
       "      <td>False</td>\n",
       "      <td>0.693099</td>\n",
       "      <td>-48.706459</td>\n",
       "      <td>NaN</td>\n",
       "      <td>3</td>\n",
       "    </tr>\n",
       "    <tr>\n",
       "      <th>25</th>\n",
       "      <td>XGBoost</td>\n",
       "      <td>GES</td>\n",
       "      <td>False</td>\n",
       "      <td>0.839532</td>\n",
       "      <td>-24.358462</td>\n",
       "      <td>NaN</td>\n",
       "      <td>3</td>\n",
       "    </tr>\n",
       "    <tr>\n",
       "      <th>26</th>\n",
       "      <td>ElasticNet</td>\n",
       "      <td>GES</td>\n",
       "      <td>True</td>\n",
       "      <td>0.707262</td>\n",
       "      <td>-50.211484</td>\n",
       "      <td>NaN</td>\n",
       "      <td>3</td>\n",
       "    </tr>\n",
       "    <tr>\n",
       "      <th>27</th>\n",
       "      <td>XGBoost</td>\n",
       "      <td>GES</td>\n",
       "      <td>True</td>\n",
       "      <td>0.864315</td>\n",
       "      <td>-21.727707</td>\n",
       "      <td>NaN</td>\n",
       "      <td>3</td>\n",
       "    </tr>\n",
       "    <tr>\n",
       "      <th>28</th>\n",
       "      <td>ElasticNet</td>\n",
       "      <td>GES</td>\n",
       "      <td>False</td>\n",
       "      <td>0.768095</td>\n",
       "      <td>-43.000457</td>\n",
       "      <td>NaN</td>\n",
       "      <td>all</td>\n",
       "    </tr>\n",
       "    <tr>\n",
       "      <th>29</th>\n",
       "      <td>XGBoost</td>\n",
       "      <td>GES</td>\n",
       "      <td>False</td>\n",
       "      <td>0.851559</td>\n",
       "      <td>-21.492351</td>\n",
       "      <td>NaN</td>\n",
       "      <td>all</td>\n",
       "    </tr>\n",
       "    <tr>\n",
       "      <th>30</th>\n",
       "      <td>ElasticNet</td>\n",
       "      <td>GES</td>\n",
       "      <td>True</td>\n",
       "      <td>0.778663</td>\n",
       "      <td>-44.361410</td>\n",
       "      <td>NaN</td>\n",
       "      <td>all</td>\n",
       "    </tr>\n",
       "    <tr>\n",
       "      <th>31</th>\n",
       "      <td>XGBoost</td>\n",
       "      <td>GES</td>\n",
       "      <td>True</td>\n",
       "      <td>0.869277</td>\n",
       "      <td>-19.003338</td>\n",
       "      <td>NaN</td>\n",
       "      <td>all</td>\n",
       "    </tr>\n",
       "  </tbody>\n",
       "</table>\n",
       "</div>"
      ],
      "text/plain": [
       "         model    Y ENERGYSTARScore        R2        MAE  %MAE level\n",
       "16  ElasticNet  GES           False  0.098545 -75.264992   NaN     1\n",
       "17     XGBoost  GES           False  0.663830 -36.770659   NaN     1\n",
       "18  ElasticNet  GES            True  0.109249 -82.440547   NaN     1\n",
       "19     XGBoost  GES            True  0.706443 -35.244216   NaN     1\n",
       "20  ElasticNet  GES           False  0.666571 -49.152379   NaN     2\n",
       "21     XGBoost  GES           False  0.781135 -31.488771   NaN     2\n",
       "22  ElasticNet  GES            True  0.676043 -51.065969   NaN     2\n",
       "23     XGBoost  GES            True  0.807311 -29.510969   NaN     2\n",
       "24  ElasticNet  GES           False  0.693099 -48.706459   NaN     3\n",
       "25     XGBoost  GES           False  0.839532 -24.358462   NaN     3\n",
       "26  ElasticNet  GES            True  0.707262 -50.211484   NaN     3\n",
       "27     XGBoost  GES            True  0.864315 -21.727707   NaN     3\n",
       "28  ElasticNet  GES           False  0.768095 -43.000457   NaN   all\n",
       "29     XGBoost  GES           False  0.851559 -21.492351   NaN   all\n",
       "30  ElasticNet  GES            True  0.778663 -44.361410   NaN   all\n",
       "31     XGBoost  GES            True  0.869277 -19.003338   NaN   all"
      ]
     },
     "execution_count": 41,
     "metadata": {},
     "output_type": "execute_result"
    }
   ],
   "source": [
    "result_model_opt.loc[result_model_opt[\"Y\"]==\"GES\"]"
   ]
  },
  {
   "cell_type": "code",
   "execution_count": 42,
   "id": "f3088074",
   "metadata": {},
   "outputs": [
    {
     "name": "stdout",
     "output_type": "stream",
     "text": [
      "==================================================\n",
      "Coefficient de correlation\n",
      "==================================================\n"
     ]
    },
    {
     "data": {
      "image/png": "[encoded data removed]",
      "text/plain": [
       "<Figure size 1080x576 with 2 Axes>"
      ]
     },
     "metadata": {
      "needs_background": "light"
     },
     "output_type": "display_data"
    }
   ],
   "source": [
    "print(\"=\"*50)\n",
    "print(\"Coefficient de correlation\")\n",
    "print(\"=\"*50)\n",
    "fig,axs = plt.subplots(ncols=2, figsize=(15,8))\n",
    "for i, model in enumerate([\"ElasticNet\", 'XGBoost']) :\n",
    "    dat = result_model_opt.loc[(result_model_opt[\"Y\"]==\"GES\") & (result_model_opt[\"ENERGYSTARScore\"] == False ) \\\n",
    "                              & (result_model_opt['model']==model)]\n",
    "    \n",
    "    axs[i].bar(range(0,len(dat)*2, 2), dat['R2'], width=0.5, label=\"No ENERGYSTARScore\")\n",
    "    dat = result_model_opt.loc[(result_model_opt[\"Y\"]==\"GES\") & (result_model_opt[\"ENERGYSTARScore\"] == True ) \\\n",
    "                              & (result_model_opt['model']==model)]\n",
    "    axs[i].bar(range(1,len(dat)*2, 2), dat['R2'], width=0.5, label=\"ENERGYSTARScore\")\n",
    "    axs[i].set_xticks(range(0,len(dat)*2, 1), minor=False)\n",
    "    axs[i].set_xticklabels([1,1,2,2,3,3,\"all\", 'all'])\n",
    "    axs[i].set_title(model)\n",
    "plt.legend(loc=0)\n",
    "plt.show()"
   ]
  },
  {
   "cell_type": "code",
   "execution_count": 43,
   "id": "afdf8b9f",
   "metadata": {
    "scrolled": false
   },
   "outputs": [
    {
     "name": "stdout",
     "output_type": "stream",
     "text": [
      "==================================================\n",
      "Erreur moyenne\n",
      "==================================================\n",
      "Erreur moyenne de la baseline = 98.86887\n"
     ]
    },
    {
     "data": {
      "image/png": "[encoded data removed]",
      "text/plain": [
       "<Figure size 1080x576 with 2 Axes>"
      ]
     },
     "metadata": {
      "needs_background": "light"
     },
     "output_type": "display_data"
    }
   ],
   "source": [
    "print(\"=\"*50)\n",
    "print(\"Erreur moyenne\")\n",
    "print(\"=\"*50)\n",
    "print(f\"Erreur moyenne de la baseline = {MAE_mean_GES:.5f}\")\n",
    "fig,axs = plt.subplots(ncols=2, figsize=(15,8))\n",
    "for i, model in enumerate([\"ElasticNet\", 'XGBoost']) :\n",
    "    dat = result_model_opt.loc[(result_model_opt[\"Y\"]==\"GES\") & (result_model_opt[\"ENERGYSTARScore\"] == False ) \\\n",
    "                              & (result_model_opt['model']==model)]\n",
    "    \n",
    "    axs[i].bar(range(0,len(dat)*2, 2), -dat['MAE'], width=0.5, label=\"No ENERGYSTARScore\")\n",
    "    dat = result_model_opt.loc[(result_model_opt[\"Y\"]==\"GES\") & (result_model_opt[\"ENERGYSTARScore\"] == True ) \\\n",
    "                              & (result_model_opt['model']==model)]\n",
    "    axs[i].bar(range(1,len(dat)*2, 2), -dat['MAE'], width=0.5, label=\"ENERGYSTARScore\")\n",
    "    axs[i].set_xticks(range(0,len(dat)*2, 1), minor=False)\n",
    "    axs[i].set_xticklabels([1,1,2,2,3,3,\"all\", 'all'])\n",
    "    axs[i].set_title(model)\n",
    "plt.legend(loc=0)\n",
    "plt.show()"
   ]
  },
  {
   "cell_type": "markdown",
   "id": "bb9ebcf6",
   "metadata": {},
   "source": [
    "Comme pour la consommation d'énergie, le modèle le plus performant est le XGBoost. \n",
    "Par contre cette fois plus on ajoute de variables, plus on augmente sensiblement la précision de la prédiction.  \n",
    "Utiliser la variable ENERGYSTARScore permet d'incoporer moins de variables tout en ayant toujour le même niveau de précision.  "
   ]
  },
  {
   "cell_type": "markdown",
   "id": "bc9ee637",
   "metadata": {},
   "source": [
    "## Précision sur le test set\n",
    "L'évaluation du test set est effectuée sur l'ensemble des variables puisque cela permet d'obtenir les meilleurs résultats"
   ]
  },
  {
   "cell_type": "markdown",
   "id": "9ffd818e",
   "metadata": {},
   "source": [
    "### Consommation d'énergie"
   ]
  },
  {
   "cell_type": "code",
   "execution_count": 44,
   "id": "8b86fb1b",
   "metadata": {},
   "outputs": [
    {
     "data": {
      "text/plain": [
       "XGBRegressor(base_score=0.5, booster='gbtree', colsample_bylevel=1,\n",
       "             colsample_bynode=1, colsample_bytree=0.8, enable_categorical=False,\n",
       "             gamma=0, gpu_id=-1, importance_type=None,\n",
       "             interaction_constraints='', learning_rate=0.1, max_delta_step=0,\n",
       "             max_depth=16, min_child_weight=1, missing=nan,\n",
       "             monotone_constraints='()', n_estimators=400, n_jobs=12,\n",
       "             num_parallel_tree=1, predictor='auto', random_state=0, reg_alpha=0,\n",
       "             reg_lambda=1, scale_pos_weight=1, subsample=0.6,\n",
       "             tree_method='exact', validate_parameters=1, verbosity=None)"
      ]
     },
     "execution_count": 44,
     "metadata": {},
     "output_type": "execute_result"
    }
   ],
   "source": [
    "level_col = column[\"all\"]+[\"ENERGYSTARScore\"]\n",
    "model_NRJ = tunning_result['NRJ'][\"XGBoost\"].best_estimator_\n",
    "model_NRJ.fit(X_train[level_col], y_train_NRJ)"
   ]
  },
  {
   "cell_type": "code",
   "execution_count": 45,
   "id": "4c851f69",
   "metadata": {},
   "outputs": [
    {
     "name": "stdout",
     "output_type": "stream",
     "text": [
      "Erreur moyenne sur la baseline = 4.57733e+06\n",
      "Erreur moyenne sur la cross validation = 8.31489e+05\n",
      "Erreur moyenne sur le jeu de train = 5.25551e+03\n",
      "Erreur moyenne sur le jeu de test = 7.04893e+05\n"
     ]
    }
   ],
   "source": [
    "y_pred = model_NRJ.predict(X_test[level_col])\n",
    "cv_mae = result_model_opt.loc[(result_model_opt['Y']==\"Energy\") & (result_model_opt[\"ENERGYSTARScore\"] == True ) \\\n",
    "                              & (result_model_opt['model']==\"XGBoost\") & (result_model_opt[\"level\"]==\"all\")][\"MAE\"].values[0]\n",
    "print(f\"Erreur moyenne sur la baseline = {MAE_mean_NRJ:.5e}\")\n",
    "print(f\"Erreur moyenne sur la cross validation = {-cv_mae:.5e}\")\n",
    "print(f\"Erreur moyenne sur le jeu de train = {metrics.mean_absolute_error(y_train_NRJ, model_NRJ.predict(X_train[level_col])):.5e}\")\n",
    "print(f\"Erreur moyenne sur le jeu de test = {metrics.mean_absolute_error(y_test_NRJ, y_pred):.5e}\")\n",
    "#print(f\"{name:15s}: {cv_results.mean():10.3f} ({cv_results.std():10.3f})\")"
   ]
  },
  {
   "cell_type": "code",
   "execution_count": 46,
   "id": "dd6c3b0c",
   "metadata": {},
   "outputs": [
    {
     "data": {
      "image/png": "[encoded data removed]",
      "text/plain": [
       "<Figure size 1080x576 with 2 Axes>"
      ]
     },
     "metadata": {
      "needs_background": "light"
     },
     "output_type": "display_data"
    }
   ],
   "source": [
    "fig, axs = plt.subplots(ncols=2, figsize=(15,8))\n",
    "axs[0].plot(y_train_NRJ, model_NRJ.predict(X_train[level_col]), marker='+', linestyle=\"\", color=\"red\")\n",
    "axs[0].plot(y_train_NRJ, y_train_NRJ, linestyle=\"--\", color=\"blue\")\n",
    "axs[0].set_title(\"Train set\")\n",
    "axs[0].set_xlabel(\"Y_true\")\n",
    "axs[0].set_ylabel(\"Y_pred\")\n",
    "axs[1].plot(y_test_NRJ, model_NRJ.predict(X_test[level_col]), marker='+', linestyle=\"\", color=\"red\")\n",
    "axs[1].plot(y_test_NRJ, y_test_NRJ, linestyle=\"--\", color=\"blue\")\n",
    "axs[1].set_title(\"Test set\")\n",
    "axs[1].set_xlabel(\"Y_true\")\n",
    "axs[1].set_ylabel(\"Y_pred\")\n",
    "plt.show()"
   ]
  },
  {
   "cell_type": "markdown",
   "id": "a29ccae4",
   "metadata": {},
   "source": [
    "La précision obtenue sur le jeu de test est aussi bon que sur le jeu d'entrainement avec une validation croisée"
   ]
  },
  {
   "cell_type": "markdown",
   "id": "ba3a204a",
   "metadata": {},
   "source": [
    "#### Importance des variables"
   ]
  },
  {
   "cell_type": "code",
   "execution_count": 47,
   "id": "b0b2ade2",
   "metadata": {},
   "outputs": [
    {
     "data": {
      "image/png": "[encoded data removed]",
      "text/plain": [
       "<Figure size 1080x720 with 1 Axes>"
      ]
     },
     "metadata": {
      "needs_background": "light"
     },
     "output_type": "display_data"
    }
   ],
   "source": [
    "fig, ax = plt.subplots(figsize=(15,10))\n",
    "xgb.plot_importance(model_NRJ, importance_type=\"gain\", max_num_features=15, show_values=False, ax=ax)\n",
    "plt.show()"
   ]
  },
  {
   "cell_type": "markdown",
   "id": "98936aa7",
   "metadata": {},
   "source": [
    "Cette figure permet d'identifier les variables offrant le meilleur gain.   \n",
    "Il est a noter que l'ENERGYSTARScore n'apparait pas parmi les 20 plus importantes"
   ]
  },
  {
   "cell_type": "markdown",
   "id": "cdad1845",
   "metadata": {},
   "source": [
    "### Emission de GES"
   ]
  },
  {
   "cell_type": "code",
   "execution_count": 48,
   "id": "e170d4d2",
   "metadata": {},
   "outputs": [
    {
     "data": {
      "text/plain": [
       "XGBRegressor(base_score=0.5, booster='gbtree', colsample_bylevel=1,\n",
       "             colsample_bynode=1, colsample_bytree=0.8, enable_categorical=False,\n",
       "             gamma=0, gpu_id=-1, importance_type=None,\n",
       "             interaction_constraints='', learning_rate=0.1, max_delta_step=0,\n",
       "             max_depth=21, min_child_weight=1, missing=nan,\n",
       "             monotone_constraints='()', n_estimators=300, n_jobs=12,\n",
       "             num_parallel_tree=1, predictor='auto', random_state=0, reg_alpha=0,\n",
       "             reg_lambda=1, scale_pos_weight=1, subsample=0.8,\n",
       "             tree_method='exact', validate_parameters=1, verbosity=None)"
      ]
     },
     "execution_count": 48,
     "metadata": {},
     "output_type": "execute_result"
    }
   ],
   "source": [
    "level_col = column[\"all\"]+[\"ENERGYSTARScore\"]\n",
    "model_GES = tunning_result['GES'][\"XGBoost\"].best_estimator_\n",
    "model_GES.fit(X_train[level_col], y_train_GES)"
   ]
  },
  {
   "cell_type": "code",
   "execution_count": 49,
   "id": "e1a6e910",
   "metadata": {
    "scrolled": true
   },
   "outputs": [
    {
     "name": "stdout",
     "output_type": "stream",
     "text": [
      "Erreur moyenne sur la baseline = 98.869\n",
      "Erreur moyenne sur la cross validation = 19.003\n",
      "Erreur moyenne sur le jeu de train = 0.012\n",
      "Erreur moyenne sur le jeu de test = 17.466\n"
     ]
    }
   ],
   "source": [
    "y_pred = model_GES.predict(X_test[level_col])\n",
    "cv_mae = result_model_opt.loc[(result_model_opt['Y']==\"GES\") & (result_model_opt[\"ENERGYSTARScore\"] == True ) \\\n",
    "                              & (result_model_opt['model']==\"XGBoost\") & (result_model_opt[\"level\"]==\"all\")][\"MAE\"].values[0]\n",
    "print(f\"Erreur moyenne sur la baseline = {MAE_mean_GES:.3f}\")\n",
    "print(f\"Erreur moyenne sur la cross validation = {-cv_mae:.3f}\")\n",
    "print(f\"Erreur moyenne sur le jeu de train = {metrics.mean_absolute_error(y_train_GES, model_GES.predict(X_train[level_col])):.3f}\")\n",
    "print(f\"Erreur moyenne sur le jeu de test = {metrics.mean_absolute_error(y_test_GES, y_pred):.3f}\")"
   ]
  },
  {
   "cell_type": "code",
   "execution_count": 50,
   "id": "80eac51c",
   "metadata": {
    "scrolled": false
   },
   "outputs": [
    {
     "data": {
      "image/png": "[encoded data removed]",
      "text/plain": [
       "<Figure size 1080x576 with 2 Axes>"
      ]
     },
     "metadata": {
      "needs_background": "light"
     },
     "output_type": "display_data"
    }
   ],
   "source": [
    "fig, axs = plt.subplots(ncols=2, figsize=(15,8))\n",
    "axs[0].plot(y_train_GES, model_GES.predict(X_train[level_col]), marker='+', linestyle=\"\", color=\"red\")\n",
    "axs[0].plot(y_train_GES, y_train_GES, linestyle=\"--\", color=\"blue\")\n",
    "axs[0].set_title(\"Train set\")\n",
    "axs[0].set_xlabel(\"Y_true\")\n",
    "axs[0].set_ylabel(\"Y_pred\")\n",
    "axs[1].plot(y_test_GES, model_GES.predict(X_test[level_col]), marker='+', linestyle=\"\", color=\"red\")\n",
    "axs[1].plot(y_test_GES, y_test_GES, linestyle=\"--\", color=\"blue\")\n",
    "axs[1].set_title(\"Test set\")\n",
    "axs[1].set_xlabel(\"Y_true\")\n",
    "axs[1].set_ylabel(\"Y_pred\")\n",
    "plt.show()"
   ]
  },
  {
   "cell_type": "markdown",
   "id": "5c28f671",
   "metadata": {},
   "source": [
    "#### Importances des variables"
   ]
  },
  {
   "cell_type": "code",
   "execution_count": 51,
   "id": "29a5aa2f",
   "metadata": {},
   "outputs": [
    {
     "data": {
      "image/png": "[encoded data removed]",
      "text/plain": [
       "<Figure size 1080x720 with 1 Axes>"
      ]
     },
     "metadata": {
      "needs_background": "light"
     },
     "output_type": "display_data"
    }
   ],
   "source": [
    "fig, ax = plt.subplots(figsize=(15,10))\n",
    "xgb.plot_importance(model_GES, importance_type=\"gain\", max_num_features=15, show_values=False, ax=ax)\n",
    "plt.show()"
   ]
  },
  {
   "cell_type": "markdown",
   "id": "21c8ca65",
   "metadata": {},
   "source": [
    "On remarque cette fois que l'ENERGYSTARScore est présente parmis les 20 variables les plus importantes mais son score reste faible."
   ]
  },
  {
   "cell_type": "markdown",
   "id": "e4cc248f",
   "metadata": {},
   "source": [
    "## Test avec le second dataset"
   ]
  },
  {
   "cell_type": "code",
   "execution_count": 52,
   "id": "79156fc0",
   "metadata": {},
   "outputs": [],
   "source": [
    "DATA = pd.read_csv(\"data/building-energy-benchmarking_cleaned.csv\")"
   ]
  },
  {
   "cell_type": "code",
   "execution_count": 53,
   "id": "17f3a430",
   "metadata": {},
   "outputs": [
    {
     "name": "stdout",
     "output_type": "stream",
     "text": [
      "Nombre d'observation dans le train set 4592\n",
      "Nombre d'observation dans le test set 1149\n"
     ]
    }
   ],
   "source": [
    "Y = DATA[[\"SiteEnergyUseWN(kBtu)\", \"GHGEmissions(MetricTonsCO2e)\"]]\n",
    "X = DATA.drop([\"SiteEnergyUseWN(kBtu)\", \"GHGEmissions(MetricTonsCO2e)\", 'OSEBuildingID', 'PrimaryPropertyType',\\\n",
    "              'LargestPropertyUseType', 'LargestPropertyUseTypeGFA', 'SteamUse(kBtu)', 'Electricity(kBtu)', \\\n",
    "               'NaturalGas(kBtu)', 'OtherFuelUse(kBtu)' ], axis=1,inplace=False)\n",
    "X_train, X_test, Y_train, Y_test = model_selection.train_test_split(X, Y, test_size=0.2, random_state=42)\n",
    "y_train_NRJ = Y_train[\"SiteEnergyUseWN(kBtu)\"].values\n",
    "y_train_GES = Y_train[\"GHGEmissions(MetricTonsCO2e)\"].values\n",
    "y_test_NRJ = Y_test[\"SiteEnergyUseWN(kBtu)\"].values\n",
    "y_test_GES = Y_test[\"GHGEmissions(MetricTonsCO2e)\"].values\n",
    "print(f\"Nombre d'observation dans le train set {len(X_train)}\")\n",
    "print(f\"Nombre d'observation dans le test set {len(X_test)}\")"
   ]
  },
  {
   "cell_type": "markdown",
   "id": "ae80baa9",
   "metadata": {},
   "source": [
    "### cross validation \n",
    "#### Consommation d'énergie"
   ]
  },
  {
   "cell_type": "code",
   "execution_count": 54,
   "id": "0f2b0d42",
   "metadata": {},
   "outputs": [
    {
     "name": "stdout",
     "output_type": "stream",
     "text": [
      "XGBoost sans ENERGYSTARScore: -1205363.389 (301548.023)\n",
      "XGBoost avec ENERGYSTARScore: -1297467.144 (304949.643)\n"
     ]
    }
   ],
   "source": [
    "energystarscore = False\n",
    "level_col = column[\"all\"]\n",
    "norm=\"no\"\n",
    "score =\"neg_mean_absolute_error\"\n",
    "x_train = X_train[level_col]\n",
    "y_train = y_train_NRJ\n",
    "model = tunning_result['NRJ'][\"XGBoost\"].best_estimator_\n",
    "kfold = model_selection.KFold(n_splits=n_fold, random_state=seed, shuffle=True)\n",
    "cv_results = model_selection.cross_val_score(model, x_train, y_train, cv=kfold, scoring=score, n_jobs=n_job)\n",
    "print(f\"XGBoost sans ENERGYSTARScore: {cv_results.mean():10.3f} ({cv_results.std():10.3f})\")\n",
    "\n",
    "energystarscore = True\n",
    "level_col = column[\"all\"]+[\"ENERGYSTARScore\"]\n",
    "norm=\"no\"\n",
    "score =\"neg_mean_absolute_error\"\n",
    "x_train = X_train[level_col]\n",
    "y_train = y_train_NRJ\n",
    "model = tunning_result['NRJ'][\"XGBoost\"].best_estimator_\n",
    "kfold = model_selection.KFold(n_splits=n_fold, random_state=seed, shuffle=True)\n",
    "cv_results = model_selection.cross_val_score(model, x_train, y_train, cv=kfold, scoring=score, n_jobs=n_job)\n",
    "print(f\"XGBoost avec ENERGYSTARScore: {cv_results.mean():10.3f} ({cv_results.std():10.3f})\")\n"
   ]
  },
  {
   "cell_type": "markdown",
   "id": "01e207ad",
   "metadata": {},
   "source": [
    "#### Emission de GES"
   ]
  },
  {
   "cell_type": "code",
   "execution_count": 55,
   "id": "f5730ac3",
   "metadata": {},
   "outputs": [
    {
     "name": "stdout",
     "output_type": "stream",
     "text": [
      "XGBoost sans ENERGYSTARScore:    -25.335 (     4.216)\n",
      "XGBoost avec ENERGYSTARScore:    -27.028 (     4.480)\n"
     ]
    }
   ],
   "source": [
    "energystarscore = False\n",
    "level_col = column[\"all\"]\n",
    "norm=\"no\"\n",
    "score =\"neg_mean_absolute_error\"\n",
    "x_train = X_train[level_col]\n",
    "y_train = y_train_GES\n",
    "model = tunning_result['GES'][\"XGBoost\"].best_estimator_\n",
    "kfold = model_selection.KFold(n_splits=n_fold, random_state=seed, shuffle=True)\n",
    "cv_results = model_selection.cross_val_score(model, x_train, y_train, cv=kfold, scoring=score, n_jobs=n_job)\n",
    "print(f\"XGBoost sans ENERGYSTARScore: {cv_results.mean():10.3f} ({cv_results.std():10.3f})\")\n",
    "\n",
    "energystarscore = True\n",
    "level_col = column[\"all\"]+[\"ENERGYSTARScore\"]\n",
    "norm=\"no\"\n",
    "score =\"neg_mean_absolute_error\"\n",
    "x_train = X_train[level_col]\n",
    "y_train = y_train_GES\n",
    "model = tunning_result['GES'][\"XGBoost\"].best_estimator_\n",
    "kfold = model_selection.KFold(n_splits=n_fold, random_state=seed, shuffle=True)\n",
    "cv_results = model_selection.cross_val_score(model, x_train, y_train, cv=kfold, scoring=score, n_jobs=n_job)\n",
    "print(f\"XGBoost avec ENERGYSTARScore: {cv_results.mean():10.3f} ({cv_results.std():10.3f})\")"
   ]
  },
  {
   "cell_type": "markdown",
   "id": "031a8040",
   "metadata": {},
   "source": [
    "Ajouter plus de données ne permet pas d'améliorer la précision de la prédiction.  \n",
    "Ce jeu de données est donc suffisant pour prédire la consommation énergétique et les émissions de GES de  l'ensemble des batiments.  \n",
    "On note également que la méthode d'imputation utilisée ne semble pas adaptée puisque l'utilisation de la variable ENERGYSTARScore dégrade la performance cette fois."
   ]
  },
  {
   "cell_type": "markdown",
   "id": "ac42d3dc",
   "metadata": {},
   "source": [
    "### learning curve\n",
    "Pour confirmer que le nombre de données dans le premier dataset, nous allons représenter la courbe d'apprentissage "
   ]
  },
  {
   "cell_type": "code",
   "execution_count": 56,
   "id": "32bf2dee",
   "metadata": {},
   "outputs": [],
   "source": [
    "n_sample, train_score, test_score, *time = model_selection.learning_curve(tunning_result['NRJ'][\"XGBoost\"].best_estimator_, \\\n",
    "                                                                          X_train[level_col], y_train_NRJ,\\\n",
    "                                                                          train_sizes=np.linspace(0.1, 1, 20), \\\n",
    "                                                                          scoring=\"neg_mean_absolute_error\", \\\n",
    "                                                                          random_state=42,\\\n",
    "                                                                          n_jobs=n_job, cv=10, shuffle=True\\\n",
    "                              )"
   ]
  },
  {
   "cell_type": "code",
   "execution_count": 57,
   "id": "8ead4410",
   "metadata": {},
   "outputs": [
    {
     "data": {
      "image/png": "[encoded data removed]",
      "text/plain": [
       "<Figure size 432x288 with 1 Axes>"
      ]
     },
     "metadata": {
      "needs_background": "light"
     },
     "output_type": "display_data"
    }
   ],
   "source": [
    "fig, ax = plt.subplots()\n",
    "ax.plot(n_sample, np.mean(train_score, axis=1), label=\"Train set\")\n",
    "ax.plot(n_sample, np.mean(test_score, axis=1), label=\"Test set\")\n",
    "plt.legend()\n",
    "plt.show()"
   ]
  },
  {
   "cell_type": "code",
   "execution_count": 58,
   "id": "17fbdd9e",
   "metadata": {},
   "outputs": [],
   "source": [
    "n_sample, train_score, test_score, *time = model_selection.learning_curve(tunning_result['GES'][\"XGBoost\"].best_estimator_, \\\n",
    "                                                                          X_train[level_col], y_train_GES,\\\n",
    "                                                                          train_sizes=np.linspace(0.1, 1, 20), \\\n",
    "                                                                          scoring=\"neg_mean_absolute_error\", \\\n",
    "                                                                          random_state=42,\\\n",
    "                                                                          n_jobs=n_job, cv=10, shuffle=True\\\n",
    "                              )"
   ]
  },
  {
   "cell_type": "code",
   "execution_count": 59,
   "id": "f4776d7b",
   "metadata": {},
   "outputs": [
    {
     "data": {
      "image/png": "[encoded data removed]",
      "text/plain": [
       "<Figure size 432x288 with 1 Axes>"
      ]
     },
     "metadata": {
      "needs_background": "light"
     },
     "output_type": "display_data"
    }
   ],
   "source": [
    "fig, ax = plt.subplots()\n",
    "ax.plot(n_sample, np.mean(train_score, axis=1), label=\"Train set\")\n",
    "ax.plot(n_sample, np.mean(test_score, axis=1), label=\"Test set\")\n",
    "plt.legend()\n",
    "plt.show()"
   ]
  },
  {
   "cell_type": "markdown",
   "id": "e9e29b48",
   "metadata": {},
   "source": [
    "Les courbes d'apprentissages ne semblent pas avoir atteint le plateur de précision.  \n",
    "ll semble qu'ajouter plus d'observations permette d'améliorer les performances.  \n",
    "Il est a noté tout de même que la performance sur le petit dataset et meilleur que sur ce dataset.  \n",
    "Cela peut être dû au fait que les hyperparamètre ne sont pas optimisés sur ce jeu de données."
   ]
  }
 ],
 "metadata": {
  "kernelspec": {
   "display_name": "Python 3 (ipykernel)",
   "language": "python",
   "name": "python3"
  },
  "language_info": {
   "codemirror_mode": {
    "name": "ipython",
    "version": 3
   },
   "file_extension": ".py",
   "mimetype": "text/x-python",
   "name": "python",
   "nbconvert_exporter": "python",
   "pygments_lexer": "ipython3",
   "version": "3.9.7"
  }
 },
 "nbformat": 4,
 "nbformat_minor": 5
}
