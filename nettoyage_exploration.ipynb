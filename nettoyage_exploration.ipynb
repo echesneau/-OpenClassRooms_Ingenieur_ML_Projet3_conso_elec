{
 "cells": [
  {
   "cell_type": "markdown",
   "id": "3cc67ec2",
   "metadata": {},
   "source": [
    "# Projet 3 : Anticipez les besoins en consommation électrique de batiments  \n",
    "## Notebook de nettoyage de la base de données  \n",
    "Ce notebook contient le nettoyage de la base de données des relevées de consommation de la ville de Seattle issus du site https://data.seattle.gov  \n",
    "### Contexte et objectifs :  \n",
    "La ville de Seattle a effectué des relevés de consommation énergétique et des émissions des gaz à effet de serres des batiments de la ville.  \n",
    "Cependant ces relevés sont très couteux et donc la ville voudrait prédire ces valeurs pour les batiments dont les mesures ne sont pas disponibles.  \n",
    "Le but est donc de prédire la consommation énergétique et les émissions de GES des batiments de la ville.  \n",
    "Pour réaliser cette prédiction, on pourra se baser sur les données du permis d'exploitation, afin d'éviter tout relevés.  \n",
    "De plus, la ville voudrait connaitre l'apport de l'Energy Star Score dans cette prédiction. En effet, cette variable est fastidieuse à calculer et donc on voudrait savoir si cette information apporte une plus value ou non dans la prédiction."
   ]
  },
  {
   "cell_type": "markdown",
   "id": "f64a4caa",
   "metadata": {},
   "source": [
    "### Modules Python"
   ]
  },
  {
   "cell_type": "code",
   "execution_count": 1,
   "id": "cc813671",
   "metadata": {},
   "outputs": [],
   "source": [
    "import numpy as np\n",
    "import pandas as pd\n",
    "import matplotlib.pyplot as plt\n",
    "import seaborn as sns\n",
    "from sklearn.preprocessing import OneHotEncoder\n",
    "from sklearn.impute import KNNImputer\n",
    "import ast"
   ]
  },
  {
   "cell_type": "markdown",
   "id": "5a27c02a",
   "metadata": {},
   "source": [
    "### Fonctions utiles "
   ]
  },
  {
   "cell_type": "code",
   "execution_count": 2,
   "id": "fa7cfd13",
   "metadata": {},
   "outputs": [],
   "source": [
    "def location2dict(value) :\n",
    "    \"\"\"\n",
    "    to convert the str value of location variable into a dict\n",
    "    parameters : value : str\n",
    "    returns : dict\n",
    "    \"\"\"\n",
    "    out = ast.literal_eval(value.replace(\"\\''\", \"\\\"\"))\n",
    "    out['human_address'] = ast.literal_eval(out['human_address'])\n",
    "    return out"
   ]
  },
  {
   "cell_type": "code",
   "execution_count": 3,
   "id": "ba087835",
   "metadata": {},
   "outputs": [],
   "source": [
    "def is_float(value, min=-np.inf, max=np.inf) :\n",
    "    \"\"\"\n",
    "    function to verify if the value is a float in the range [min, max]\n",
    "    parameters : value : value to check\n",
    "                 min : float : minimum value \n",
    "                 max : float : maximum value\n",
    "    returns : float or np.NaN\n",
    "    \"\"\"\n",
    "    if pd.notnull(value) :\n",
    "        if type(value) in [float, int] and value <= max and value >= min :\n",
    "            return value\n",
    "        else :\n",
    "            print(f\"Wrong value : {value} of type {type(value)} => ignored\")\n",
    "            return np.NaN\n",
    "    else :\n",
    "        return np.NaN"
   ]
  },
  {
   "cell_type": "code",
   "execution_count": 4,
   "id": "4fc290a7",
   "metadata": {},
   "outputs": [],
   "source": [
    "def is_int(value, min=-np.inf, max=np.inf) :\n",
    "    \"\"\"\n",
    "    function to verify if the value is a int in the range [min, max]\n",
    "    parameters : value : value to check\n",
    "                 min : float : minimum value \n",
    "                 max : float : maximum value\n",
    "    returns : float or np.NaN\n",
    "    \"\"\"\n",
    "    if pd.notnull(value) :\n",
    "        if type(value) == float :\n",
    "            if value.is_integer() :\n",
    "                value = int(value)\n",
    "            else :\n",
    "                print(f\"Wrong value : {value} is not an integer => ignored\")\n",
    "                return np.NaN\n",
    "        elif type(value) == str :\n",
    "            if value.isdigit() :\n",
    "                value = int(value)\n",
    "            else :\n",
    "                print(f\"Wrong value : {value} is not an integer => ignored\")\n",
    "                return np.NaN\n",
    "    else :\n",
    "        return np.NaN\n",
    "    \n",
    "    if type(value) == int and value <= max and value >= min :\n",
    "            return value\n",
    "    else :\n",
    "        print(f\"Wrong value : {value} of type {type(value)} => ignored\")\n",
    "        return np.NaN\n",
    "    "
   ]
  },
  {
   "cell_type": "markdown",
   "id": "022042e6",
   "metadata": {},
   "source": [
    "### Chargement des données  \n",
    "Les données sont disponibles sur 2 années.  \n",
    "Chaque année est regroupée dans un fichier.  \n",
    "Les deux années sont donc chargées séparément, afin de vérifier l'homogénéité des deux datasets."
   ]
  },
  {
   "cell_type": "code",
   "execution_count": 5,
   "id": "9a98be8e",
   "metadata": {
    "scrolled": true
   },
   "outputs": [
    {
     "name": "stdout",
     "output_type": "stream",
     "text": [
      "Nombre d'observations en 2015 = 3340\n",
      "Nombre de variables en 2015   = 47\n",
      "Nombre d'observations en 2016 = 3376\n",
      "Nombre de variables en 2016   = 46\n"
     ]
    }
   ],
   "source": [
    "DATA_2015 = pd.read_csv('data/2015-building-energy-benchmarking.csv', \n",
    "                        sep=',')\n",
    "DATA_2016 = pd.read_csv('data/2016-building-energy-benchmarking.csv', \n",
    "                        sep=',')\n",
    "print(f\"Nombre d'observations en 2015 = {len(DATA_2015)}\")\n",
    "print(f\"Nombre de variables en 2015   = {len(DATA_2015.columns)}\")\n",
    "print(f\"Nombre d'observations en 2016 = {len(DATA_2016)}\")\n",
    "print(f\"Nombre de variables en 2016   = {len(DATA_2016.columns)}\")"
   ]
  },
  {
   "cell_type": "code",
   "execution_count": 6,
   "id": "47024de1",
   "metadata": {},
   "outputs": [
    {
     "name": "stdout",
     "output_type": "stream",
     "text": [
      "Liste des variables en 2015 : \n",
      "Index(['OSEBuildingID', 'DataYear', 'BuildingType', 'PrimaryPropertyType',\n",
      "       'PropertyName', 'TaxParcelIdentificationNumber', 'Location',\n",
      "       'CouncilDistrictCode', 'Neighborhood', 'YearBuilt', 'NumberofBuildings',\n",
      "       'NumberofFloors', 'PropertyGFATotal', 'PropertyGFAParking',\n",
      "       'PropertyGFABuilding(s)', 'ListOfAllPropertyUseTypes',\n",
      "       'LargestPropertyUseType', 'LargestPropertyUseTypeGFA',\n",
      "       'SecondLargestPropertyUseType', 'SecondLargestPropertyUseTypeGFA',\n",
      "       'ThirdLargestPropertyUseType', 'ThirdLargestPropertyUseTypeGFA',\n",
      "       'YearsENERGYSTARCertified', 'ENERGYSTARScore', 'SiteEUI(kBtu/sf)',\n",
      "       'SiteEUIWN(kBtu/sf)', 'SourceEUI(kBtu/sf)', 'SourceEUIWN(kBtu/sf)',\n",
      "       'SiteEnergyUse(kBtu)', 'SiteEnergyUseWN(kBtu)', 'SteamUse(kBtu)',\n",
      "       'Electricity(kWh)', 'Electricity(kBtu)', 'NaturalGas(therms)',\n",
      "       'NaturalGas(kBtu)', 'OtherFuelUse(kBtu)',\n",
      "       'GHGEmissions(MetricTonsCO2e)', 'GHGEmissionsIntensity(kgCO2e/ft2)',\n",
      "       'DefaultData', 'Comment', 'ComplianceStatus', 'Outlier',\n",
      "       '2010 Census Tracts',\n",
      "       'Seattle Police Department Micro Community Policing Plan Areas',\n",
      "       'City Council Districts', 'SPD Beats', 'Zip Codes'],\n",
      "      dtype='object')\n",
      "Liste des variables en 2016 : \n",
      "Index(['OSEBuildingID', 'DataYear', 'BuildingType', 'PrimaryPropertyType',\n",
      "       'PropertyName', 'Address', 'City', 'State', 'ZipCode',\n",
      "       'TaxParcelIdentificationNumber', 'CouncilDistrictCode', 'Neighborhood',\n",
      "       'Latitude', 'Longitude', 'YearBuilt', 'NumberofBuildings',\n",
      "       'NumberofFloors', 'PropertyGFATotal', 'PropertyGFAParking',\n",
      "       'PropertyGFABuilding(s)', 'ListOfAllPropertyUseTypes',\n",
      "       'LargestPropertyUseType', 'LargestPropertyUseTypeGFA',\n",
      "       'SecondLargestPropertyUseType', 'SecondLargestPropertyUseTypeGFA',\n",
      "       'ThirdLargestPropertyUseType', 'ThirdLargestPropertyUseTypeGFA',\n",
      "       'YearsENERGYSTARCertified', 'ENERGYSTARScore', 'SiteEUI(kBtu/sf)',\n",
      "       'SiteEUIWN(kBtu/sf)', 'SourceEUI(kBtu/sf)', 'SourceEUIWN(kBtu/sf)',\n",
      "       'SiteEnergyUse(kBtu)', 'SiteEnergyUseWN(kBtu)', 'SteamUse(kBtu)',\n",
      "       'Electricity(kWh)', 'Electricity(kBtu)', 'NaturalGas(therms)',\n",
      "       'NaturalGas(kBtu)', 'DefaultData', 'Comments', 'ComplianceStatus',\n",
      "       'Outlier', 'TotalGHGEmissions', 'GHGEmissionsIntensity'],\n",
      "      dtype='object')\n"
     ]
    }
   ],
   "source": [
    "print(f\"Liste des variables en 2015 : \\n{DATA_2015.columns}\")\n",
    "print(f\"Liste des variables en 2016 : \\n{DATA_2016.columns}\")"
   ]
  },
  {
   "cell_type": "markdown",
   "id": "dfb4d5b5",
   "metadata": {},
   "source": [
    "### harmonisation des deux datasets\n",
    "#### identification des variables non présentes les deux années"
   ]
  },
  {
   "cell_type": "code",
   "execution_count": 8,
   "id": "43fe7ecb",
   "metadata": {},
   "outputs": [
    {
     "name": "stdout",
     "output_type": "stream",
     "text": [
      "Variables présentes en 2015 mais pas en 2016 :\n",
      "['Location', 'OtherFuelUse(kBtu)', 'GHGEmissions(MetricTonsCO2e)', 'GHGEmissionsIntensity(kgCO2e/ft2)', 'Comment', '2010 Census Tracts', 'Seattle Police Department Micro Community Policing Plan Areas', 'City Council Districts', 'SPD Beats', 'Zip Codes']\n",
      "Variables présentes en 2016 mais pas en 2015 :\n",
      "['Address', 'City', 'State', 'ZipCode', 'Latitude', 'Longitude', 'Comments', 'TotalGHGEmissions', 'GHGEmissionsIntensity']\n"
     ]
    }
   ],
   "source": [
    "print(f\"Variables présentes en 2015 mais pas en 2016 :\\n\"+\\\n",
    "      f\"{[col for col in DATA_2015.columns if col not in DATA_2016.columns]}\")\n",
    "print(f\"Variables présentes en 2016 mais pas en 2015 :\\n\"+\\\n",
    "      f\"{[col for col in DATA_2016.columns if col not in DATA_2015.columns]}\")\n"
   ]
  },
  {
   "cell_type": "markdown",
   "id": "7a6ec2cd",
   "metadata": {},
   "source": [
    "#### Comments\n",
    "La variable a uniquement changé de nom :  \n",
    "Je décide de renommer Comment en Comments"
   ]
  },
  {
   "cell_type": "code",
   "execution_count": 9,
   "id": "78df938b",
   "metadata": {},
   "outputs": [],
   "source": [
    "DATA_2015['Comments'] = DATA_2015['Comment']\n",
    "DATA_2015.drop('Comment', axis=1, inplace=True)"
   ]
  },
  {
   "cell_type": "markdown",
   "id": "25530ee3",
   "metadata": {},
   "source": [
    "#### GHGEmissionsIntensity\n",
    "il semble que les variables GHGEmissionsIntensity(kgCO2e/ft2) et GHGEmissionsIntensity soient équivalentes :  \n",
    "on le vérifie :"
   ]
  },
  {
   "cell_type": "code",
   "execution_count": 10,
   "id": "fcbdf668",
   "metadata": {},
   "outputs": [
    {
     "name": "stdout",
     "output_type": "stream",
     "text": [
      "2015 :\n",
      "   OSEBuildingID  GHGEmissionsIntensity(kgCO2e/ft2)\n",
      "0              1                               2.64\n",
      "1              2                               2.38\n",
      "2              3                               1.92\n",
      "3              5                              31.38\n",
      "4              8                               4.02\n",
      "5              9                               2.81\n",
      "6             10                               2.37\n",
      "7             11                               1.77\n",
      "8             12                               1.83\n",
      "9             13                               2.51\n",
      "Valeur moyenne = 0.9853393393393379\n",
      "Deviation standard = 1.6371718086243117\n",
      "2016 : \n",
      "   OSEBuildingID  GHGEmissionsIntensity\n",
      "0              1                   2.83\n",
      "1              2                   2.86\n",
      "2              3                   2.19\n",
      "3              5                   4.67\n",
      "4              8                   2.88\n",
      "5              9                   3.10\n",
      "6             10                   2.12\n",
      "7             11                   2.16\n",
      "8             12                   2.39\n",
      "9             13                   2.37\n",
      "Valeur moyenne = 1.1759162459162464\n",
      "Deviation standard = 1.8214517879100534\n"
     ]
    }
   ],
   "source": [
    "print(\"2015 :\")\n",
    "print(DATA_2015[['OSEBuildingID', 'GHGEmissionsIntensity(kgCO2e/ft2)']].head(10))\n",
    "print(f\"Valeur moyenne = {DATA_2015['GHGEmissionsIntensity(kgCO2e/ft2)'].mean()}\")\n",
    "print(f\"Deviation standard = {DATA_2015['GHGEmissionsIntensity(kgCO2e/ft2)'].std()}\")\n",
    "print(\"2016 : \")\n",
    "print(DATA_2016[['OSEBuildingID', 'GHGEmissionsIntensity']].head(10))\n",
    "print(f\"Valeur moyenne = {DATA_2016['GHGEmissionsIntensity'].mean()}\")\n",
    "print(f\"Deviation standard = {DATA_2016['GHGEmissionsIntensity'].std()}\")"
   ]
  },
  {
   "cell_type": "markdown",
   "id": "ac1ebfff",
   "metadata": {},
   "source": [
    "Il est bien confirmé que les deux variables sont équivalentes :  \n",
    "Pour garder l'information de l'unité, on renomme la variable GHGEmissionsIntensity en GHGEmissionsIntensity(kgCO2e/ft2)"
   ]
  },
  {
   "cell_type": "code",
   "execution_count": 11,
   "id": "0ba63bd8",
   "metadata": {},
   "outputs": [],
   "source": [
    "DATA_2016['GHGEmissionsIntensity(kgCO2e/ft2)'] = DATA_2016['GHGEmissionsIntensity'] \n",
    "DATA_2016.drop('GHGEmissionsIntensity', axis=1, inplace=True)"
   ]
  },
  {
   "cell_type": "markdown",
   "id": "e3d60681",
   "metadata": {},
   "source": [
    "#### TotalGHGEmissions\n",
    "Est ce que les variables TotalGHGEmissions et GHGEmissions(MetricTonsCO2e) représentent la même chose?  \n"
   ]
  },
  {
   "cell_type": "code",
   "execution_count": 12,
   "id": "feacb6c1",
   "metadata": {},
   "outputs": [
    {
     "name": "stdout",
     "output_type": "stream",
     "text": [
      "2015 :\n",
      "   OSEBuildingID  GHGEmissions(MetricTonsCO2e)\n",
      "0              1                        249.43\n",
      "1              2                        263.51\n",
      "2              3                       2061.48\n",
      "3              5                       1936.34\n",
      "4              8                        507.70\n",
      "5              9                        304.62\n",
      "6             10                        208.46\n",
      "7             11                        199.99\n",
      "8             12                        331.61\n",
      "9             13                        170.00\n",
      "Valeur moyenne = 110.09410210210189\n",
      "Déviation standard = 409.4501794730603\n",
      "2016 : \n",
      "   OSEBuildingID  TotalGHGEmissions\n",
      "0              1             249.98\n",
      "1              2             295.86\n",
      "2              3            2089.28\n",
      "3              5             286.43\n",
      "4              8             505.01\n",
      "5              9             301.81\n",
      "6             10             176.14\n",
      "7             11             221.51\n",
      "8             12             392.16\n",
      "9             13             151.12\n",
      "Valeur moyenne = 119.72397089397079\n",
      "Déviation standard = 538.8322265068628\n"
     ]
    }
   ],
   "source": [
    "print(\"2015 :\")\n",
    "print(DATA_2015[['OSEBuildingID', 'GHGEmissions(MetricTonsCO2e)']].head(10))\n",
    "print(f\"Valeur moyenne = {DATA_2015['GHGEmissions(MetricTonsCO2e)'].mean()}\")\n",
    "print(f\"Déviation standard = {DATA_2015['GHGEmissions(MetricTonsCO2e)'].std()}\")\n",
    "print(\"2016 : \")\n",
    "print(DATA_2016[['OSEBuildingID', 'TotalGHGEmissions']].head(10))\n",
    "print(f\"Valeur moyenne = {DATA_2016['TotalGHGEmissions'].mean()}\")\n",
    "print(f\"Déviation standard = {DATA_2016['TotalGHGEmissions'].std()}\")"
   ]
  },
  {
   "cell_type": "markdown",
   "id": "8bf32334",
   "metadata": {},
   "source": [
    "Les deux variables sont bien équivalentes :  \n",
    "TotalGHGEmissions est donc renommée GHGEmissions(MetricTonsCO2e)"
   ]
  },
  {
   "cell_type": "code",
   "execution_count": 13,
   "id": "4dad1c95",
   "metadata": {},
   "outputs": [],
   "source": [
    "DATA_2016['GHGEmissions(MetricTonsCO2e)'] = DATA_2016['TotalGHGEmissions']\n",
    "DATA_2016.drop('TotalGHGEmissions', axis=1, inplace=True)"
   ]
  },
  {
   "cell_type": "markdown",
   "id": "59975cb6",
   "metadata": {},
   "source": [
    "les variables Location et  Address, City, State, ZipCode, Lattitude et Longitude donnent des informations de localisations :  \n",
    "vérifions !"
   ]
  },
  {
   "cell_type": "code",
   "execution_count": 14,
   "id": "48047fd5",
   "metadata": {},
   "outputs": [],
   "source": [
    "pd.set_option('display.max_colwidth', None)"
   ]
  },
  {
   "cell_type": "code",
   "execution_count": 15,
   "id": "b1ed3547",
   "metadata": {},
   "outputs": [
    {
     "data": {
      "text/html": [
       "<div>\n",
       "<style scoped>\n",
       "    .dataframe tbody tr th:only-of-type {\n",
       "        vertical-align: middle;\n",
       "    }\n",
       "\n",
       "    .dataframe tbody tr th {\n",
       "        vertical-align: top;\n",
       "    }\n",
       "\n",
       "    .dataframe thead th {\n",
       "        text-align: right;\n",
       "    }\n",
       "</style>\n",
       "<table border=\"1\" class=\"dataframe\">\n",
       "  <thead>\n",
       "    <tr style=\"text-align: right;\">\n",
       "      <th></th>\n",
       "      <th>OSEBuildingID</th>\n",
       "      <th>Location</th>\n",
       "    </tr>\n",
       "  </thead>\n",
       "  <tbody>\n",
       "    <tr>\n",
       "      <th>0</th>\n",
       "      <td>1</td>\n",
       "      <td>{'latitude': '47.61219025', 'longitude': '-122.33799744', 'human_address': '{\"address\": \"405 OLIVE WAY\", \"city\": \"SEATTLE\", \"state\": \"WA\", \"zip\": \"98101\"}'}</td>\n",
       "    </tr>\n",
       "    <tr>\n",
       "      <th>1</th>\n",
       "      <td>2</td>\n",
       "      <td>{'latitude': '47.61310583', 'longitude': '-122.33335756', 'human_address': '{\"address\": \"724 PINE ST\", \"city\": \"SEATTLE\", \"state\": \"WA\", \"zip\": \"98101\"}'}</td>\n",
       "    </tr>\n",
       "    <tr>\n",
       "      <th>2</th>\n",
       "      <td>3</td>\n",
       "      <td>{'latitude': '47.61334897', 'longitude': '-122.33769944', 'human_address': '{\"address\": \"1900 5TH AVE\", \"city\": \"SEATTLE\", \"state\": \"WA\", \"zip\": \"98101\"}'}</td>\n",
       "    </tr>\n",
       "    <tr>\n",
       "      <th>3</th>\n",
       "      <td>5</td>\n",
       "      <td>{'latitude': '47.61421585', 'longitude': '-122.33660889', 'human_address': '{\"address\": \"620 STEWART ST\", \"city\": \"SEATTLE\", \"state\": \"WA\", \"zip\": \"98101\"}'}</td>\n",
       "    </tr>\n",
       "    <tr>\n",
       "      <th>4</th>\n",
       "      <td>8</td>\n",
       "      <td>{'latitude': '47.6137544', 'longitude': '-122.3409238', 'human_address': '{\"address\": \"401 LENORA ST\", \"city\": \"SEATTLE\", \"state\": \"WA\", \"zip\": \"98121\"}'}</td>\n",
       "    </tr>\n",
       "  </tbody>\n",
       "</table>\n",
       "</div>"
      ],
      "text/plain": [
       "   OSEBuildingID  \\\n",
       "0              1   \n",
       "1              2   \n",
       "2              3   \n",
       "3              5   \n",
       "4              8   \n",
       "\n",
       "                                                                                                                                                        Location  \n",
       "0   {'latitude': '47.61219025', 'longitude': '-122.33799744', 'human_address': '{\"address\": \"405 OLIVE WAY\", \"city\": \"SEATTLE\", \"state\": \"WA\", \"zip\": \"98101\"}'}  \n",
       "1     {'latitude': '47.61310583', 'longitude': '-122.33335756', 'human_address': '{\"address\": \"724 PINE ST\", \"city\": \"SEATTLE\", \"state\": \"WA\", \"zip\": \"98101\"}'}  \n",
       "2    {'latitude': '47.61334897', 'longitude': '-122.33769944', 'human_address': '{\"address\": \"1900 5TH AVE\", \"city\": \"SEATTLE\", \"state\": \"WA\", \"zip\": \"98101\"}'}  \n",
       "3  {'latitude': '47.61421585', 'longitude': '-122.33660889', 'human_address': '{\"address\": \"620 STEWART ST\", \"city\": \"SEATTLE\", \"state\": \"WA\", \"zip\": \"98101\"}'}  \n",
       "4     {'latitude': '47.6137544', 'longitude': '-122.3409238', 'human_address': '{\"address\": \"401 LENORA ST\", \"city\": \"SEATTLE\", \"state\": \"WA\", \"zip\": \"98121\"}'}  "
      ]
     },
     "execution_count": 15,
     "metadata": {},
     "output_type": "execute_result"
    }
   ],
   "source": [
    "DATA_2015[['OSEBuildingID','Location']].head()"
   ]
  },
  {
   "cell_type": "markdown",
   "id": "5158b0af",
   "metadata": {},
   "source": [
    "La variable Location regroupe donc les variables latitude, longitude, address, city, state et zipcode.  \n",
    "Il est donc possible de récréer ces variables et de supprimer Location.  \n",
    "Pour cela on va transformer la variable Location en dict.  "
   ]
  },
  {
   "cell_type": "code",
   "execution_count": 16,
   "id": "2bfbbca5",
   "metadata": {},
   "outputs": [],
   "source": [
    "DATA_2015['Location'] = DATA_2015['Location'].apply(location2dict)"
   ]
  },
  {
   "cell_type": "code",
   "execution_count": 17,
   "id": "f2523392",
   "metadata": {},
   "outputs": [],
   "source": [
    "# Création des nouvelles variables\n",
    "DATA_2015['Latitude'] = DATA_2015['Location'].apply(lambda x : x['latitude'])\n",
    "DATA_2015['Longitude'] = DATA_2015['Location'].apply(lambda x : x['longitude'])\n",
    "DATA_2015['Address'] = DATA_2015['Location'].apply(lambda x : x['human_address']['address'])\n",
    "DATA_2015['City'] = DATA_2015['Location'].apply(lambda x : x['human_address']['city'])\n",
    "DATA_2015['State'] = DATA_2015['Location'].apply(lambda x : x['human_address']['state'])\n",
    "DATA_2015['ZipCode'] = DATA_2015['Location'].apply(lambda x : x['human_address']['zip'])\n",
    "\n",
    "#suppression de la variable Location\n",
    "DATA_2015.drop('Location', axis=1, inplace=True)\n",
    "DATA_2015.drop('Zip Codes', axis=1, inplace=True)"
   ]
  },
  {
   "cell_type": "markdown",
   "id": "1a657f49",
   "metadata": {},
   "source": [
    "#### Les autres variables :\n",
    "Il reste des variables présentes en 2015 mais pas en 2016 : \n",
    "- 2010 Census Tracts : variable liée au recensement\n",
    "- Seattle Police Department Micro Community Policing Plan Areas, SPD Beats : variables liées à la Police (Seattle Police Department)\n",
    "- City Council Districts : variable liée aux quartiers de la ville  \n",
    "  \n",
    "A première vue, ces variables n'ont aucun rapport avec la consommation energétique des batiments.  \n",
    "Elles sont donc simplement supprimées.  \n",
    "  \n",
    "\n",
    "Concernant la variable OtherFuelUse(kBtu), elle semble être beaucoup plus importante. De ce fait, on décide de conserver cette variable, en l'initialisant à 0 en 2016.  \n",
    "Nous reviendrons sur cette variable plus loin dans ce notebook."
   ]
  },
  {
   "cell_type": "markdown",
   "id": "53da37e7",
   "metadata": {},
   "source": [
    "#### OtherFuelUse(kBtu)"
   ]
  },
  {
   "cell_type": "code",
   "execution_count": 18,
   "id": "b2f87626",
   "metadata": {},
   "outputs": [],
   "source": [
    "DATA_2016['OtherFuelUse(kBtu)'] = 0"
   ]
  },
  {
   "cell_type": "code",
   "execution_count": 19,
   "id": "4313938b",
   "metadata": {},
   "outputs": [],
   "source": [
    "for column in [\"2010 Census Tracts\", \"Seattle Police Department Micro Community Policing Plan Areas\",\n",
    "              \"SPD Beats\", \"City Council Districts\"] :\n",
    "    DATA_2015.drop(column, axis=1, inplace=True)"
   ]
  },
  {
   "cell_type": "markdown",
   "id": "cb8df761",
   "metadata": {},
   "source": [
    "#### Vérifications de l'harmonie dans les colonnes :"
   ]
  },
  {
   "cell_type": "code",
   "execution_count": 20,
   "id": "9cec6641",
   "metadata": {},
   "outputs": [
    {
     "name": "stdout",
     "output_type": "stream",
     "text": [
      "Variables présentes en 2015 mais pas en 2016 :\n",
      "[]\n",
      "Variables présentes en 2016 mais pas en 2015 :\n",
      "[]\n"
     ]
    }
   ],
   "source": [
    "print(f\"Variables présentes en 2015 mais pas en 2016 :\\n\"+\\\n",
    "      f\"{[col for col in DATA_2015.columns if col not in DATA_2016.columns]}\")\n",
    "print(f\"Variables présentes en 2016 mais pas en 2015 :\\n\"+\\\n",
    "      f\"{[col for col in DATA_2016.columns if col not in DATA_2015.columns]}\")"
   ]
  },
  {
   "cell_type": "markdown",
   "id": "87f91144",
   "metadata": {},
   "source": [
    "Les colonnes sont maintenant homogènes"
   ]
  },
  {
   "cell_type": "markdown",
   "id": "d38c6916",
   "metadata": {},
   "source": [
    "### Détections de doublons\n",
    "on va vérifier que l'ID du batiment n'est présente qu'une seule fois."
   ]
  },
  {
   "cell_type": "code",
   "execution_count": 21,
   "id": "727b079c",
   "metadata": {},
   "outputs": [
    {
     "name": "stdout",
     "output_type": "stream",
     "text": [
      "Nombre de doublons en 2015 = 0\n",
      "Nombre de doublons en 2016 = 0\n"
     ]
    }
   ],
   "source": [
    "effectifs_2015 = DATA_2015['OSEBuildingID'].value_counts()\n",
    "print(f\"Nombre de doublons en 2015 = {len(effectifs_2015[effectifs_2015>1])}\")\n",
    "effectifs_2016 = DATA_2016['OSEBuildingID'].value_counts()\n",
    "print(f\"Nombre de doublons en 2016 = {len(effectifs_2016[effectifs_2016>1])}\")"
   ]
  },
  {
   "cell_type": "markdown",
   "id": "4c1a1fc9",
   "metadata": {},
   "source": [
    "### Regroupement des deux datasets\n",
    "Puisque les variables renseignées entre les deux années sont les mêmes, il est possible de regrouper les deux jeux de données en un seul.  \n",
    "Cela permet d'avoir plus d'observations, et de tenir compte de variations annuelles, telles que la température moyenne par exemple, qui peut engendrer des fluctuations de consommations énergétques.  \n",
    "De plus la variable Datayear peut permettre de savoir à quel dataset original les données appartiennent.  \n",
    "On vérifie dans un premier temps que la variable DataYear est correctemetn renseignée."
   ]
  },
  {
   "cell_type": "code",
   "execution_count": 22,
   "id": "28834214",
   "metadata": {},
   "outputs": [
    {
     "name": "stdout",
     "output_type": "stream",
     "text": [
      "2015    3340\n",
      "Name: DataYear, dtype: int64\n",
      "2016    3376\n",
      "Name: DataYear, dtype: int64\n"
     ]
    }
   ],
   "source": [
    "print(DATA_2015['DataYear'].value_counts(dropna=False))\n",
    "print(DATA_2016['DataYear'].value_counts(dropna=False))"
   ]
  },
  {
   "cell_type": "code",
   "execution_count": 23,
   "id": "ca3f1678",
   "metadata": {},
   "outputs": [
    {
     "name": "stdout",
     "output_type": "stream",
     "text": [
      "Nombre d'observations dans le dataset : 6716\n",
      "Nombre de variables dans le dataset : 47\n"
     ]
    }
   ],
   "source": [
    "DATA = pd.concat([DATA_2015, DATA_2016], axis=0, ignore_index=True)\n",
    "print(f\"Nombre d'observations dans le dataset : {len(DATA)}\")\n",
    "print(f\"Nombre de variables dans le dataset : {len(DATA.columns)}\")"
   ]
  },
  {
   "cell_type": "markdown",
   "id": "76332087",
   "metadata": {},
   "source": [
    "### Analyse du taux de complétion :\n",
    "Avant de sélectionner des variables on étudie lesquelles sont le plus renseigner pour sélectionner en priorité celles avec un taux de complétion maximale."
   ]
  },
  {
   "cell_type": "code",
   "execution_count": 24,
   "id": "fa5e9242",
   "metadata": {
    "scrolled": false
   },
   "outputs": [
    {
     "data": {
      "text/html": [
       "<div>\n",
       "<style scoped>\n",
       "    .dataframe tbody tr th:only-of-type {\n",
       "        vertical-align: middle;\n",
       "    }\n",
       "\n",
       "    .dataframe tbody tr th {\n",
       "        vertical-align: top;\n",
       "    }\n",
       "\n",
       "    .dataframe thead th {\n",
       "        text-align: right;\n",
       "    }\n",
       "</style>\n",
       "<table border=\"1\" class=\"dataframe\">\n",
       "  <thead>\n",
       "    <tr style=\"text-align: right;\">\n",
       "      <th></th>\n",
       "      <th>lignes vides</th>\n",
       "      <th>taux de completion</th>\n",
       "    </tr>\n",
       "  </thead>\n",
       "  <tbody>\n",
       "    <tr>\n",
       "      <th>Comments</th>\n",
       "      <td>6703</td>\n",
       "      <td>0.193568</td>\n",
       "    </tr>\n",
       "    <tr>\n",
       "      <th>Outlier</th>\n",
       "      <td>6600</td>\n",
       "      <td>1.727219</td>\n",
       "    </tr>\n",
       "    <tr>\n",
       "      <th>YearsENERGYSTARCertified</th>\n",
       "      <td>6487</td>\n",
       "      <td>3.409768</td>\n",
       "    </tr>\n",
       "    <tr>\n",
       "      <th>ThirdLargestPropertyUseTypeGFA</th>\n",
       "      <td>5560</td>\n",
       "      <td>17.212627</td>\n",
       "    </tr>\n",
       "    <tr>\n",
       "      <th>ThirdLargestPropertyUseType</th>\n",
       "      <td>5560</td>\n",
       "      <td>17.212627</td>\n",
       "    </tr>\n",
       "    <tr>\n",
       "      <th>SecondLargestPropertyUseTypeGFA</th>\n",
       "      <td>3478</td>\n",
       "      <td>48.213222</td>\n",
       "    </tr>\n",
       "    <tr>\n",
       "      <th>SecondLargestPropertyUseType</th>\n",
       "      <td>3478</td>\n",
       "      <td>48.213222</td>\n",
       "    </tr>\n",
       "    <tr>\n",
       "      <th>ENERGYSTARScore</th>\n",
       "      <td>1623</td>\n",
       "      <td>75.833830</td>\n",
       "    </tr>\n",
       "    <tr>\n",
       "      <th>LargestPropertyUseTypeGFA</th>\n",
       "      <td>156</td>\n",
       "      <td>97.677189</td>\n",
       "    </tr>\n",
       "    <tr>\n",
       "      <th>LargestPropertyUseType</th>\n",
       "      <td>156</td>\n",
       "      <td>97.677189</td>\n",
       "    </tr>\n",
       "    <tr>\n",
       "      <th>ListOfAllPropertyUseTypes</th>\n",
       "      <td>136</td>\n",
       "      <td>97.974985</td>\n",
       "    </tr>\n",
       "    <tr>\n",
       "      <th>SourceEUI(kBtu/sf)</th>\n",
       "      <td>19</td>\n",
       "      <td>99.717094</td>\n",
       "    </tr>\n",
       "    <tr>\n",
       "      <th>SourceEUIWN(kBtu/sf)</th>\n",
       "      <td>19</td>\n",
       "      <td>99.717094</td>\n",
       "    </tr>\n",
       "    <tr>\n",
       "      <th>SteamUse(kBtu)</th>\n",
       "      <td>19</td>\n",
       "      <td>99.717094</td>\n",
       "    </tr>\n",
       "    <tr>\n",
       "      <th>Electricity(kWh)</th>\n",
       "      <td>19</td>\n",
       "      <td>99.717094</td>\n",
       "    </tr>\n",
       "    <tr>\n",
       "      <th>Electricity(kBtu)</th>\n",
       "      <td>19</td>\n",
       "      <td>99.717094</td>\n",
       "    </tr>\n",
       "    <tr>\n",
       "      <th>NaturalGas(therms)</th>\n",
       "      <td>19</td>\n",
       "      <td>99.717094</td>\n",
       "    </tr>\n",
       "    <tr>\n",
       "      <th>NaturalGas(kBtu)</th>\n",
       "      <td>19</td>\n",
       "      <td>99.717094</td>\n",
       "    </tr>\n",
       "    <tr>\n",
       "      <th>GHGEmissions(MetricTonsCO2e)</th>\n",
       "      <td>19</td>\n",
       "      <td>99.717094</td>\n",
       "    </tr>\n",
       "    <tr>\n",
       "      <th>GHGEmissionsIntensity(kgCO2e/ft2)</th>\n",
       "      <td>19</td>\n",
       "      <td>99.717094</td>\n",
       "    </tr>\n",
       "    <tr>\n",
       "      <th>SiteEUI(kBtu/sf)</th>\n",
       "      <td>17</td>\n",
       "      <td>99.746873</td>\n",
       "    </tr>\n",
       "    <tr>\n",
       "      <th>SiteEUIWN(kBtu/sf)</th>\n",
       "      <td>16</td>\n",
       "      <td>99.761763</td>\n",
       "    </tr>\n",
       "    <tr>\n",
       "      <th>SiteEnergyUseWN(kBtu)</th>\n",
       "      <td>16</td>\n",
       "      <td>99.761763</td>\n",
       "    </tr>\n",
       "    <tr>\n",
       "      <th>ZipCode</th>\n",
       "      <td>16</td>\n",
       "      <td>99.761763</td>\n",
       "    </tr>\n",
       "    <tr>\n",
       "      <th>SiteEnergyUse(kBtu)</th>\n",
       "      <td>15</td>\n",
       "      <td>99.776653</td>\n",
       "    </tr>\n",
       "    <tr>\n",
       "      <th>OtherFuelUse(kBtu)</th>\n",
       "      <td>10</td>\n",
       "      <td>99.851102</td>\n",
       "    </tr>\n",
       "    <tr>\n",
       "      <th>NumberofFloors</th>\n",
       "      <td>8</td>\n",
       "      <td>99.880881</td>\n",
       "    </tr>\n",
       "    <tr>\n",
       "      <th>NumberofBuildings</th>\n",
       "      <td>8</td>\n",
       "      <td>99.880881</td>\n",
       "    </tr>\n",
       "    <tr>\n",
       "      <th>TaxParcelIdentificationNumber</th>\n",
       "      <td>2</td>\n",
       "      <td>99.970220</td>\n",
       "    </tr>\n",
       "    <tr>\n",
       "      <th>DefaultData</th>\n",
       "      <td>1</td>\n",
       "      <td>99.985110</td>\n",
       "    </tr>\n",
       "    <tr>\n",
       "      <th>PropertyGFABuilding(s)</th>\n",
       "      <td>0</td>\n",
       "      <td>100.000000</td>\n",
       "    </tr>\n",
       "    <tr>\n",
       "      <th>City</th>\n",
       "      <td>0</td>\n",
       "      <td>100.000000</td>\n",
       "    </tr>\n",
       "    <tr>\n",
       "      <th>Address</th>\n",
       "      <td>0</td>\n",
       "      <td>100.000000</td>\n",
       "    </tr>\n",
       "    <tr>\n",
       "      <th>Longitude</th>\n",
       "      <td>0</td>\n",
       "      <td>100.000000</td>\n",
       "    </tr>\n",
       "    <tr>\n",
       "      <th>Latitude</th>\n",
       "      <td>0</td>\n",
       "      <td>100.000000</td>\n",
       "    </tr>\n",
       "    <tr>\n",
       "      <th>DataYear</th>\n",
       "      <td>0</td>\n",
       "      <td>100.000000</td>\n",
       "    </tr>\n",
       "    <tr>\n",
       "      <th>BuildingType</th>\n",
       "      <td>0</td>\n",
       "      <td>100.000000</td>\n",
       "    </tr>\n",
       "    <tr>\n",
       "      <th>ComplianceStatus</th>\n",
       "      <td>0</td>\n",
       "      <td>100.000000</td>\n",
       "    </tr>\n",
       "    <tr>\n",
       "      <th>PropertyName</th>\n",
       "      <td>0</td>\n",
       "      <td>100.000000</td>\n",
       "    </tr>\n",
       "    <tr>\n",
       "      <th>State</th>\n",
       "      <td>0</td>\n",
       "      <td>100.000000</td>\n",
       "    </tr>\n",
       "    <tr>\n",
       "      <th>CouncilDistrictCode</th>\n",
       "      <td>0</td>\n",
       "      <td>100.000000</td>\n",
       "    </tr>\n",
       "    <tr>\n",
       "      <th>Neighborhood</th>\n",
       "      <td>0</td>\n",
       "      <td>100.000000</td>\n",
       "    </tr>\n",
       "    <tr>\n",
       "      <th>YearBuilt</th>\n",
       "      <td>0</td>\n",
       "      <td>100.000000</td>\n",
       "    </tr>\n",
       "    <tr>\n",
       "      <th>PropertyGFATotal</th>\n",
       "      <td>0</td>\n",
       "      <td>100.000000</td>\n",
       "    </tr>\n",
       "    <tr>\n",
       "      <th>PropertyGFAParking</th>\n",
       "      <td>0</td>\n",
       "      <td>100.000000</td>\n",
       "    </tr>\n",
       "    <tr>\n",
       "      <th>PrimaryPropertyType</th>\n",
       "      <td>0</td>\n",
       "      <td>100.000000</td>\n",
       "    </tr>\n",
       "    <tr>\n",
       "      <th>OSEBuildingID</th>\n",
       "      <td>0</td>\n",
       "      <td>100.000000</td>\n",
       "    </tr>\n",
       "  </tbody>\n",
       "</table>\n",
       "</div>"
      ],
      "text/plain": [
       "                                   lignes vides  taux de completion\n",
       "Comments                                   6703            0.193568\n",
       "Outlier                                    6600            1.727219\n",
       "YearsENERGYSTARCertified                   6487            3.409768\n",
       "ThirdLargestPropertyUseTypeGFA             5560           17.212627\n",
       "ThirdLargestPropertyUseType                5560           17.212627\n",
       "SecondLargestPropertyUseTypeGFA            3478           48.213222\n",
       "SecondLargestPropertyUseType               3478           48.213222\n",
       "ENERGYSTARScore                            1623           75.833830\n",
       "LargestPropertyUseTypeGFA                   156           97.677189\n",
       "LargestPropertyUseType                      156           97.677189\n",
       "ListOfAllPropertyUseTypes                   136           97.974985\n",
       "SourceEUI(kBtu/sf)                           19           99.717094\n",
       "SourceEUIWN(kBtu/sf)                         19           99.717094\n",
       "SteamUse(kBtu)                               19           99.717094\n",
       "Electricity(kWh)                             19           99.717094\n",
       "Electricity(kBtu)                            19           99.717094\n",
       "NaturalGas(therms)                           19           99.717094\n",
       "NaturalGas(kBtu)                             19           99.717094\n",
       "GHGEmissions(MetricTonsCO2e)                 19           99.717094\n",
       "GHGEmissionsIntensity(kgCO2e/ft2)            19           99.717094\n",
       "SiteEUI(kBtu/sf)                             17           99.746873\n",
       "SiteEUIWN(kBtu/sf)                           16           99.761763\n",
       "SiteEnergyUseWN(kBtu)                        16           99.761763\n",
       "ZipCode                                      16           99.761763\n",
       "SiteEnergyUse(kBtu)                          15           99.776653\n",
       "OtherFuelUse(kBtu)                           10           99.851102\n",
       "NumberofFloors                                8           99.880881\n",
       "NumberofBuildings                             8           99.880881\n",
       "TaxParcelIdentificationNumber                 2           99.970220\n",
       "DefaultData                                   1           99.985110\n",
       "PropertyGFABuilding(s)                        0          100.000000\n",
       "City                                          0          100.000000\n",
       "Address                                       0          100.000000\n",
       "Longitude                                     0          100.000000\n",
       "Latitude                                      0          100.000000\n",
       "DataYear                                      0          100.000000\n",
       "BuildingType                                  0          100.000000\n",
       "ComplianceStatus                              0          100.000000\n",
       "PropertyName                                  0          100.000000\n",
       "State                                         0          100.000000\n",
       "CouncilDistrictCode                           0          100.000000\n",
       "Neighborhood                                  0          100.000000\n",
       "YearBuilt                                     0          100.000000\n",
       "PropertyGFATotal                              0          100.000000\n",
       "PropertyGFAParking                            0          100.000000\n",
       "PrimaryPropertyType                           0          100.000000\n",
       "OSEBuildingID                                 0          100.000000"
      ]
     },
     "execution_count": 24,
     "metadata": {},
     "output_type": "execute_result"
    }
   ],
   "source": [
    "completion = {\"lignes vides\": {}, \"taux de completion\":{}}\n",
    "for column in DATA.columns :\n",
    "    completion[\"lignes vides\"][column] = len(DATA[pd.isnull(DATA[column])])\n",
    "    completion[\"taux de completion\"][column] = len(DATA[pd.notnull(DATA[column])])/len(DATA)*100\n",
    "completion = pd.DataFrame(completion)\n",
    "completion.sort_values('taux de completion', inplace=True)\n",
    "completion"
   ]
  },
  {
   "cell_type": "markdown",
   "id": "fa819a5c",
   "metadata": {},
   "source": [
    "### Selection des observations conformes\n",
    "La variables ComplianceStatus informe sur la conformité des observations.  \n",
    "On peut alors sélectionner uniquement les observations conformes grâce à cette variable."
   ]
  },
  {
   "cell_type": "code",
   "execution_count": 25,
   "id": "e6ab0ee0",
   "metadata": {
    "scrolled": true
   },
   "outputs": [
    {
     "name": "stdout",
     "output_type": "stream",
     "text": [
      "Compliant                       6548\n",
      "Error - Correct Default Data     113\n",
      "Non-Compliant                     37\n",
      "Missing Data                      15\n",
      "Not Compliant                      3\n",
      "Name: ComplianceStatus, dtype: int64\n"
     ]
    }
   ],
   "source": [
    "print(DATA['ComplianceStatus'].value_counts(dropna=False))"
   ]
  },
  {
   "cell_type": "markdown",
   "id": "34a51f8e",
   "metadata": {},
   "source": [
    "On concerve uniquement les observations \"Compliant\" compte tenue de la faible représentation des autres valeurs"
   ]
  },
  {
   "cell_type": "code",
   "execution_count": 26,
   "id": "94df5849",
   "metadata": {},
   "outputs": [],
   "source": [
    "DATA = DATA[DATA['ComplianceStatus'] == \"Compliant\"]"
   ]
  },
  {
   "cell_type": "markdown",
   "id": "5ab3cf66",
   "metadata": {},
   "source": [
    "### Choix des variables utiles pour la prédiction\n",
    "Les variables à prédire sont :  \n",
    "- GHGEmissions(MetricTonsCO2e) : pour les émissions des GES\n",
    "- SiteEnergyUseWN(kBtu) : pour la consommation énergétique. Les valeurs normalisées par la météo pour être indépendant de ce paramètre.\n",
    "\n",
    "Les variables utilisées pour la prédiction sont :  \n",
    "- les variables demandées dans le projet :\n",
    "    - ENERGYSTARScore : apport de cette variable \n",
    "  \n",
    "  \n",
    "- les variables pour identifier et caractériser le batiment :\n",
    "    - OSEBuildingID : ID du batiment\n",
    "    - BuildingType: Type de batiment  \n",
    "    - PrimaryPropertyType : utilisation principale\n",
    "    - YearBuilt : année de construction, peut impacter la qualité de l'isolation par exemple\n",
    "    - NumberofFloors : informe de la taille de l'immeuble\n",
    "    - NumberofBuildings : Nombre d'immeuble \n",
    "    - PropertyGFATotal : surface totale\n",
    "    - PropertyGFAParking : surface du parking\n",
    "    - PropertyGFABuilding(s) : surface de l'immeuble\n",
    "    - LargestPropertyUseType, LargestPropertyUseTypeGFA : Type de l'usage principale et de la surface associée à cette utilisation\n",
    "    - SecondLargestPropertyUseType, SecondLargestPropertyUseTypeGFA : Type de l'usage secondaire et de la surface associée à cette utilisation\n",
    "    - ThirdLargestPropertyUseType, ThirdLargestPropertyUseTypeGFA : Type de l'usage tertiaire et de la surface associée à cette utilisation\n",
    "    \n",
    "    \n",
    "- les variables concernant la consommation énergétique :\n",
    "    - Electricity(kWh), Electricity(kBtu) : consommation électrique \n",
    "    - NaturalGas(kBtu) : consommation de gaz\n",
    "    - SteamUse(kBtu) : consommation de vapeur\n",
    "    - OtherFuelUse(kBtu) : autre consommation énergétique\n",
    "    \n",
    "    \n",
    "- DataYear : pour concerver la date du relevée\n",
    "- Outlier : pour le traitement des outliers, voir plus loin\n",
    "\n",
    "Les variables supprimées :  \n",
    "- PropertyName : le nom de la propriété ne renseigne pas de la consommation électrique\n",
    "- Latitude, Longitude, Address, City, State, ZipCode, Neighborhood, CouncilDistrictCode: la localisation exacte n'a pas à entrer en compte dans la prédiction.\n",
    "- Comments : Les commentaires sont peu renseignées et ne sont a priori pas utile\n",
    "- ComplianceStatus : déjà utilisé\n",
    "- DefaultData : La variable n'est pas expliqué, on décide de ne pas la conserver\n",
    "- TaxParcelIdentificationNumber : information sur la parcelle\n",
    "- YearsENERGYSTARCertified : l'année de la certification n'impacte pas les valeurs\n",
    "- SiteEnergyUse(kBtu) : on préfère prédire les valeurs normalisée par la météo\n",
    "- ListOfAllPropertyUseTypes : déjà capté par le détail des principales, secondaire etc. \n",
    "- GHGEmissionsIntensity(kgCO2e/ft2) : il a été décidé de préduire la consommation totale du batiment et non pas ft2\n",
    "- SiteEUI(kBtu/sf) : on ne concerve pas les données normalisées à la surface\n",
    "- SiteEUIWN(kBtu/sf) : on ne concerve pas les données normalisées à la surface\n",
    "- SourceEUI(kBtu/sf) : on ne concerve pas les données normalisées à la surface\n",
    "- SourceEUIWN(kBtu/sf) : on ne concerve pas les données normalisées à la surface\n",
    "- NaturalGas(therms) : toutes les autres consommations sont données en kBtu\n",
    "- Electricity(KWh) : toutes les autres consommations sont données en kBtu\n",
    "\n"
   ]
  },
  {
   "cell_type": "markdown",
   "id": "2fc3034e",
   "metadata": {},
   "source": [
    "### suppression des variables non utilisées"
   ]
  },
  {
   "cell_type": "code",
   "execution_count": 28,
   "id": "2ee6ee07",
   "metadata": {},
   "outputs": [],
   "source": [
    "removed_columns = [\"PropertyName\", \"Latitude\", \"Longitude\", \"Address\", \"City\", \"State\", \"ZipCode\", \"Neighborhood\", \\\n",
    "                  \"CouncilDistrictCode\", \"Comments\", \"ComplianceStatus\", \"DefaultData\", \"TaxParcelIdentificationNumber\",\\\n",
    "                 \"YearsENERGYSTARCertified\", \"ListOfAllPropertyUseTypes\", \\\n",
    "                 \"GHGEmissionsIntensity(kgCO2e/ft2)\", \"SiteEUI(kBtu/sf)\", \"SiteEUIWN(kBtu/sf)\", \"SourceEUI(kBtu/sf)\",\\\n",
    "                 \"SourceEUIWN(kBtu/sf)\", \"NaturalGas(therms)\", \"Electricity(kWh)\"]"
   ]
  },
  {
   "cell_type": "code",
   "execution_count": 29,
   "id": "46574c36",
   "metadata": {},
   "outputs": [],
   "source": [
    "for column in removed_columns :\n",
    "    if column in DATA.columns :\n",
    "        DATA.drop(column, axis=1, inplace=True)\n",
    "    else :\n",
    "        print(f\"{column} is not in the dataframe\")"
   ]
  },
  {
   "cell_type": "markdown",
   "id": "f2c409cd",
   "metadata": {},
   "source": [
    "### Vérification des variables sélectionnées"
   ]
  },
  {
   "cell_type": "code",
   "execution_count": 30,
   "id": "d9d83ef2",
   "metadata": {},
   "outputs": [],
   "source": [
    "selected_columns = [\"GHGEmissions(MetricTonsCO2e)\", \"SiteEnergyUseWN(kBtu)\", \"SiteEnergyUse(kBtu)\", \"ENERGYSTARScore\", \"OSEBuildingID\", \\\n",
    "                   \"BuildingType\", \"PrimaryPropertyType\", \"YearBuilt\", \"NumberofFloors\", \"NumberofBuildings\", \\\n",
    "                   \"PropertyGFATotal\", \"PropertyGFAParking\", \"PropertyGFABuilding(s)\", \"LargestPropertyUseType\",\\\n",
    "                   \"LargestPropertyUseTypeGFA\", \"SecondLargestPropertyUseType\", \"SecondLargestPropertyUseTypeGFA\", \\\n",
    "                   \"ThirdLargestPropertyUseType\", \"ThirdLargestPropertyUseTypeGFA\", \"Electricity(kBtu)\", \"NaturalGas(kBtu)\",\\\n",
    "                   \"SteamUse(kBtu)\", \"OtherFuelUse(kBtu)\", \"DataYear\", \"Outlier\"]"
   ]
  },
  {
   "cell_type": "code",
   "execution_count": 31,
   "id": "f8578ae7",
   "metadata": {},
   "outputs": [],
   "source": [
    "for column in selected_columns :\n",
    "    if column not in DATA.columns :\n",
    "        print(f\"Warning : {column} is not in the Dataframe\")"
   ]
  },
  {
   "cell_type": "markdown",
   "id": "a120a639",
   "metadata": {},
   "source": [
    "### Nettoyage des données \n",
    "#### variables de type float\n",
    "On vérifie que les valeurs soient des floats et supérieures à 0"
   ]
  },
  {
   "cell_type": "code",
   "execution_count": 32,
   "id": "903e7350",
   "metadata": {
    "scrolled": true
   },
   "outputs": [
    {
     "name": "stdout",
     "output_type": "stream",
     "text": [
      "==================================================\n",
      "GHGEmissions(MetricTonsCO2e)\n",
      "Valeurs manquantes avant nettoyage : 11 soit 0.002%\n",
      "Wrong value : -0.8 of type <class 'float'> => ignored\n",
      "Valeurs manquantes après nettoyage : 12 soit 0.002%\n",
      "==================================================\n",
      "SiteEnergyUseWN(kBtu)\n",
      "Valeurs manquantes avant nettoyage : 8 soit 0.001%\n",
      "Valeurs manquantes après nettoyage : 8 soit 0.001%\n",
      "==================================================\n",
      "PropertyGFATotal\n",
      "Valeurs manquantes avant nettoyage : 0 soit 0.000%\n",
      "Valeurs manquantes après nettoyage : 0 soit 0.000%\n",
      "==================================================\n",
      "PropertyGFAParking\n",
      "Valeurs manquantes avant nettoyage : 0 soit 0.000%\n",
      "Wrong value : -3 of type <class 'int'> => ignored\n",
      "Wrong value : -2 of type <class 'int'> => ignored\n",
      "Valeurs manquantes après nettoyage : 2 soit 0.000%\n",
      "==================================================\n",
      "PropertyGFABuilding(s)\n",
      "Valeurs manquantes avant nettoyage : 0 soit 0.000%\n",
      "Wrong value : -43310 of type <class 'int'> => ignored\n",
      "Wrong value : -50550 of type <class 'int'> => ignored\n",
      "Valeurs manquantes après nettoyage : 2 soit 0.000%\n",
      "==================================================\n",
      "LargestPropertyUseTypeGFA\n",
      "Valeurs manquantes avant nettoyage : 148 soit 0.023%\n",
      "Valeurs manquantes après nettoyage : 148 soit 0.023%\n",
      "==================================================\n",
      "SecondLargestPropertyUseTypeGFA\n",
      "Valeurs manquantes avant nettoyage : 3342 soit 0.510%\n",
      "Valeurs manquantes après nettoyage : 3342 soit 0.510%\n",
      "==================================================\n",
      "ThirdLargestPropertyUseTypeGFA\n",
      "Valeurs manquantes avant nettoyage : 5405 soit 0.825%\n",
      "Valeurs manquantes après nettoyage : 5405 soit 0.825%\n",
      "==================================================\n",
      "Electricity(kBtu)\n",
      "Valeurs manquantes avant nettoyage : 11 soit 0.002%\n",
      "Wrong value : -115417.0 of type <class 'float'> => ignored\n",
      "Valeurs manquantes après nettoyage : 12 soit 0.002%\n",
      "==================================================\n",
      "NaturalGas(kBtu)\n",
      "Valeurs manquantes avant nettoyage : 11 soit 0.002%\n",
      "Valeurs manquantes après nettoyage : 11 soit 0.002%\n",
      "==================================================\n",
      "SteamUse(kBtu)\n",
      "Valeurs manquantes avant nettoyage : 11 soit 0.002%\n",
      "Valeurs manquantes après nettoyage : 11 soit 0.002%\n",
      "==================================================\n",
      "OtherFuelUse(kBtu)\n",
      "Valeurs manquantes avant nettoyage : 7 soit 0.001%\n",
      "Valeurs manquantes après nettoyage : 7 soit 0.001%\n"
     ]
    }
   ],
   "source": [
    "for column in [\"GHGEmissions(MetricTonsCO2e)\", \"SiteEnergyUseWN(kBtu)\",\"PropertyGFATotal\", \"PropertyGFAParking\", \\\n",
    "               \"PropertyGFABuilding(s)\", \"LargestPropertyUseTypeGFA\", \"SecondLargestPropertyUseTypeGFA\", \\\n",
    "               \"ThirdLargestPropertyUseTypeGFA\", \"Electricity(kBtu)\", \"NaturalGas(kBtu)\", \"SteamUse(kBtu)\", \\\n",
    "               \"OtherFuelUse(kBtu)\" ] :\n",
    "    print(\"=\"*50)\n",
    "    print(column)\n",
    "    print(f\"Valeurs manquantes avant nettoyage : {len(DATA[pd.isnull(DATA[column])])} soit {len(DATA[pd.isnull(DATA[column])])/len(DATA):.3f}%\")\n",
    "    DATA[column] = DATA[column].apply(is_float, min=0)\n",
    "    print(f\"Valeurs manquantes après nettoyage : {len(DATA[pd.isnull(DATA[column])])} soit {len(DATA[pd.isnull(DATA[column])])/len(DATA):.3f}%\")"
   ]
  },
  {
   "cell_type": "markdown",
   "id": "ffe77af4",
   "metadata": {},
   "source": [
    "Très peu de valeurs sont erronnées, \n",
    "la consommation électrique négative a été supprimée, même si cela peut signifier que le batiment dispose de panneaux solaires. Malheuresement nous n'avons pas ces informations."
   ]
  },
  {
   "cell_type": "markdown",
   "id": "daf53ab1",
   "metadata": {},
   "source": [
    "l'ENERGYSTARScore doit être compris entre 0 et 100"
   ]
  },
  {
   "cell_type": "code",
   "execution_count": 33,
   "id": "088d95de",
   "metadata": {},
   "outputs": [
    {
     "name": "stdout",
     "output_type": "stream",
     "text": [
      "==================================================\n",
      "ENERGYSTARScore\n",
      "Valeurs manquantes avant nettoyage : 1589 soit 0.243%\n",
      "Valeurs manquantes après nettoyage : 1589 soit 0.243%\n"
     ]
    }
   ],
   "source": [
    "print(\"=\"*50)\n",
    "print(\"ENERGYSTARScore\")\n",
    "print(f\"Valeurs manquantes avant nettoyage : {len(DATA[pd.isnull(DATA['ENERGYSTARScore'])])} soit {len(DATA[pd.isnull(DATA['ENERGYSTARScore'])])/len(DATA):.3f}%\")\n",
    "DATA[\"ENERGYSTARScore\"] = DATA[\"ENERGYSTARScore\"].apply(is_float, min=0, max=100)\n",
    "print(f\"Valeurs manquantes après nettoyage : {len(DATA[pd.isnull(DATA['ENERGYSTARScore'])])} soit {len(DATA[pd.isnull(DATA['ENERGYSTARScore'])])/len(DATA):.3f}%\")"
   ]
  },
  {
   "cell_type": "markdown",
   "id": "439ee8a6",
   "metadata": {},
   "source": [
    "#### variables de type int\n",
    "on vérifie que les variables soient de type int et supérieur à 0"
   ]
  },
  {
   "cell_type": "code",
   "execution_count": 34,
   "id": "b4267d1a",
   "metadata": {},
   "outputs": [
    {
     "name": "stdout",
     "output_type": "stream",
     "text": [
      "==================================================\n",
      "NumberofFloors\n",
      "Valeurs manquantes avant nettoyage : 8 soit 0.001%\n",
      "Valeurs manquantes après nettoyage : 8 soit 0.001%\n",
      "==================================================\n",
      "NumberofBuildings\n",
      "Valeurs manquantes avant nettoyage : 3 soit 0.000%\n",
      "Valeurs manquantes après nettoyage : 3 soit 0.000%\n"
     ]
    }
   ],
   "source": [
    "for column in [\"NumberofFloors\",  \"NumberofBuildings\" ] :\n",
    "    print(\"=\"*50)\n",
    "    print(column)\n",
    "    print(f\"Valeurs manquantes avant nettoyage : {len(DATA[pd.isnull(DATA[column])])} soit {len(DATA[pd.isnull(DATA[column])])/len(DATA):.3f}%\")\n",
    "    DATA[column] = DATA[column].apply(is_int, min=0)\n",
    "    print(f\"Valeurs manquantes après nettoyage : {len(DATA[pd.isnull(DATA[column])])} soit {len(DATA[pd.isnull(DATA[column])])/len(DATA):.3f}%\")"
   ]
  },
  {
   "cell_type": "markdown",
   "id": "177a6916",
   "metadata": {},
   "source": [
    "L'année de construction doit être inférieure à l'année du relevée. "
   ]
  },
  {
   "cell_type": "code",
   "execution_count": 35,
   "id": "b7e512a9",
   "metadata": {},
   "outputs": [
    {
     "name": "stdout",
     "output_type": "stream",
     "text": [
      "==================================================\n",
      "YearBuilt\n",
      "Valeurs manquantes avant nettoyage : 0 soit 0.000%\n",
      "Valeurs manquantes après nettoyage : 0 soit 0.000%\n",
      "==================================================\n",
      "DataYear\n",
      "Valeurs manquantes avant nettoyage : 0 soit 0.000%\n",
      "Valeurs manquantes après nettoyage : 0 soit 0.000%\n"
     ]
    }
   ],
   "source": [
    "for column  in [\"YearBuilt\",  'DataYear']:\n",
    "    print(\"=\"*50)\n",
    "    print(column)\n",
    "    print(f\"Valeurs manquantes avant nettoyage : {len(DATA[pd.isnull(DATA[column])])} soit {len(DATA[pd.isnull(DATA[column])])/len(DATA):.3f}%\")\n",
    "    DATA[column] = DATA[column].apply(is_int, min=0, max=2016)\n",
    "    print(f\"Valeurs manquantes après nettoyage : {len(DATA[pd.isnull(DATA[column])])} soit {len(DATA[pd.isnull(DATA[column])])/len(DATA):.3f}%\")"
   ]
  },
  {
   "cell_type": "markdown",
   "id": "9103a91b",
   "metadata": {},
   "source": [
    "### Exploration des données quantitatives :\n",
    "#### représentations en histogrammes"
   ]
  },
  {
   "cell_type": "code",
   "execution_count": 36,
   "id": "4ade5804",
   "metadata": {},
   "outputs": [],
   "source": [
    "quanti_variables = [\"GHGEmissions(MetricTonsCO2e)\", \"SiteEnergyUseWN(kBtu)\",\"PropertyGFATotal\", \"PropertyGFAParking\", \\\n",
    "               \"PropertyGFABuilding(s)\", \"LargestPropertyUseTypeGFA\", \"SecondLargestPropertyUseTypeGFA\", \\\n",
    "               \"ThirdLargestPropertyUseTypeGFA\", \"Electricity(kBtu)\", \"NaturalGas(kBtu)\", \"SteamUse(kBtu)\", \\\n",
    "               \"OtherFuelUse(kBtu)\",  \"ENERGYSTARScore\", \"NumberofFloors\",  \"NumberofBuildings\", \"YearBuilt\",  'DataYear']"
   ]
  },
  {
   "cell_type": "code",
   "execution_count": 39,
   "id": "4d859092",
   "metadata": {
    "scrolled": false
   },
   "outputs": [
    {
     "data": {
      "image/png": "[encoded data removed]",
      "text/plain": [
       "<Figure size 1080x1080 with 17 Axes>"
      ]
     },
     "metadata": {
      "needs_background": "light"
     },
     "output_type": "display_data"
    }
   ],
   "source": [
    "ncol = 4\n",
    "nrow = int(np.ceil(len(quanti_variables)/ncol))\n",
    "fig, axes = plt.subplots(nrows=nrow, ncols=ncol, figsize=(15,15))\n",
    "for i, var in enumerate(quanti_variables) :\n",
    "    locy, locx = i%4, i//4\n",
    "    n_bins = int(1+np.log2(len(DATA[var])))\n",
    "    axes[locx, locy].set_title(var)\n",
    "    axes[locx, locy].set_xlabel(var)\n",
    "    axes[locx, locy].set_ylabel(\"effectif\")\n",
    "    axes[locx, locy].hist(DATA[var], bins=n_bins)\n",
    "for y in range(locy+1,4) :\n",
    "    fig.delaxes(axes[-1, y])\n",
    "fig.tight_layout()\n",
    "plt.show()"
   ]
  },
  {
   "cell_type": "markdown",
   "id": "8586dab2",
   "metadata": {},
   "source": [
    "#### Statistiques"
   ]
  },
  {
   "cell_type": "code",
   "execution_count": 40,
   "id": "a351eea2",
   "metadata": {
    "scrolled": true
   },
   "outputs": [
    {
     "data": {
      "text/html": [
       "<div>\n",
       "<style scoped>\n",
       "    .dataframe tbody tr th:only-of-type {\n",
       "        vertical-align: middle;\n",
       "    }\n",
       "\n",
       "    .dataframe tbody tr th {\n",
       "        vertical-align: top;\n",
       "    }\n",
       "\n",
       "    .dataframe thead th {\n",
       "        text-align: right;\n",
       "    }\n",
       "</style>\n",
       "<table border=\"1\" class=\"dataframe\">\n",
       "  <thead>\n",
       "    <tr style=\"text-align: right;\">\n",
       "      <th></th>\n",
       "      <th>moyenne</th>\n",
       "      <th>Q1</th>\n",
       "      <th>Q2</th>\n",
       "      <th>Q3</th>\n",
       "      <th>std</th>\n",
       "      <th>asym</th>\n",
       "      <th>applatissement</th>\n",
       "    </tr>\n",
       "  </thead>\n",
       "  <tbody>\n",
       "    <tr>\n",
       "      <th>GHGEmissions(MetricTonsCO2e)</th>\n",
       "      <td>1.160569e+02</td>\n",
       "      <td>9.4775</td>\n",
       "      <td>33.175</td>\n",
       "      <td>91.815</td>\n",
       "      <td>4.844272e+02</td>\n",
       "      <td>19.071262</td>\n",
       "      <td>478.705005</td>\n",
       "    </tr>\n",
       "    <tr>\n",
       "      <th>SiteEnergyUseWN(kBtu)</th>\n",
       "      <td>5.295297e+06</td>\n",
       "      <td>987101.0625</td>\n",
       "      <td>1927768.500</td>\n",
       "      <td>4399330.375</td>\n",
       "      <td>1.516906e+07</td>\n",
       "      <td>13.913588</td>\n",
       "      <td>285.611960</td>\n",
       "    </tr>\n",
       "    <tr>\n",
       "      <th>PropertyGFATotal</th>\n",
       "      <td>9.325755e+04</td>\n",
       "      <td>28380.0000</td>\n",
       "      <td>43832.000</td>\n",
       "      <td>89865.750</td>\n",
       "      <td>1.889723e+05</td>\n",
       "      <td>20.783156</td>\n",
       "      <td>887.308868</td>\n",
       "    </tr>\n",
       "    <tr>\n",
       "      <th>PropertyGFAParking</th>\n",
       "      <td>9.741519e+03</td>\n",
       "      <td>0.0000</td>\n",
       "      <td>0.000</td>\n",
       "      <td>0.000</td>\n",
       "      <td>3.426878e+04</td>\n",
       "      <td>6.269096</td>\n",
       "      <td>53.159418</td>\n",
       "    </tr>\n",
       "    <tr>\n",
       "      <th>PropertyGFABuilding(s)</th>\n",
       "      <td>8.355886e+04</td>\n",
       "      <td>27231.7500</td>\n",
       "      <td>42022.500</td>\n",
       "      <td>81422.000</td>\n",
       "      <td>1.745856e+05</td>\n",
       "      <td>25.385648</td>\n",
       "      <td>1215.658049</td>\n",
       "    </tr>\n",
       "    <tr>\n",
       "      <th>LargestPropertyUseTypeGFA</th>\n",
       "      <td>7.716386e+04</td>\n",
       "      <td>25000.0000</td>\n",
       "      <td>39000.000</td>\n",
       "      <td>74138.250</td>\n",
       "      <td>1.695755e+05</td>\n",
       "      <td>27.775594</td>\n",
       "      <td>1394.464704</td>\n",
       "    </tr>\n",
       "    <tr>\n",
       "      <th>SecondLargestPropertyUseTypeGFA</th>\n",
       "      <td>2.796346e+04</td>\n",
       "      <td>4993.0000</td>\n",
       "      <td>10664.000</td>\n",
       "      <td>26466.000</td>\n",
       "      <td>5.237872e+04</td>\n",
       "      <td>4.714500</td>\n",
       "      <td>30.912727</td>\n",
       "    </tr>\n",
       "    <tr>\n",
       "      <th>ThirdLargestPropertyUseTypeGFA</th>\n",
       "      <td>1.132184e+04</td>\n",
       "      <td>2351.0000</td>\n",
       "      <td>5100.000</td>\n",
       "      <td>10280.000</td>\n",
       "      <td>2.641919e+04</td>\n",
       "      <td>8.781757</td>\n",
       "      <td>109.122898</td>\n",
       "    </tr>\n",
       "    <tr>\n",
       "      <th>Electricity(kBtu)</th>\n",
       "      <td>3.634359e+06</td>\n",
       "      <td>639669.0000</td>\n",
       "      <td>1172474.000</td>\n",
       "      <td>2818601.250</td>\n",
       "      <td>1.262147e+07</td>\n",
       "      <td>26.934784</td>\n",
       "      <td>1189.785084</td>\n",
       "    </tr>\n",
       "    <tr>\n",
       "      <th>NaturalGas(kBtu)</th>\n",
       "      <td>1.319145e+06</td>\n",
       "      <td>0.0000</td>\n",
       "      <td>301904.000</td>\n",
       "      <td>1143400.000</td>\n",
       "      <td>5.749806e+06</td>\n",
       "      <td>28.237678</td>\n",
       "      <td>1211.800581</td>\n",
       "    </tr>\n",
       "    <tr>\n",
       "      <th>SteamUse(kBtu)</th>\n",
       "      <td>2.674919e+05</td>\n",
       "      <td>0.0000</td>\n",
       "      <td>0.000</td>\n",
       "      <td>0.000</td>\n",
       "      <td>3.747602e+06</td>\n",
       "      <td>27.725372</td>\n",
       "      <td>877.423026</td>\n",
       "    </tr>\n",
       "    <tr>\n",
       "      <th>OtherFuelUse(kBtu)</th>\n",
       "      <td>3.636120e+03</td>\n",
       "      <td>0.0000</td>\n",
       "      <td>0.000</td>\n",
       "      <td>0.000</td>\n",
       "      <td>1.400822e+05</td>\n",
       "      <td>48.939404</td>\n",
       "      <td>2591.587756</td>\n",
       "    </tr>\n",
       "    <tr>\n",
       "      <th>ENERGYSTARScore</th>\n",
       "      <td>6.758399e+01</td>\n",
       "      <td>52.0000</td>\n",
       "      <td>75.000</td>\n",
       "      <td>90.000</td>\n",
       "      <td>2.706186e+01</td>\n",
       "      <td>-0.833955</td>\n",
       "      <td>-0.293067</td>\n",
       "    </tr>\n",
       "    <tr>\n",
       "      <th>NumberofFloors</th>\n",
       "      <td>4.742966e+00</td>\n",
       "      <td>2.0000</td>\n",
       "      <td>4.000</td>\n",
       "      <td>5.000</td>\n",
       "      <td>5.525220e+00</td>\n",
       "      <td>5.935316</td>\n",
       "      <td>55.972975</td>\n",
       "    </tr>\n",
       "    <tr>\n",
       "      <th>NumberofBuildings</th>\n",
       "      <td>1.072574e+00</td>\n",
       "      <td>1.0000</td>\n",
       "      <td>1.000</td>\n",
       "      <td>1.000</td>\n",
       "      <td>1.612363e+00</td>\n",
       "      <td>52.173996</td>\n",
       "      <td>3368.973404</td>\n",
       "    </tr>\n",
       "    <tr>\n",
       "      <th>YearBuilt</th>\n",
       "      <td>1.968176e+03</td>\n",
       "      <td>1948.0000</td>\n",
       "      <td>1974.000</td>\n",
       "      <td>1997.000</td>\n",
       "      <td>3.306096e+01</td>\n",
       "      <td>-0.538442</td>\n",
       "      <td>-0.885659</td>\n",
       "    </tr>\n",
       "    <tr>\n",
       "      <th>DataYear</th>\n",
       "      <td>2.015490e+03</td>\n",
       "      <td>2015.0000</td>\n",
       "      <td>2015.000</td>\n",
       "      <td>2016.000</td>\n",
       "      <td>4.999456e-01</td>\n",
       "      <td>0.038501</td>\n",
       "      <td>-1.999128</td>\n",
       "    </tr>\n",
       "  </tbody>\n",
       "</table>\n",
       "</div>"
      ],
      "text/plain": [
       "                                      moyenne           Q1           Q2  \\\n",
       "GHGEmissions(MetricTonsCO2e)     1.160569e+02       9.4775       33.175   \n",
       "SiteEnergyUseWN(kBtu)            5.295297e+06  987101.0625  1927768.500   \n",
       "PropertyGFATotal                 9.325755e+04   28380.0000    43832.000   \n",
       "PropertyGFAParking               9.741519e+03       0.0000        0.000   \n",
       "PropertyGFABuilding(s)           8.355886e+04   27231.7500    42022.500   \n",
       "LargestPropertyUseTypeGFA        7.716386e+04   25000.0000    39000.000   \n",
       "SecondLargestPropertyUseTypeGFA  2.796346e+04    4993.0000    10664.000   \n",
       "ThirdLargestPropertyUseTypeGFA   1.132184e+04    2351.0000     5100.000   \n",
       "Electricity(kBtu)                3.634359e+06  639669.0000  1172474.000   \n",
       "NaturalGas(kBtu)                 1.319145e+06       0.0000   301904.000   \n",
       "SteamUse(kBtu)                   2.674919e+05       0.0000        0.000   \n",
       "OtherFuelUse(kBtu)               3.636120e+03       0.0000        0.000   \n",
       "ENERGYSTARScore                  6.758399e+01      52.0000       75.000   \n",
       "NumberofFloors                   4.742966e+00       2.0000        4.000   \n",
       "NumberofBuildings                1.072574e+00       1.0000        1.000   \n",
       "YearBuilt                        1.968176e+03    1948.0000     1974.000   \n",
       "DataYear                         2.015490e+03    2015.0000     2015.000   \n",
       "\n",
       "                                          Q3           std       asym  \\\n",
       "GHGEmissions(MetricTonsCO2e)          91.815  4.844272e+02  19.071262   \n",
       "SiteEnergyUseWN(kBtu)            4399330.375  1.516906e+07  13.913588   \n",
       "PropertyGFATotal                   89865.750  1.889723e+05  20.783156   \n",
       "PropertyGFAParking                     0.000  3.426878e+04   6.269096   \n",
       "PropertyGFABuilding(s)             81422.000  1.745856e+05  25.385648   \n",
       "LargestPropertyUseTypeGFA          74138.250  1.695755e+05  27.775594   \n",
       "SecondLargestPropertyUseTypeGFA    26466.000  5.237872e+04   4.714500   \n",
       "ThirdLargestPropertyUseTypeGFA     10280.000  2.641919e+04   8.781757   \n",
       "Electricity(kBtu)                2818601.250  1.262147e+07  26.934784   \n",
       "NaturalGas(kBtu)                 1143400.000  5.749806e+06  28.237678   \n",
       "SteamUse(kBtu)                         0.000  3.747602e+06  27.725372   \n",
       "OtherFuelUse(kBtu)                     0.000  1.400822e+05  48.939404   \n",
       "ENERGYSTARScore                       90.000  2.706186e+01  -0.833955   \n",
       "NumberofFloors                         5.000  5.525220e+00   5.935316   \n",
       "NumberofBuildings                      1.000  1.612363e+00  52.173996   \n",
       "YearBuilt                           1997.000  3.306096e+01  -0.538442   \n",
       "DataYear                            2016.000  4.999456e-01   0.038501   \n",
       "\n",
       "                                 applatissement  \n",
       "GHGEmissions(MetricTonsCO2e)         478.705005  \n",
       "SiteEnergyUseWN(kBtu)                285.611960  \n",
       "PropertyGFATotal                     887.308868  \n",
       "PropertyGFAParking                    53.159418  \n",
       "PropertyGFABuilding(s)              1215.658049  \n",
       "LargestPropertyUseTypeGFA           1394.464704  \n",
       "SecondLargestPropertyUseTypeGFA       30.912727  \n",
       "ThirdLargestPropertyUseTypeGFA       109.122898  \n",
       "Electricity(kBtu)                   1189.785084  \n",
       "NaturalGas(kBtu)                    1211.800581  \n",
       "SteamUse(kBtu)                       877.423026  \n",
       "OtherFuelUse(kBtu)                  2591.587756  \n",
       "ENERGYSTARScore                       -0.293067  \n",
       "NumberofFloors                        55.972975  \n",
       "NumberofBuildings                   3368.973404  \n",
       "YearBuilt                             -0.885659  \n",
       "DataYear                              -1.999128  "
      ]
     },
     "execution_count": 40,
     "metadata": {},
     "output_type": "execute_result"
    }
   ],
   "source": [
    "stats = {\"moyenne\" :{}, \"Q1\" : {}, \"Q2\": {}, \"Q3\": {}, \"std\":{}, \"asym\": {}, \"applatissement\" :{} }\n",
    "stats = pd.DataFrame(stats)\n",
    "stats['moyenne'] = DATA[quanti_variables].mean()\n",
    "stats[['Q1', 'Q2', 'Q3']] = DATA.quantile([0.25, 0.5, 0.75]).T\n",
    "stats['std'] = DATA[quanti_variables].std()\n",
    "stats['asym'] = DATA[quanti_variables].skew()\n",
    "stats['applatissement'] = DATA[quanti_variables].kurtosis()\n",
    "stats"
   ]
  },
  {
   "cell_type": "markdown",
   "id": "f0df8e32",
   "metadata": {},
   "source": [
    "### Exploration des données qualitatives"
   ]
  },
  {
   "cell_type": "code",
   "execution_count": 41,
   "id": "884fdd25",
   "metadata": {},
   "outputs": [],
   "source": [
    "quali_variables = [\"BuildingType\", \"PrimaryPropertyType\", \"LargestPropertyUseType\",\\\n",
    "                   \"SecondLargestPropertyUseType\", \"ThirdLargestPropertyUseType\", \"Outlier\"]"
   ]
  },
  {
   "cell_type": "markdown",
   "id": "8e4b9adb",
   "metadata": {},
   "source": [
    "#### Tableau des effectifs et des fréquences"
   ]
  },
  {
   "cell_type": "code",
   "execution_count": 42,
   "id": "6e3d5988",
   "metadata": {
    "scrolled": false
   },
   "outputs": [
    {
     "name": "stdout",
     "output_type": "stream",
     "text": [
      "==================================================\n",
      "BuildingType\n",
      "------------------------------\n",
      "                      effectifs  fréquences\n",
      "NonResidential             2893    0.441814\n",
      "Multifamily LR (1-4)       2011    0.307117\n",
      "Multifamily MR (5-9)       1124    0.171655\n",
      "Multifamily HR (10+)        215    0.032834\n",
      "Nonresidential COS          149    0.022755\n",
      "SPS-District K-12           109    0.016646\n",
      "Campus                       46    0.007025\n",
      "Nonresidential WA             1    0.000153\n",
      "==================================================\n",
      "PrimaryPropertyType\n",
      "------------------------------\n",
      "                             effectifs  fréquences\n",
      "Low-Rise Multifamily              1951    0.297954\n",
      "Mid-Rise Multifamily              1092    0.166768\n",
      "Small- and Mid-Sized Office        584    0.089188\n",
      "Other                              508    0.077581\n",
      "Large Office                       340    0.051924\n",
      "Mixed Use Property                 258    0.039401\n",
      "High-Rise Multifamily              206    0.031460\n",
      "Non-Refrigerated Warehouse         187    0.028558\n",
      "K-12 School                        186    0.028406\n",
      "Warehouse                          185    0.028253\n",
      "Retail Store                       185    0.028253\n",
      "Hotel                              149    0.022755\n",
      "Worship Facility                   141    0.021533\n",
      "Senior Care Community               87    0.013286\n",
      "Medical Office                      82    0.012523\n",
      "Distribution Center                 55    0.008400\n",
      "Distribution Center\\n               51    0.007789\n",
      "Supermarket / Grocery Store         40    0.006109\n",
      "Supermarket/Grocery Store           36    0.005498\n",
      "Self-Storage Facility               29    0.004429\n",
      "Self-Storage Facility\\n             27    0.004123\n",
      "Refrigerated Warehouse              25    0.003818\n",
      "University                          25    0.003818\n",
      "Residence Hall                      23    0.003513\n",
      "College/University                  22    0.003360\n",
      "Hospital                            20    0.003054\n",
      "Residence Hall/Dormitory            15    0.002291\n",
      "Restaurant                          13    0.001985\n",
      "Laboratory                          11    0.001680\n",
      "Restaurant\\n                        11    0.001680\n",
      "SPS-District K-12                    4    0.000611\n",
      "==================================================\n",
      "LargestPropertyUseType\n",
      "------------------------------\n",
      "                                                      effectifs  fréquences\n",
      "Multifamily Housing                                        3224    0.503750\n",
      "Office                                                      965    0.150781\n",
      "Non-Refrigerated Warehouse                                  391    0.061094\n",
      "Other                                                       202    0.031563\n",
      "Retail Store                                                192    0.030000\n",
      "K-12 School                                                 186    0.029063\n",
      "Hotel                                                       144    0.022500\n",
      "Worship Facility                                            139    0.021719\n",
      "Distribution Center                                         106    0.016563\n",
      "Senior Care Community                                        87    0.013594\n",
      "Medical Office                                               84    0.013125\n",
      "Supermarket/Grocery Store                                    78    0.012188\n",
      "Parking                                                      60    0.009375\n",
      "Self-Storage Facility                                        55    0.008594\n",
      "Other - Recreation                                           51    0.007969\n",
      "College/University                                           46    0.007188\n",
      "Other - Entertainment/Public Assembly                        41    0.006406\n",
      "Residence Hall/Dormitory                                     40    0.006250\n",
      "Refrigerated Warehouse                                       24    0.003750\n",
      "Restaurant                                                   24    0.003750\n",
      "Laboratory                                                   22    0.003438\n",
      "Social/Meeting Hall                                          20    0.003125\n",
      "Hospital (General Medical & Surgical)                        19    0.002969\n",
      "Manufacturing/Industrial Plant                               14    0.002188\n",
      "Other - Lodging/Residential                                  12    0.001875\n",
      "Repair Services (Vehicle, Shoe, Locksmith, etc)              12    0.001875\n",
      "Strip Mall                                                   12    0.001875\n",
      "Automobile Dealership                                        11    0.001719\n",
      "Museum                                                       10    0.001563\n",
      "Other - Services                                             10    0.001563\n",
      "Fitness Center/Health Club/Gym                                9    0.001406\n",
      "Bank Branch                                                   8    0.001250\n",
      "Other/Specialty Hospital                                      8    0.001250\n",
      "Urgent Care/Clinic/Other Outpatient                           8    0.001250\n",
      "Library                                                       8    0.001250\n",
      "Other - Education                                             7    0.001094\n",
      "Performing Arts                                               7    0.001094\n",
      "Financial Office                                              7    0.001094\n",
      "Other - Mall                                                  7    0.001094\n",
      "Data Center                                                   5    0.000781\n",
      "Other - Public Services                                       4    0.000625\n",
      "Lifestyle Center                                              4    0.000625\n",
      "Pre-school/Daycare                                            4    0.000625\n",
      "Other - Utility                                               4    0.000625\n",
      "Adult Education                                               4    0.000625\n",
      "Other - Restaurant/Bar                                        4    0.000625\n",
      "Prison/Incarceration                                          3    0.000469\n",
      "Residential Care Facility                                     2    0.000313\n",
      "Police Station                                                2    0.000313\n",
      "Courthouse                                                    2    0.000313\n",
      "Food Service                                                  2    0.000313\n",
      "Fire Station                                                  2    0.000313\n",
      "Movie Theater                                                 2    0.000313\n",
      "Personal Services (Health/Beauty, Dry Cleaning, etc)          2    0.000313\n",
      "Wholesale Club/Supercenter                                    2    0.000313\n",
      "Convention Center                                             1    0.000156\n",
      "Outpatient Rehabilitation/Physical Therapy                    1    0.000156\n",
      "==================================================\n",
      "SecondLargestPropertyUseType\n",
      "------------------------------\n",
      "                                                      effectifs  fréquences\n",
      "Parking                                                    1843    0.574860\n",
      "Office                                                      417    0.130069\n",
      "Retail Store                                                306    0.095446\n",
      "Other                                                       113    0.035246\n",
      "Restaurant                                                   83    0.025889\n",
      "Non-Refrigerated Warehouse                                   66    0.020586\n",
      "Multifamily Housing                                          33    0.010293\n",
      "Fitness Center/Health Club/Gym                               27    0.008422\n",
      "Supermarket/Grocery Store                                    26    0.008110\n",
      "Data Center                                                  25    0.007798\n",
      "Other - Services                                             24    0.007486\n",
      "Medical Office                                               23    0.007174\n",
      "Swimming Pool                                                18    0.005614\n",
      "Other - Entertainment/Public Assembly                        16    0.004991\n",
      "Distribution Center                                          14    0.004367\n",
      "Laboratory                                                   14    0.004367\n",
      "Bank Branch                                                  13    0.004055\n",
      "K-12 School                                                  12    0.003743\n",
      "Other - Restaurant/Bar                                       10    0.003119\n",
      "Self-Storage Facility                                         9    0.002807\n",
      "Food Service                                                  8    0.002495\n",
      "Other - Recreation                                            8    0.002495\n",
      "Repair Services (Vehicle, Shoe, Locksmith, etc)               8    0.002495\n",
      "Hotel                                                         7    0.002183\n",
      "Worship Facility                                              7    0.002183\n",
      "Food Sales                                                    5    0.001560\n",
      "Other - Public Services                                       5    0.001560\n",
      "Movie Theater                                                 5    0.001560\n",
      "Bar/Nightclub                                                 5    0.001560\n",
      "Senior Care Community                                         4    0.001248\n",
      "Hospital (General Medical & Surgical)                         4    0.001248\n",
      "Financial Office                                              4    0.001248\n",
      "Adult Education                                               4    0.001248\n",
      "Other - Education                                             4    0.001248\n",
      "Performing Arts                                               4    0.001248\n",
      "Manufacturing/Industrial Plant                                4    0.001248\n",
      "Other - Lodging/Residential                                   3    0.000936\n",
      "Refrigerated Warehouse                                        3    0.000936\n",
      "Automobile Dealership                                         3    0.000936\n",
      "Museum                                                        2    0.000624\n",
      "Social/Meeting Hall                                           2    0.000624\n",
      "College/University                                            2    0.000624\n",
      "Other/Specialty Hospital                                      2    0.000624\n",
      "Convenience Store without Gas Station                         2    0.000624\n",
      "Residence Hall/Dormitory                                      2    0.000624\n",
      "Courthouse                                                    2    0.000624\n",
      "Vocational School                                             2    0.000624\n",
      "Personal Services (Health/Beauty, Dry Cleaning, etc)          1    0.000312\n",
      "Enclosed Mall                                                 1    0.000312\n",
      "Pre-school/Daycare                                            1    0.000312\n",
      "==================================================\n",
      "ThirdLargestPropertyUseType\n",
      "------------------------------\n",
      "                                                      effectifs  fréquences\n",
      "Retail Store                                                214    0.187227\n",
      "Office                                                      205    0.179353\n",
      "Parking                                                     133    0.116360\n",
      "Restaurant                                                  109    0.095363\n",
      "Other                                                       102    0.089239\n",
      "Swimming Pool                                                51    0.044619\n",
      "Non-Refrigerated Warehouse                                   35    0.030621\n",
      "Medical Office                                               34    0.029746\n",
      "Data Center                                                  23    0.020122\n",
      "Social/Meeting Hall                                          22    0.019248\n",
      "Multifamily Housing                                          22    0.019248\n",
      "Food Service                                                 22    0.019248\n",
      "Other - Restaurant/Bar                                       17    0.014873\n",
      "Bank Branch                                                  12    0.010499\n",
      "Pre-school/Daycare                                           12    0.010499\n",
      "Other - Entertainment/Public Assembly                        11    0.009624\n",
      "Fitness Center/Health Club/Gym                               10    0.008749\n",
      "Financial Office                                             10    0.008749\n",
      "Personal Services (Health/Beauty, Dry Cleaning, etc)          9    0.007874\n",
      "Bar/Nightclub                                                 6    0.005249\n",
      "Fast Food Restaurant                                          6    0.005249\n",
      "Distribution Center                                           6    0.005249\n",
      "Other - Lodging/Residential                                   6    0.005249\n",
      "Supermarket/Grocery Store                                     6    0.005249\n",
      "Food Sales                                                    5    0.004374\n",
      "Other - Recreation                                            5    0.004374\n",
      "Refrigerated Warehouse                                        4    0.003500\n",
      "Other - Services                                              4    0.003500\n",
      "Self-Storage Facility                                         4    0.003500\n",
      "Laboratory                                                    4    0.003500\n",
      "Other - Education                                             4    0.003500\n",
      "Convenience Store without Gas Station                         4    0.003500\n",
      "K-12 School                                                   4    0.003500\n",
      "Other - Technology/Science                                    3    0.002625\n",
      "Manufacturing/Industrial Plant                                3    0.002625\n",
      "Strip Mall                                                    3    0.002625\n",
      "Hotel                                                         2    0.001750\n",
      "Other/Specialty Hospital                                      2    0.001750\n",
      "Worship Facility                                              2    0.001750\n",
      "Residence Hall/Dormitory                                      2    0.001750\n",
      "Enclosed Mall                                                 1    0.000875\n",
      "Other - Utility                                               1    0.000875\n",
      "Vocational School                                             1    0.000875\n",
      "College/University                                            1    0.000875\n",
      "Other - Public Services                                       1    0.000875\n",
      "==================================================\n",
      "Outlier\n",
      "------------------------------\n",
      "              effectifs  fréquences\n",
      "High Outlier         46    0.547619\n",
      "Low Outlier          38    0.452381\n"
     ]
    }
   ],
   "source": [
    "for var in quali_variables :\n",
    "    print(\"=\"*50)\n",
    "    print(var)\n",
    "    print('-'*30)\n",
    "    df = pd.DataFrame({\"effectifs\":{}, \"fréquences\":{} })\n",
    "    df['effectifs'] = DATA[var].value_counts()\n",
    "    df['fréquences'] = DATA[var].value_counts(normalize=True)\n",
    "    print(df)\n",
    "    "
   ]
  },
  {
   "cell_type": "markdown",
   "id": "b4e813c9",
   "metadata": {},
   "source": [
    "### Vérifications des variables\n",
    "#### Cohérence entre les différentes consommations énergétiques et la consommation Totale\n",
    "on compare la somme des différentes consommations avec la valeur de la consommation totale.  \n",
    "La variable SiteEnergyUse(kBtu) puisqu'on préfère modéliser la valeur normalisée par la température."
   ]
  },
  {
   "cell_type": "code",
   "execution_count": 43,
   "id": "38ee5799",
   "metadata": {},
   "outputs": [
    {
     "name": "stdout",
     "output_type": "stream",
     "text": [
      "          sum    diff  diff_prct\n",
      "0   6981580.0  -152.0  -0.002177\n",
      "1   8354396.0  -161.0  -0.001927\n",
      "2  73132739.0 -2083.0  -0.002848\n",
      "3  28229435.0  -115.0  -0.000407\n",
      "4  14829350.0  -251.0  -0.001693\n",
      "6548\n",
      "==================================================\n",
      "différence supérieur à 0% : 1924\n",
      "différence inférieur à 0% : 4104\n",
      "différence supérieur à 1% : 34\n",
      "différence inférieur à -1% : 9\n",
      "min différence = -64.50%\n",
      "max différence = 100.00%\n"
     ]
    }
   ],
   "source": [
    "df_test = pd.DataFrame()\n",
    "df_test['sum'] = DATA[[\"Electricity(kBtu)\", \"NaturalGas(kBtu)\", \"SteamUse(kBtu)\", \"OtherFuelUse(kBtu)\"]].sum(axis=1)\n",
    "df_test['diff'] = DATA[\"SiteEnergyUse(kBtu)\"] -df_test['sum']\n",
    "df_test['diff_prct'] = (DATA[\"SiteEnergyUse(kBtu)\"] -df_test['sum'])*100/DATA[\"SiteEnergyUse(kBtu)\"]\n",
    "print(df_test.head())\n",
    "print(len(df_test))\n",
    "print('='*50)\n",
    "print(f\"différence supérieur à 0% : {len(df_test[df_test['diff_prct']>0])}\")\n",
    "print(f\"différence inférieur à 0% : {len(df_test[df_test['diff_prct']<0])}\")\n",
    "print(f\"différence supérieur à 1% : {len(df_test[df_test['diff_prct']>1])}\")\n",
    "print(f\"différence inférieur à -1% : {len(df_test[df_test['diff_prct']<-1])}\")\n",
    "print(f\"min différence = {df_test['diff_prct'].min():.2f}%\")\n",
    "print(f\"max différence = {df_test['diff_prct'].max():.2f}%\")"
   ]
  },
  {
   "cell_type": "markdown",
   "id": "c0412af4",
   "metadata": {},
   "source": [
    "La somme des différentes consommations ne correspond pas exactement à la valeurs de la variable \"SiteEnergyUse(kBtu)\".\n",
    "Si on accepte une différence maximum de 1%, on ne supprime que 43 observations.  \n",
    "C'est ce choix qui a été fait.  "
   ]
  },
  {
   "cell_type": "code",
   "execution_count": 44,
   "id": "c64a0295",
   "metadata": {},
   "outputs": [],
   "source": [
    " i = df_test[(df_test['diff_prct']<1) & (df_test['diff_prct']>-1)].index\n",
    "\n",
    "DATA = DATA[DATA.index.isin(i)]"
   ]
  },
  {
   "cell_type": "markdown",
   "id": "42177104",
   "metadata": {},
   "source": [
    "#### Cohérence entre la surface totale et la surface de l'immeuble + parking"
   ]
  },
  {
   "cell_type": "code",
   "execution_count": 46,
   "id": "f182c60f",
   "metadata": {},
   "outputs": [
    {
     "name": "stdout",
     "output_type": "stream",
     "text": [
      "différence égale à 0% : 6492\n",
      "différence supérieur à 0% : 0\n",
      "différence inférieur à 0% : 4\n",
      "différence supérieur à 1% : 0\n",
      "différence inférieur à -1% : 2\n"
     ]
    }
   ],
   "source": [
    "df_test = pd.DataFrame()\n",
    "df_test['sum'] = DATA[[\"PropertyGFAParking\", \"PropertyGFABuilding(s)\"]].sum(axis=1)\n",
    "df_test['diff'] = DATA[\"PropertyGFATotal\"] -df_test['sum']\n",
    "df_test['diff_prct'] = (DATA[\"PropertyGFATotal\"] -df_test['sum'])*100/DATA[\"PropertyGFATotal\"]\n",
    "print(f\"différence égale à 0% : {len(df_test[df_test['diff_prct'] == 0])}\")\n",
    "print(f\"différence supérieur à 0% : {len(df_test[df_test['diff_prct']>0])}\")\n",
    "print(f\"différence inférieur à 0% : {len(df_test[df_test['diff_prct']<0])}\")\n",
    "print(f\"différence supérieur à 1% : {len(df_test[df_test['diff_prct']>1])}\")\n",
    "print(f\"différence inférieur à -1% : {len(df_test[df_test['diff_prct']<-1])}\")\n"
   ]
  },
  {
   "cell_type": "markdown",
   "id": "a808c060",
   "metadata": {},
   "source": [
    "Le nombre d'observations incohérente étant faible, on décide de les supprimer."
   ]
  },
  {
   "cell_type": "code",
   "execution_count": 47,
   "id": "73a387b1",
   "metadata": {},
   "outputs": [],
   "source": [
    " i = df_test[df_test['diff_prct'] == 0].index\n",
    "DATA = DATA[DATA.index.isin(i)]\n"
   ]
  },
  {
   "cell_type": "markdown",
   "id": "8c38c9ca",
   "metadata": {},
   "source": [
    "#### Cohérence entre la surface totale et la surface de l'activité principale\n"
   ]
  },
  {
   "cell_type": "code",
   "execution_count": 48,
   "id": "d6e90abb",
   "metadata": {},
   "outputs": [
    {
     "name": "stdout",
     "output_type": "stream",
     "text": [
      "différence égale à 0% : 2426\n",
      "différence supérieur à 0% : 3319\n",
      "différence inférieur à 0% : 603\n"
     ]
    }
   ],
   "source": [
    "df_test = pd.DataFrame()\n",
    "df_test['diff'] = DATA[\"PropertyGFATotal\"] -DATA['LargestPropertyUseTypeGFA']\n",
    "df_test['diff_prct'] = (DATA[\"PropertyGFATotal\"] -DATA['LargestPropertyUseTypeGFA'])*100/DATA[\"PropertyGFATotal\"]\n",
    "print(f\"différence égale à 0% : {len(df_test[df_test['diff_prct'] == 0])}\")\n",
    "print(f\"différence supérieur à 0% : {len(df_test[df_test['diff_prct']>0])}\")\n",
    "print(f\"différence inférieur à 0% : {len(df_test[df_test['diff_prct']<0])}\")"
   ]
  },
  {
   "cell_type": "markdown",
   "id": "9c573d97",
   "metadata": {},
   "source": [
    "il y a 603 observations où la surface totale est inférieure à la surface de l'activité principale.  \n",
    "Cela semble incohérent, on supprime ces observations"
   ]
  },
  {
   "cell_type": "code",
   "execution_count": 49,
   "id": "69b97db7",
   "metadata": {},
   "outputs": [],
   "source": [
    " i = df_test[df_test['diff_prct'] >= 0].index\n",
    "DATA = DATA[DATA.index.isin(i)]"
   ]
  },
  {
   "cell_type": "markdown",
   "id": "20922f42",
   "metadata": {},
   "source": [
    "### Creation de nouvelles variables\n",
    "Pour faciliter la modélisation, des nouvelles variables vont être créées\n",
    "#### Mix énergétique\n",
    "on donne le %electricité, le %gaz, le %vapeur et le %autres de la consommation énergétique"
   ]
  },
  {
   "cell_type": "code",
   "execution_count": 50,
   "id": "b83c3343",
   "metadata": {},
   "outputs": [],
   "source": [
    "for energy in [\"Electricity\", \"NaturalGas\", \"SteamUse\", \"OtherFuelUse\"] :\n",
    "    col = energy+\"(kBtu)\"\n",
    "    DATA[energy+\"(%)\"] = DATA[energy+'(kBtu)']/DATA['SiteEnergyUse(kBtu)']*100"
   ]
  },
  {
   "cell_type": "markdown",
   "id": "0e837486",
   "metadata": {},
   "source": [
    "On peut supprimer la variable SiteEnergyUse(kBtu), elle ne sera plus utilisée par la suite"
   ]
  },
  {
   "cell_type": "code",
   "execution_count": 51,
   "id": "81b43a6a",
   "metadata": {},
   "outputs": [],
   "source": [
    "DATA = DATA.drop(\"SiteEnergyUse(kBtu)\", axis=1)"
   ]
  },
  {
   "cell_type": "markdown",
   "id": "eb04756a",
   "metadata": {},
   "source": [
    "#### principale source d'énergie"
   ]
  },
  {
   "cell_type": "code",
   "execution_count": 52,
   "id": "1159592f",
   "metadata": {},
   "outputs": [
    {
     "data": {
      "text/plain": [
       "0    Electricity(%)\n",
       "1     NaturalGas(%)\n",
       "2    Electricity(%)\n",
       "3       SteamUse(%)\n",
       "5    Electricity(%)\n",
       "Name: MainEnergySource, dtype: object"
      ]
     },
     "execution_count": 52,
     "metadata": {},
     "output_type": "execute_result"
    }
   ],
   "source": [
    "DATA['MainEnergySource'] = DATA[[\"Electricity(%)\", \"NaturalGas(%)\", \"SteamUse(%)\", \"OtherFuelUse(%)\"]].idxmax(axis=1)\n",
    "DATA['MainEnergySource'].head()"
   ]
  },
  {
   "cell_type": "markdown",
   "id": "23da71e1",
   "metadata": {},
   "source": [
    "#### Surface occupée par chaque acivité\n",
    "on créé une variable par activité et on renseigne la surface assignée à cette activité."
   ]
  },
  {
   "cell_type": "code",
   "execution_count": 53,
   "id": "da9f5c26",
   "metadata": {},
   "outputs": [
    {
     "name": "stdout",
     "output_type": "stream",
     "text": [
      "Nombre d'utilisations différentes = 64\n",
      "Valeurs possibles :\n",
      "['Adult Education', 'Automobile Dealership', 'Bank Branch', 'Bar/Nightclub', 'College/University', 'Convenience Store without Gas Station', 'Convention Center', 'Courthouse', 'Data Center', 'Distribution Center', 'Enclosed Mall', 'Fast Food Restaurant', 'Financial Office', 'Fitness Center/Health Club/Gym', 'Food Sales', 'Food Service', 'Hospital (General Medical & Surgical)', 'Hotel', 'K-12 School', 'Laboratory', 'Library', 'Lifestyle Center', 'Manufacturing/Industrial Plant', 'Medical Office', 'Movie Theater', 'Multifamily Housing', 'Museum', 'Non-Refrigerated Warehouse', 'Office', 'Other', 'Other - Education', 'Other - Entertainment/Public Assembly', 'Other - Lodging/Residential', 'Other - Mall', 'Other - Public Services', 'Other - Recreation', 'Other - Restaurant/Bar', 'Other - Services', 'Other - Technology/Science', 'Other - Utility', 'Other/Specialty Hospital', 'Outpatient Rehabilitation/Physical Therapy', 'Parking', 'Performing Arts', 'Personal Services (Health/Beauty, Dry Cleaning, etc)', 'Police Station', 'Pre-school/Daycare', 'Prison/Incarceration', 'Refrigerated Warehouse', 'Repair Services (Vehicle, Shoe, Locksmith, etc)', 'Residence Hall/Dormitory', 'Residential Care Facility', 'Restaurant', 'Retail Store', 'Self-Storage Facility', 'Senior Care Community', 'Social/Meeting Hall', 'Strip Mall', 'Supermarket/Grocery Store', 'Swimming Pool', 'Urgent Care/Clinic/Other Outpatient', 'Vocational School', 'Wholesale Club/Supercenter', 'Worship Facility']\n"
     ]
    }
   ],
   "source": [
    "use = DATA[[\"LargestPropertyUseType\", \"SecondLargestPropertyUseType\", \"ThirdLargestPropertyUseType\"]].values\n",
    "use = list(set(use.reshape((-1,))))\n",
    "use = sorted([x for x in use if pd.notnull(x)])\n",
    "print(f\"Nombre d'utilisations différentes = {len(use)}\")\n",
    "print(\"Valeurs possibles :\")\n",
    "print(use)"
   ]
  },
  {
   "cell_type": "code",
   "execution_count": 54,
   "id": "e63a8d8e",
   "metadata": {
    "scrolled": false
   },
   "outputs": [
    {
     "name": "stderr",
     "output_type": "stream",
     "text": [
      "C:\\Users\\erwan\\anaconda3\\lib\\site-packages\\pandas\\core\\indexing.py:1732: SettingWithCopyWarning: \n",
      "A value is trying to be set on a copy of a slice from a DataFrame\n",
      "\n",
      "See the caveats in the documentation: https://pandas.pydata.org/pandas-docs/stable/user_guide/indexing.html#returning-a-view-versus-a-copy\n",
      "  self._setitem_single_block(indexer, value, name)\n"
     ]
    },
    {
     "data": {
      "text/html": [
       "<div>\n",
       "<style scoped>\n",
       "    .dataframe tbody tr th:only-of-type {\n",
       "        vertical-align: middle;\n",
       "    }\n",
       "\n",
       "    .dataframe tbody tr th {\n",
       "        vertical-align: top;\n",
       "    }\n",
       "\n",
       "    .dataframe thead th {\n",
       "        text-align: right;\n",
       "    }\n",
       "</style>\n",
       "<table border=\"1\" class=\"dataframe\">\n",
       "  <thead>\n",
       "    <tr style=\"text-align: right;\">\n",
       "      <th></th>\n",
       "      <th>OSEBuildingID</th>\n",
       "      <th>DataYear</th>\n",
       "      <th>BuildingType</th>\n",
       "      <th>PrimaryPropertyType</th>\n",
       "      <th>YearBuilt</th>\n",
       "      <th>NumberofBuildings</th>\n",
       "      <th>NumberofFloors</th>\n",
       "      <th>PropertyGFATotal</th>\n",
       "      <th>PropertyGFAParking</th>\n",
       "      <th>PropertyGFABuilding(s)</th>\n",
       "      <th>LargestPropertyUseType</th>\n",
       "      <th>LargestPropertyUseTypeGFA</th>\n",
       "      <th>SecondLargestPropertyUseType</th>\n",
       "      <th>SecondLargestPropertyUseTypeGFA</th>\n",
       "      <th>ThirdLargestPropertyUseType</th>\n",
       "      <th>ThirdLargestPropertyUseTypeGFA</th>\n",
       "      <th>ENERGYSTARScore</th>\n",
       "      <th>SiteEnergyUseWN(kBtu)</th>\n",
       "      <th>SteamUse(kBtu)</th>\n",
       "      <th>Electricity(kBtu)</th>\n",
       "      <th>NaturalGas(kBtu)</th>\n",
       "      <th>OtherFuelUse(kBtu)</th>\n",
       "      <th>GHGEmissions(MetricTonsCO2e)</th>\n",
       "      <th>Outlier</th>\n",
       "      <th>Electricity(%)</th>\n",
       "      <th>NaturalGas(%)</th>\n",
       "      <th>SteamUse(%)</th>\n",
       "      <th>OtherFuelUse(%)</th>\n",
       "      <th>MainEnergySource</th>\n",
       "      <th>Adult EducationGFA</th>\n",
       "      <th>Automobile DealershipGFA</th>\n",
       "      <th>Bank BranchGFA</th>\n",
       "      <th>Bar/NightclubGFA</th>\n",
       "      <th>College/UniversityGFA</th>\n",
       "      <th>Convenience Store without Gas StationGFA</th>\n",
       "      <th>Convention CenterGFA</th>\n",
       "      <th>CourthouseGFA</th>\n",
       "      <th>Data CenterGFA</th>\n",
       "      <th>Distribution CenterGFA</th>\n",
       "      <th>Enclosed MallGFA</th>\n",
       "      <th>Fast Food RestaurantGFA</th>\n",
       "      <th>Financial OfficeGFA</th>\n",
       "      <th>Fitness Center/Health Club/GymGFA</th>\n",
       "      <th>Food SalesGFA</th>\n",
       "      <th>Food ServiceGFA</th>\n",
       "      <th>Hospital (General Medical &amp; Surgical)GFA</th>\n",
       "      <th>HotelGFA</th>\n",
       "      <th>K-12 SchoolGFA</th>\n",
       "      <th>LaboratoryGFA</th>\n",
       "      <th>LibraryGFA</th>\n",
       "      <th>Lifestyle CenterGFA</th>\n",
       "      <th>Manufacturing/Industrial PlantGFA</th>\n",
       "      <th>Medical OfficeGFA</th>\n",
       "      <th>Movie TheaterGFA</th>\n",
       "      <th>Multifamily HousingGFA</th>\n",
       "      <th>MuseumGFA</th>\n",
       "      <th>Non-Refrigerated WarehouseGFA</th>\n",
       "      <th>OfficeGFA</th>\n",
       "      <th>OtherGFA</th>\n",
       "      <th>Other - EducationGFA</th>\n",
       "      <th>Other - Entertainment/Public AssemblyGFA</th>\n",
       "      <th>Other - Lodging/ResidentialGFA</th>\n",
       "      <th>Other - MallGFA</th>\n",
       "      <th>Other - Public ServicesGFA</th>\n",
       "      <th>Other - RecreationGFA</th>\n",
       "      <th>Other - Restaurant/BarGFA</th>\n",
       "      <th>Other - ServicesGFA</th>\n",
       "      <th>Other - Technology/ScienceGFA</th>\n",
       "      <th>Other - UtilityGFA</th>\n",
       "      <th>Other/Specialty HospitalGFA</th>\n",
       "      <th>Outpatient Rehabilitation/Physical TherapyGFA</th>\n",
       "      <th>ParkingGFA</th>\n",
       "      <th>Performing ArtsGFA</th>\n",
       "      <th>Personal Services (Health/Beauty, Dry Cleaning, etc)GFA</th>\n",
       "      <th>Police StationGFA</th>\n",
       "      <th>Pre-school/DaycareGFA</th>\n",
       "      <th>Prison/IncarcerationGFA</th>\n",
       "      <th>Refrigerated WarehouseGFA</th>\n",
       "      <th>Repair Services (Vehicle, Shoe, Locksmith, etc)GFA</th>\n",
       "      <th>Residence Hall/DormitoryGFA</th>\n",
       "      <th>Residential Care FacilityGFA</th>\n",
       "      <th>RestaurantGFA</th>\n",
       "      <th>Retail StoreGFA</th>\n",
       "      <th>Self-Storage FacilityGFA</th>\n",
       "      <th>Senior Care CommunityGFA</th>\n",
       "      <th>Social/Meeting HallGFA</th>\n",
       "      <th>Strip MallGFA</th>\n",
       "      <th>Supermarket/Grocery StoreGFA</th>\n",
       "      <th>Swimming PoolGFA</th>\n",
       "      <th>Urgent Care/Clinic/Other OutpatientGFA</th>\n",
       "      <th>Vocational SchoolGFA</th>\n",
       "      <th>Wholesale Club/SupercenterGFA</th>\n",
       "      <th>Worship FacilityGFA</th>\n",
       "    </tr>\n",
       "  </thead>\n",
       "  <tbody>\n",
       "    <tr>\n",
       "      <th>0</th>\n",
       "      <td>1</td>\n",
       "      <td>2015</td>\n",
       "      <td>NonResidential</td>\n",
       "      <td>Hotel</td>\n",
       "      <td>1927</td>\n",
       "      <td>1.0</td>\n",
       "      <td>12.0</td>\n",
       "      <td>88434</td>\n",
       "      <td>0.0</td>\n",
       "      <td>88434.0</td>\n",
       "      <td>Hotel</td>\n",
       "      <td>88434.0</td>\n",
       "      <td>NaN</td>\n",
       "      <td>NaN</td>\n",
       "      <td>NaN</td>\n",
       "      <td>NaN</td>\n",
       "      <td>65.0</td>\n",
       "      <td>7097539.0</td>\n",
       "      <td>2023032.0</td>\n",
       "      <td>3686160.0</td>\n",
       "      <td>1272388.0</td>\n",
       "      <td>0.0</td>\n",
       "      <td>249.43</td>\n",
       "      <td>NaN</td>\n",
       "      <td>52.799513</td>\n",
       "      <td>18.225326</td>\n",
       "      <td>28.977338</td>\n",
       "      <td>0.0</td>\n",
       "      <td>Electricity(%)</td>\n",
       "      <td>0</td>\n",
       "      <td>0</td>\n",
       "      <td>0</td>\n",
       "      <td>0</td>\n",
       "      <td>0</td>\n",
       "      <td>0.0</td>\n",
       "      <td>0</td>\n",
       "      <td>0</td>\n",
       "      <td>0</td>\n",
       "      <td>0</td>\n",
       "      <td>0</td>\n",
       "      <td>0</td>\n",
       "      <td>0</td>\n",
       "      <td>0</td>\n",
       "      <td>0</td>\n",
       "      <td>0</td>\n",
       "      <td>0</td>\n",
       "      <td>88434</td>\n",
       "      <td>0</td>\n",
       "      <td>0</td>\n",
       "      <td>0</td>\n",
       "      <td>0</td>\n",
       "      <td>0</td>\n",
       "      <td>0.0</td>\n",
       "      <td>0</td>\n",
       "      <td>0</td>\n",
       "      <td>0</td>\n",
       "      <td>0</td>\n",
       "      <td>0.0</td>\n",
       "      <td>0</td>\n",
       "      <td>0</td>\n",
       "      <td>0</td>\n",
       "      <td>0</td>\n",
       "      <td>0</td>\n",
       "      <td>0</td>\n",
       "      <td>0</td>\n",
       "      <td>0</td>\n",
       "      <td>0</td>\n",
       "      <td>0</td>\n",
       "      <td>0</td>\n",
       "      <td>0</td>\n",
       "      <td>0</td>\n",
       "      <td>0.0</td>\n",
       "      <td>0</td>\n",
       "      <td>0</td>\n",
       "      <td>0</td>\n",
       "      <td>0</td>\n",
       "      <td>0</td>\n",
       "      <td>0</td>\n",
       "      <td>0</td>\n",
       "      <td>0</td>\n",
       "      <td>0</td>\n",
       "      <td>0</td>\n",
       "      <td>0.0</td>\n",
       "      <td>0</td>\n",
       "      <td>0</td>\n",
       "      <td>0</td>\n",
       "      <td>0</td>\n",
       "      <td>0</td>\n",
       "      <td>0</td>\n",
       "      <td>0</td>\n",
       "      <td>0</td>\n",
       "      <td>0</td>\n",
       "      <td>0</td>\n",
       "    </tr>\n",
       "    <tr>\n",
       "      <th>1</th>\n",
       "      <td>2</td>\n",
       "      <td>2015</td>\n",
       "      <td>NonResidential</td>\n",
       "      <td>Hotel</td>\n",
       "      <td>1996</td>\n",
       "      <td>1.0</td>\n",
       "      <td>11.0</td>\n",
       "      <td>103566</td>\n",
       "      <td>15064.0</td>\n",
       "      <td>88502.0</td>\n",
       "      <td>Hotel</td>\n",
       "      <td>83880.0</td>\n",
       "      <td>Parking</td>\n",
       "      <td>15064.0</td>\n",
       "      <td>Restaurant</td>\n",
       "      <td>4622.0</td>\n",
       "      <td>51.0</td>\n",
       "      <td>8765788.0</td>\n",
       "      <td>0.0</td>\n",
       "      <td>3905411.0</td>\n",
       "      <td>4448985.0</td>\n",
       "      <td>0.0</td>\n",
       "      <td>263.51</td>\n",
       "      <td>NaN</td>\n",
       "      <td>46.747679</td>\n",
       "      <td>53.254248</td>\n",
       "      <td>0.000000</td>\n",
       "      <td>0.0</td>\n",
       "      <td>NaturalGas(%)</td>\n",
       "      <td>0</td>\n",
       "      <td>0</td>\n",
       "      <td>0</td>\n",
       "      <td>0</td>\n",
       "      <td>0</td>\n",
       "      <td>0.0</td>\n",
       "      <td>0</td>\n",
       "      <td>0</td>\n",
       "      <td>0</td>\n",
       "      <td>0</td>\n",
       "      <td>0</td>\n",
       "      <td>0</td>\n",
       "      <td>0</td>\n",
       "      <td>0</td>\n",
       "      <td>0</td>\n",
       "      <td>0</td>\n",
       "      <td>0</td>\n",
       "      <td>83880</td>\n",
       "      <td>0</td>\n",
       "      <td>0</td>\n",
       "      <td>0</td>\n",
       "      <td>0</td>\n",
       "      <td>0</td>\n",
       "      <td>0.0</td>\n",
       "      <td>0</td>\n",
       "      <td>0</td>\n",
       "      <td>0</td>\n",
       "      <td>0</td>\n",
       "      <td>0.0</td>\n",
       "      <td>0</td>\n",
       "      <td>0</td>\n",
       "      <td>0</td>\n",
       "      <td>0</td>\n",
       "      <td>0</td>\n",
       "      <td>0</td>\n",
       "      <td>0</td>\n",
       "      <td>0</td>\n",
       "      <td>0</td>\n",
       "      <td>0</td>\n",
       "      <td>0</td>\n",
       "      <td>0</td>\n",
       "      <td>0</td>\n",
       "      <td>15064.0</td>\n",
       "      <td>0</td>\n",
       "      <td>0</td>\n",
       "      <td>0</td>\n",
       "      <td>0</td>\n",
       "      <td>0</td>\n",
       "      <td>0</td>\n",
       "      <td>0</td>\n",
       "      <td>0</td>\n",
       "      <td>0</td>\n",
       "      <td>4622</td>\n",
       "      <td>0.0</td>\n",
       "      <td>0</td>\n",
       "      <td>0</td>\n",
       "      <td>0</td>\n",
       "      <td>0</td>\n",
       "      <td>0</td>\n",
       "      <td>0</td>\n",
       "      <td>0</td>\n",
       "      <td>0</td>\n",
       "      <td>0</td>\n",
       "      <td>0</td>\n",
       "    </tr>\n",
       "    <tr>\n",
       "      <th>2</th>\n",
       "      <td>3</td>\n",
       "      <td>2015</td>\n",
       "      <td>NonResidential</td>\n",
       "      <td>Hotel</td>\n",
       "      <td>1969</td>\n",
       "      <td>1.0</td>\n",
       "      <td>41.0</td>\n",
       "      <td>961990</td>\n",
       "      <td>0.0</td>\n",
       "      <td>961990.0</td>\n",
       "      <td>Hotel</td>\n",
       "      <td>757243.0</td>\n",
       "      <td>Parking</td>\n",
       "      <td>100000.0</td>\n",
       "      <td>Swimming Pool</td>\n",
       "      <td>0.0</td>\n",
       "      <td>18.0</td>\n",
       "      <td>75506272.0</td>\n",
       "      <td>19660404.0</td>\n",
       "      <td>49762435.0</td>\n",
       "      <td>3709900.0</td>\n",
       "      <td>0.0</td>\n",
       "      <td>2061.48</td>\n",
       "      <td>NaN</td>\n",
       "      <td>68.045930</td>\n",
       "      <td>5.072975</td>\n",
       "      <td>26.883943</td>\n",
       "      <td>0.0</td>\n",
       "      <td>Electricity(%)</td>\n",
       "      <td>0</td>\n",
       "      <td>0</td>\n",
       "      <td>0</td>\n",
       "      <td>0</td>\n",
       "      <td>0</td>\n",
       "      <td>0.0</td>\n",
       "      <td>0</td>\n",
       "      <td>0</td>\n",
       "      <td>0</td>\n",
       "      <td>0</td>\n",
       "      <td>0</td>\n",
       "      <td>0</td>\n",
       "      <td>0</td>\n",
       "      <td>0</td>\n",
       "      <td>0</td>\n",
       "      <td>0</td>\n",
       "      <td>0</td>\n",
       "      <td>757243</td>\n",
       "      <td>0</td>\n",
       "      <td>0</td>\n",
       "      <td>0</td>\n",
       "      <td>0</td>\n",
       "      <td>0</td>\n",
       "      <td>0.0</td>\n",
       "      <td>0</td>\n",
       "      <td>0</td>\n",
       "      <td>0</td>\n",
       "      <td>0</td>\n",
       "      <td>0.0</td>\n",
       "      <td>0</td>\n",
       "      <td>0</td>\n",
       "      <td>0</td>\n",
       "      <td>0</td>\n",
       "      <td>0</td>\n",
       "      <td>0</td>\n",
       "      <td>0</td>\n",
       "      <td>0</td>\n",
       "      <td>0</td>\n",
       "      <td>0</td>\n",
       "      <td>0</td>\n",
       "      <td>0</td>\n",
       "      <td>0</td>\n",
       "      <td>100000.0</td>\n",
       "      <td>0</td>\n",
       "      <td>0</td>\n",
       "      <td>0</td>\n",
       "      <td>0</td>\n",
       "      <td>0</td>\n",
       "      <td>0</td>\n",
       "      <td>0</td>\n",
       "      <td>0</td>\n",
       "      <td>0</td>\n",
       "      <td>0</td>\n",
       "      <td>0.0</td>\n",
       "      <td>0</td>\n",
       "      <td>0</td>\n",
       "      <td>0</td>\n",
       "      <td>0</td>\n",
       "      <td>0</td>\n",
       "      <td>0</td>\n",
       "      <td>0</td>\n",
       "      <td>0</td>\n",
       "      <td>0</td>\n",
       "      <td>0</td>\n",
       "    </tr>\n",
       "    <tr>\n",
       "      <th>3</th>\n",
       "      <td>5</td>\n",
       "      <td>2015</td>\n",
       "      <td>NonResidential</td>\n",
       "      <td>Hotel</td>\n",
       "      <td>1926</td>\n",
       "      <td>1.0</td>\n",
       "      <td>10.0</td>\n",
       "      <td>61320</td>\n",
       "      <td>0.0</td>\n",
       "      <td>61320.0</td>\n",
       "      <td>Hotel</td>\n",
       "      <td>61320.0</td>\n",
       "      <td>NaN</td>\n",
       "      <td>NaN</td>\n",
       "      <td>NaN</td>\n",
       "      <td>NaN</td>\n",
       "      <td>1.0</td>\n",
       "      <td>28363444.0</td>\n",
       "      <td>23458518.0</td>\n",
       "      <td>2769023.0</td>\n",
       "      <td>2001894.0</td>\n",
       "      <td>0.0</td>\n",
       "      <td>1936.34</td>\n",
       "      <td>High Outlier</td>\n",
       "      <td>9.809032</td>\n",
       "      <td>7.091542</td>\n",
       "      <td>83.099834</td>\n",
       "      <td>0.0</td>\n",
       "      <td>SteamUse(%)</td>\n",
       "      <td>0</td>\n",
       "      <td>0</td>\n",
       "      <td>0</td>\n",
       "      <td>0</td>\n",
       "      <td>0</td>\n",
       "      <td>0.0</td>\n",
       "      <td>0</td>\n",
       "      <td>0</td>\n",
       "      <td>0</td>\n",
       "      <td>0</td>\n",
       "      <td>0</td>\n",
       "      <td>0</td>\n",
       "      <td>0</td>\n",
       "      <td>0</td>\n",
       "      <td>0</td>\n",
       "      <td>0</td>\n",
       "      <td>0</td>\n",
       "      <td>61320</td>\n",
       "      <td>0</td>\n",
       "      <td>0</td>\n",
       "      <td>0</td>\n",
       "      <td>0</td>\n",
       "      <td>0</td>\n",
       "      <td>0.0</td>\n",
       "      <td>0</td>\n",
       "      <td>0</td>\n",
       "      <td>0</td>\n",
       "      <td>0</td>\n",
       "      <td>0.0</td>\n",
       "      <td>0</td>\n",
       "      <td>0</td>\n",
       "      <td>0</td>\n",
       "      <td>0</td>\n",
       "      <td>0</td>\n",
       "      <td>0</td>\n",
       "      <td>0</td>\n",
       "      <td>0</td>\n",
       "      <td>0</td>\n",
       "      <td>0</td>\n",
       "      <td>0</td>\n",
       "      <td>0</td>\n",
       "      <td>0</td>\n",
       "      <td>0.0</td>\n",
       "      <td>0</td>\n",
       "      <td>0</td>\n",
       "      <td>0</td>\n",
       "      <td>0</td>\n",
       "      <td>0</td>\n",
       "      <td>0</td>\n",
       "      <td>0</td>\n",
       "      <td>0</td>\n",
       "      <td>0</td>\n",
       "      <td>0</td>\n",
       "      <td>0.0</td>\n",
       "      <td>0</td>\n",
       "      <td>0</td>\n",
       "      <td>0</td>\n",
       "      <td>0</td>\n",
       "      <td>0</td>\n",
       "      <td>0</td>\n",
       "      <td>0</td>\n",
       "      <td>0</td>\n",
       "      <td>0</td>\n",
       "      <td>0</td>\n",
       "    </tr>\n",
       "    <tr>\n",
       "      <th>5</th>\n",
       "      <td>9</td>\n",
       "      <td>2015</td>\n",
       "      <td>Nonresidential COS</td>\n",
       "      <td>Other</td>\n",
       "      <td>1999</td>\n",
       "      <td>1.0</td>\n",
       "      <td>2.0</td>\n",
       "      <td>97288</td>\n",
       "      <td>37198.0</td>\n",
       "      <td>60090.0</td>\n",
       "      <td>Police Station</td>\n",
       "      <td>88830.0</td>\n",
       "      <td>NaN</td>\n",
       "      <td>NaN</td>\n",
       "      <td>NaN</td>\n",
       "      <td>NaN</td>\n",
       "      <td>NaN</td>\n",
       "      <td>13045258.0</td>\n",
       "      <td>0.0</td>\n",
       "      <td>7271004.0</td>\n",
       "      <td>4781283.0</td>\n",
       "      <td>0.0</td>\n",
       "      <td>304.62</td>\n",
       "      <td>NaN</td>\n",
       "      <td>60.330349</td>\n",
       "      <td>39.672165</td>\n",
       "      <td>0.000000</td>\n",
       "      <td>0.0</td>\n",
       "      <td>Electricity(%)</td>\n",
       "      <td>0</td>\n",
       "      <td>0</td>\n",
       "      <td>0</td>\n",
       "      <td>0</td>\n",
       "      <td>0</td>\n",
       "      <td>0.0</td>\n",
       "      <td>0</td>\n",
       "      <td>0</td>\n",
       "      <td>0</td>\n",
       "      <td>0</td>\n",
       "      <td>0</td>\n",
       "      <td>0</td>\n",
       "      <td>0</td>\n",
       "      <td>0</td>\n",
       "      <td>0</td>\n",
       "      <td>0</td>\n",
       "      <td>0</td>\n",
       "      <td>0</td>\n",
       "      <td>0</td>\n",
       "      <td>0</td>\n",
       "      <td>0</td>\n",
       "      <td>0</td>\n",
       "      <td>0</td>\n",
       "      <td>0.0</td>\n",
       "      <td>0</td>\n",
       "      <td>0</td>\n",
       "      <td>0</td>\n",
       "      <td>0</td>\n",
       "      <td>0.0</td>\n",
       "      <td>0</td>\n",
       "      <td>0</td>\n",
       "      <td>0</td>\n",
       "      <td>0</td>\n",
       "      <td>0</td>\n",
       "      <td>0</td>\n",
       "      <td>0</td>\n",
       "      <td>0</td>\n",
       "      <td>0</td>\n",
       "      <td>0</td>\n",
       "      <td>0</td>\n",
       "      <td>0</td>\n",
       "      <td>0</td>\n",
       "      <td>0.0</td>\n",
       "      <td>0</td>\n",
       "      <td>0</td>\n",
       "      <td>88830</td>\n",
       "      <td>0</td>\n",
       "      <td>0</td>\n",
       "      <td>0</td>\n",
       "      <td>0</td>\n",
       "      <td>0</td>\n",
       "      <td>0</td>\n",
       "      <td>0</td>\n",
       "      <td>0.0</td>\n",
       "      <td>0</td>\n",
       "      <td>0</td>\n",
       "      <td>0</td>\n",
       "      <td>0</td>\n",
       "      <td>0</td>\n",
       "      <td>0</td>\n",
       "      <td>0</td>\n",
       "      <td>0</td>\n",
       "      <td>0</td>\n",
       "      <td>0</td>\n",
       "    </tr>\n",
       "  </tbody>\n",
       "</table>\n",
       "</div>"
      ],
      "text/plain": [
       "   OSEBuildingID  DataYear        BuildingType PrimaryPropertyType  YearBuilt  \\\n",
       "0              1      2015      NonResidential               Hotel       1927   \n",
       "1              2      2015      NonResidential               Hotel       1996   \n",
       "2              3      2015      NonResidential               Hotel       1969   \n",
       "3              5      2015      NonResidential               Hotel       1926   \n",
       "5              9      2015  Nonresidential COS               Other       1999   \n",
       "\n",
       "   NumberofBuildings  NumberofFloors  PropertyGFATotal  PropertyGFAParking  \\\n",
       "0                1.0            12.0             88434                 0.0   \n",
       "1                1.0            11.0            103566             15064.0   \n",
       "2                1.0            41.0            961990                 0.0   \n",
       "3                1.0            10.0             61320                 0.0   \n",
       "5                1.0             2.0             97288             37198.0   \n",
       "\n",
       "   PropertyGFABuilding(s) LargestPropertyUseType  LargestPropertyUseTypeGFA  \\\n",
       "0                 88434.0                  Hotel                    88434.0   \n",
       "1                 88502.0                  Hotel                    83880.0   \n",
       "2                961990.0                  Hotel                   757243.0   \n",
       "3                 61320.0                  Hotel                    61320.0   \n",
       "5                 60090.0         Police Station                    88830.0   \n",
       "\n",
       "  SecondLargestPropertyUseType  SecondLargestPropertyUseTypeGFA  \\\n",
       "0                          NaN                              NaN   \n",
       "1                      Parking                          15064.0   \n",
       "2                      Parking                         100000.0   \n",
       "3                          NaN                              NaN   \n",
       "5                          NaN                              NaN   \n",
       "\n",
       "  ThirdLargestPropertyUseType  ThirdLargestPropertyUseTypeGFA  \\\n",
       "0                         NaN                             NaN   \n",
       "1                  Restaurant                          4622.0   \n",
       "2               Swimming Pool                             0.0   \n",
       "3                         NaN                             NaN   \n",
       "5                         NaN                             NaN   \n",
       "\n",
       "   ENERGYSTARScore  SiteEnergyUseWN(kBtu)  SteamUse(kBtu)  Electricity(kBtu)  \\\n",
       "0             65.0              7097539.0       2023032.0          3686160.0   \n",
       "1             51.0              8765788.0             0.0          3905411.0   \n",
       "2             18.0             75506272.0      19660404.0         49762435.0   \n",
       "3              1.0             28363444.0      23458518.0          2769023.0   \n",
       "5              NaN             13045258.0             0.0          7271004.0   \n",
       "\n",
       "   NaturalGas(kBtu)  OtherFuelUse(kBtu)  GHGEmissions(MetricTonsCO2e)  \\\n",
       "0         1272388.0                 0.0                        249.43   \n",
       "1         4448985.0                 0.0                        263.51   \n",
       "2         3709900.0                 0.0                       2061.48   \n",
       "3         2001894.0                 0.0                       1936.34   \n",
       "5         4781283.0                 0.0                        304.62   \n",
       "\n",
       "        Outlier  Electricity(%)  NaturalGas(%)  SteamUse(%)  OtherFuelUse(%)  \\\n",
       "0           NaN       52.799513      18.225326    28.977338              0.0   \n",
       "1           NaN       46.747679      53.254248     0.000000              0.0   \n",
       "2           NaN       68.045930       5.072975    26.883943              0.0   \n",
       "3  High Outlier        9.809032       7.091542    83.099834              0.0   \n",
       "5           NaN       60.330349      39.672165     0.000000              0.0   \n",
       "\n",
       "  MainEnergySource  Adult EducationGFA  Automobile DealershipGFA  \\\n",
       "0   Electricity(%)                   0                         0   \n",
       "1    NaturalGas(%)                   0                         0   \n",
       "2   Electricity(%)                   0                         0   \n",
       "3      SteamUse(%)                   0                         0   \n",
       "5   Electricity(%)                   0                         0   \n",
       "\n",
       "   Bank BranchGFA  Bar/NightclubGFA  College/UniversityGFA  \\\n",
       "0               0                 0                      0   \n",
       "1               0                 0                      0   \n",
       "2               0                 0                      0   \n",
       "3               0                 0                      0   \n",
       "5               0                 0                      0   \n",
       "\n",
       "   Convenience Store without Gas StationGFA  Convention CenterGFA  \\\n",
       "0                                       0.0                     0   \n",
       "1                                       0.0                     0   \n",
       "2                                       0.0                     0   \n",
       "3                                       0.0                     0   \n",
       "5                                       0.0                     0   \n",
       "\n",
       "   CourthouseGFA  Data CenterGFA  Distribution CenterGFA  Enclosed MallGFA  \\\n",
       "0              0               0                       0                 0   \n",
       "1              0               0                       0                 0   \n",
       "2              0               0                       0                 0   \n",
       "3              0               0                       0                 0   \n",
       "5              0               0                       0                 0   \n",
       "\n",
       "   Fast Food RestaurantGFA  Financial OfficeGFA  \\\n",
       "0                        0                    0   \n",
       "1                        0                    0   \n",
       "2                        0                    0   \n",
       "3                        0                    0   \n",
       "5                        0                    0   \n",
       "\n",
       "   Fitness Center/Health Club/GymGFA  Food SalesGFA  Food ServiceGFA  \\\n",
       "0                                  0              0                0   \n",
       "1                                  0              0                0   \n",
       "2                                  0              0                0   \n",
       "3                                  0              0                0   \n",
       "5                                  0              0                0   \n",
       "\n",
       "   Hospital (General Medical & Surgical)GFA  HotelGFA  K-12 SchoolGFA  \\\n",
       "0                                         0     88434               0   \n",
       "1                                         0     83880               0   \n",
       "2                                         0    757243               0   \n",
       "3                                         0     61320               0   \n",
       "5                                         0         0               0   \n",
       "\n",
       "   LaboratoryGFA  LibraryGFA  Lifestyle CenterGFA  \\\n",
       "0              0           0                    0   \n",
       "1              0           0                    0   \n",
       "2              0           0                    0   \n",
       "3              0           0                    0   \n",
       "5              0           0                    0   \n",
       "\n",
       "   Manufacturing/Industrial PlantGFA  Medical OfficeGFA  Movie TheaterGFA  \\\n",
       "0                                  0                0.0                 0   \n",
       "1                                  0                0.0                 0   \n",
       "2                                  0                0.0                 0   \n",
       "3                                  0                0.0                 0   \n",
       "5                                  0                0.0                 0   \n",
       "\n",
       "   Multifamily HousingGFA  MuseumGFA  Non-Refrigerated WarehouseGFA  \\\n",
       "0                       0          0                              0   \n",
       "1                       0          0                              0   \n",
       "2                       0          0                              0   \n",
       "3                       0          0                              0   \n",
       "5                       0          0                              0   \n",
       "\n",
       "   OfficeGFA  OtherGFA  Other - EducationGFA  \\\n",
       "0        0.0         0                     0   \n",
       "1        0.0         0                     0   \n",
       "2        0.0         0                     0   \n",
       "3        0.0         0                     0   \n",
       "5        0.0         0                     0   \n",
       "\n",
       "   Other - Entertainment/Public AssemblyGFA  Other - Lodging/ResidentialGFA  \\\n",
       "0                                         0                               0   \n",
       "1                                         0                               0   \n",
       "2                                         0                               0   \n",
       "3                                         0                               0   \n",
       "5                                         0                               0   \n",
       "\n",
       "   Other - MallGFA  Other - Public ServicesGFA  Other - RecreationGFA  \\\n",
       "0                0                           0                      0   \n",
       "1                0                           0                      0   \n",
       "2                0                           0                      0   \n",
       "3                0                           0                      0   \n",
       "5                0                           0                      0   \n",
       "\n",
       "   Other - Restaurant/BarGFA  Other - ServicesGFA  \\\n",
       "0                          0                    0   \n",
       "1                          0                    0   \n",
       "2                          0                    0   \n",
       "3                          0                    0   \n",
       "5                          0                    0   \n",
       "\n",
       "   Other - Technology/ScienceGFA  Other - UtilityGFA  \\\n",
       "0                              0                   0   \n",
       "1                              0                   0   \n",
       "2                              0                   0   \n",
       "3                              0                   0   \n",
       "5                              0                   0   \n",
       "\n",
       "   Other/Specialty HospitalGFA  Outpatient Rehabilitation/Physical TherapyGFA  \\\n",
       "0                            0                                              0   \n",
       "1                            0                                              0   \n",
       "2                            0                                              0   \n",
       "3                            0                                              0   \n",
       "5                            0                                              0   \n",
       "\n",
       "   ParkingGFA  Performing ArtsGFA  \\\n",
       "0         0.0                   0   \n",
       "1     15064.0                   0   \n",
       "2    100000.0                   0   \n",
       "3         0.0                   0   \n",
       "5         0.0                   0   \n",
       "\n",
       "   Personal Services (Health/Beauty, Dry Cleaning, etc)GFA  Police StationGFA  \\\n",
       "0                                                        0                  0   \n",
       "1                                                        0                  0   \n",
       "2                                                        0                  0   \n",
       "3                                                        0                  0   \n",
       "5                                                        0              88830   \n",
       "\n",
       "   Pre-school/DaycareGFA  Prison/IncarcerationGFA  Refrigerated WarehouseGFA  \\\n",
       "0                      0                        0                          0   \n",
       "1                      0                        0                          0   \n",
       "2                      0                        0                          0   \n",
       "3                      0                        0                          0   \n",
       "5                      0                        0                          0   \n",
       "\n",
       "   Repair Services (Vehicle, Shoe, Locksmith, etc)GFA  \\\n",
       "0                                                   0   \n",
       "1                                                   0   \n",
       "2                                                   0   \n",
       "3                                                   0   \n",
       "5                                                   0   \n",
       "\n",
       "   Residence Hall/DormitoryGFA  Residential Care FacilityGFA  RestaurantGFA  \\\n",
       "0                            0                             0              0   \n",
       "1                            0                             0           4622   \n",
       "2                            0                             0              0   \n",
       "3                            0                             0              0   \n",
       "5                            0                             0              0   \n",
       "\n",
       "   Retail StoreGFA  Self-Storage FacilityGFA  Senior Care CommunityGFA  \\\n",
       "0              0.0                         0                         0   \n",
       "1              0.0                         0                         0   \n",
       "2              0.0                         0                         0   \n",
       "3              0.0                         0                         0   \n",
       "5              0.0                         0                         0   \n",
       "\n",
       "   Social/Meeting HallGFA  Strip MallGFA  Supermarket/Grocery StoreGFA  \\\n",
       "0                       0              0                             0   \n",
       "1                       0              0                             0   \n",
       "2                       0              0                             0   \n",
       "3                       0              0                             0   \n",
       "5                       0              0                             0   \n",
       "\n",
       "   Swimming PoolGFA  Urgent Care/Clinic/Other OutpatientGFA  \\\n",
       "0                 0                                       0   \n",
       "1                 0                                       0   \n",
       "2                 0                                       0   \n",
       "3                 0                                       0   \n",
       "5                 0                                       0   \n",
       "\n",
       "   Vocational SchoolGFA  Wholesale Club/SupercenterGFA  Worship FacilityGFA  \n",
       "0                     0                              0                    0  \n",
       "1                     0                              0                    0  \n",
       "2                     0                              0                    0  \n",
       "3                     0                              0                    0  \n",
       "5                     0                              0                    0  "
      ]
     },
     "execution_count": 54,
     "metadata": {},
     "output_type": "execute_result"
    }
   ],
   "source": [
    "pd.set_option('display.max_columns', 100)\n",
    "#Initialisation des variables à 0 :\n",
    "for column in use :\n",
    "    DATA[column+\"GFA\"] = 0\n",
    "\n",
    "# remplissage des colonnes :\n",
    "for i in range(0, len(DATA)) :\n",
    "    if pd.notnull(DATA[\"LargestPropertyUseTypeGFA\"].iloc[i]):\n",
    "        DATA[DATA[\"LargestPropertyUseType\"].iloc[i]+\"GFA\"].iloc[i] += DATA[\"LargestPropertyUseTypeGFA\"].iloc[i]\n",
    "    if pd.notnull(DATA[\"SecondLargestPropertyUseTypeGFA\"].iloc[i]):\n",
    "        DATA[DATA[\"SecondLargestPropertyUseType\"].iloc[i]+\"GFA\"].iloc[i] += DATA[\"SecondLargestPropertyUseTypeGFA\"].iloc[i]\n",
    "    if pd.notnull(DATA[\"ThirdLargestPropertyUseType\"].iloc[i]):\n",
    "        DATA[DATA[\"ThirdLargestPropertyUseType\"].iloc[i]+\"GFA\"].iloc[i] += DATA[\"ThirdLargestPropertyUseTypeGFA\"].iloc[i]\n",
    "DATA.head()"
   ]
  },
  {
   "cell_type": "markdown",
   "id": "d1086968",
   "metadata": {},
   "source": [
    "Après cette modification, les variables SecondLargestPropertyUseType, SecondLargestPropertyUseTypeGFA, ThirdLargestPropertyUseType, ThirdLargestPropertyUseTypeGFA sont supprimées car trop peu renseignées"
   ]
  },
  {
   "cell_type": "code",
   "execution_count": 55,
   "id": "df66c50c",
   "metadata": {},
   "outputs": [],
   "source": [
    "for col in [\"SecondLargestPropertyUseType\", \"SecondLargestPropertyUseTypeGFA\", \\\n",
    "            \"ThirdLargestPropertyUseType\", \"ThirdLargestPropertyUseTypeGFA\"] :\n",
    "    DATA = DATA.drop(col, axis=1)"
   ]
  },
  {
   "cell_type": "markdown",
   "id": "f97bb3ab",
   "metadata": {},
   "source": [
    "#### Modification de la notion d'outliers\n",
    "les outliers ont 3 valeurs possible : null, low, high.\n",
    "pour simplifier la notation, on utilise : \n",
    "- null = 0\n",
    "- low = 1\n",
    "- high = 2"
   ]
  },
  {
   "cell_type": "code",
   "execution_count": 56,
   "id": "72d35d00",
   "metadata": {},
   "outputs": [
    {
     "data": {
      "text/plain": [
       "0    5673\n",
       "2      42\n",
       "1      30\n",
       "Name: Outlier, dtype: int64"
      ]
     },
     "execution_count": 56,
     "metadata": {},
     "output_type": "execute_result"
    }
   ],
   "source": [
    "DATA.loc[pd.isnull(DATA.Outlier), \"Outlier\"] = 0\n",
    "DATA.loc[DATA.Outlier == \"Low Outlier\", \"Outlier\"] = 1\n",
    "DATA.loc[DATA.Outlier == \"High Outlier\", \"Outlier\"] = 2\n",
    "DATA[\"Outlier\"].value_counts()"
   ]
  },
  {
   "cell_type": "markdown",
   "id": "63aa79aa",
   "metadata": {},
   "source": [
    "#### encodage du type d'immeuble \n",
    "On utilise pour cela un OneHotEncoder sur la variable BuidingType"
   ]
  },
  {
   "cell_type": "code",
   "execution_count": 57,
   "id": "08ebd4a8",
   "metadata": {
    "scrolled": false
   },
   "outputs": [
    {
     "name": "stdout",
     "output_type": "stream",
     "text": [
      "Les colonnes suivantes sont créées :\n",
      "['Campus' 'Multifamily HR (10+)' 'Multifamily LR (1-4)'\n",
      " 'Multifamily MR (5-9)' 'NonResidential' 'Nonresidential COS'\n",
      " 'SPS-District K-12']\n"
     ]
    }
   ],
   "source": [
    "encoder = OneHotEncoder()\n",
    "transformed = encoder.fit_transform(DATA[['BuildingType']])\n",
    "#Vérification que les colonnes n'existes pas \n",
    "test = [ col in DATA.columns for col in encoder.categories_[0] ]\n",
    "if np.any(test) : \n",
    "    print(\"Des colonnes existent déjà : \")\n",
    "    print(encoder.categories_[0][test])\n",
    "else :\n",
    "    print(\"Les colonnes suivantes sont créées :\")\n",
    "    print(encoder.categories_[0])\n",
    "DATA[encoder.categories_[0]] = transformed.toarray()\n",
    "DATA = DATA.drop('BuildingType', axis=1)"
   ]
  },
  {
   "cell_type": "code",
   "execution_count": 58,
   "id": "eb91c139",
   "metadata": {},
   "outputs": [
    {
     "name": "stdout",
     "output_type": "stream",
     "text": [
      "Les colonnes suivantes sont créées :\n",
      "['MainEnergySource_Electricity(%)', 'MainEnergySource_NaturalGas(%)', 'MainEnergySource_SteamUse(%)']\n"
     ]
    }
   ],
   "source": [
    "DATA[\"MainEnergySource\"].value_counts()\n",
    "transformed = encoder.fit_transform(DATA[['MainEnergySource']])\n",
    "categ = [\"MainEnergySource_\"+val for val in encoder.categories_[0]]\n",
    "test = [ col in DATA.columns for col in categ ]\n",
    "if np.any(test) : \n",
    "    print(\"Des colonnes existent déjà : \")\n",
    "    print(categ[test])\n",
    "else :\n",
    "    print(\"Les colonnes suivantes sont créées :\")\n",
    "    print(categ)\n",
    "DATA[categ] = transformed.toarray()\n",
    "DATA = DATA.drop(\"MainEnergySource\", axis=1)"
   ]
  },
  {
   "cell_type": "markdown",
   "id": "812f832a",
   "metadata": {},
   "source": [
    "#### Age de l'immeuble\n",
    "L'age de l'immeuble au moment du relevé sera plus représentatif que l'année de construction.  \n",
    "La variable \"building_age\" est créé et les variables \"YearBuilt\" et \"DataYear\" sont supprimées"
   ]
  },
  {
   "cell_type": "code",
   "execution_count": 59,
   "id": "ffce58c4",
   "metadata": {},
   "outputs": [],
   "source": [
    "DATA[\"building_age\"] = DATA[\"DataYear\"] - DATA[\"YearBuilt\"]\n",
    "DATA = DATA.drop(\"DataYear\", axis=1)\n",
    "DATA = DATA.drop(\"YearBuilt\", axis=1)"
   ]
  },
  {
   "cell_type": "markdown",
   "id": "a8c9fe48",
   "metadata": {},
   "source": [
    "### Suppression des observations non complètes\n",
    "Pour une modélisation efficace, on décide de supprimer tout simplement les observations contenant des valeurs vides."
   ]
  },
  {
   "cell_type": "code",
   "execution_count": 60,
   "id": "8f9b9b48",
   "metadata": {},
   "outputs": [
    {
     "name": "stdout",
     "output_type": "stream",
     "text": [
      "Nombre d'observations avant suppression = 5745\n",
      "Nombre d'observations après suppression = 5741\n"
     ]
    }
   ],
   "source": [
    "selected_columns = [\"GHGEmissions(MetricTonsCO2e)\", \"SiteEnergyUseWN(kBtu)\", \"OSEBuildingID\", \\\n",
    "                   \"PrimaryPropertyType\", \"building_age\", \"NumberofFloors\", \"NumberofBuildings\", \\\n",
    "                   \"PropertyGFATotal\", \"PropertyGFAParking\", \"PropertyGFABuilding(s)\", \"LargestPropertyUseType\",\\\n",
    "                   \"LargestPropertyUseTypeGFA\", \"Electricity(kBtu)\", \"NaturalGas(kBtu)\",\\\n",
    "                   \"SteamUse(kBtu)\", \"OtherFuelUse(kBtu)\"]\n",
    "print(f\"Nombre d'observations avant suppression = {len(DATA)}\")\n",
    "DATA = DATA.dropna(axis=0, subset=selected_columns)\n",
    "print(f\"Nombre d'observations après suppression = {len(DATA)}\")\n",
    "#DATA = DATA.dropna()\n",
    "#\"ENERGYSTARScore\""
   ]
  },
  {
   "cell_type": "markdown",
   "id": "20f87f64",
   "metadata": {},
   "source": [
    "### Correlation entre les variables et les valeurs à prédire\n",
    "on utilise le coefficient de détermination : le carré du coefficient de Pearson"
   ]
  },
  {
   "cell_type": "code",
   "execution_count": 61,
   "id": "3f162fdf",
   "metadata": {
    "scrolled": false
   },
   "outputs": [
    {
     "data": {
      "text/plain": [
       "<AxesSubplot:>"
      ]
     },
     "execution_count": 61,
     "metadata": {},
     "output_type": "execute_result"
    },
    {
     "data": {
      "image/png": "[encoded data removed]",
      "text/plain": [
       "<Figure size 720x3600 with 2 Axes>"
      ]
     },
     "metadata": {
      "needs_background": "light"
     },
     "output_type": "display_data"
    }
   ],
   "source": [
    "df_corr = DATA.corr(method='pearson', min_periods=50)\n",
    "df_corr = df_corr.dropna(axis=0, how=\"all\")\n",
    "df_corr = df_corr*df_corr\n",
    "df_predicted_corr = df_corr[['SiteEnergyUseWN(kBtu)','GHGEmissions(MetricTonsCO2e)']]\n",
    "fig, ax = plt.subplots(figsize=(10,50))     \n",
    "sns.heatmap(df_predicted_corr, annot=True,ax=ax, fmt=\".3f\", cmap=\"hot\")"
   ]
  },
  {
   "cell_type": "markdown",
   "id": "64e9a48d",
   "metadata": {},
   "source": [
    "### Dataset pour l'ENERGYSTARScore"
   ]
  },
  {
   "cell_type": "markdown",
   "id": "80020793",
   "metadata": {},
   "source": [
    "On va également créer un dataset contenant pour les ENERGYSTARScore.  \n",
    "Un dataset différent est créé compte tenu du nombre important de valeurs manquantes pour cette variable et elle est supprimée du premier."
   ]
  },
  {
   "cell_type": "code",
   "execution_count": 62,
   "id": "7400814c",
   "metadata": {},
   "outputs": [
    {
     "name": "stdout",
     "output_type": "stream",
     "text": [
      "Nombre d'observations après suppression = 4357\n"
     ]
    }
   ],
   "source": [
    "DATA_ESS = DATA.dropna(axis=0, subset=[\"ENERGYSTARScore\"])\n",
    "print(f\"Nombre d'observations après suppression = {len(DATA_ESS)}\")"
   ]
  },
  {
   "cell_type": "markdown",
   "id": "876cbcaf",
   "metadata": {},
   "source": [
    "### imputation ENERGYSTARScore\n",
    "Dans le Dataset avec des valeurs manquantes dans pour la variable ENERGYSTARScore, on va imputer les valeurs.  \n",
    "Deux méthodes seront testées : impuation par la moyenne et par les KNN. "
   ]
  },
  {
   "cell_type": "markdown",
   "id": "13147bf8",
   "metadata": {},
   "source": [
    "#### Impuation par la moyenne"
   ]
  },
  {
   "cell_type": "code",
   "execution_count": 63,
   "id": "df3bd183",
   "metadata": {},
   "outputs": [
    {
     "data": {
      "image/png": "[encoded data removed]",
      "text/plain": [
       "<Figure size 1080x576 with 2 Axes>"
      ]
     },
     "metadata": {
      "needs_background": "light"
     },
     "output_type": "display_data"
    }
   ],
   "source": [
    "new_energystar_mean = DATA[\"ENERGYSTARScore\"].copy(deep=True)\n",
    "new_energystar_mean.loc[pd.isnull(new_energystar_mean)] = new_energystar_mean.mean()\n",
    "\n",
    "# Comparaison de la nouvelle distribution\n",
    "fig, axs = plt.subplots(nrows=1, ncols=2, figsize=(15,8))\n",
    "axs[0].hist(DATA[\"ENERGYSTARScore\"], bins=20)\n",
    "axs[1].hist(new_energystar_mean, bins=20)\n",
    "plt.show()"
   ]
  },
  {
   "cell_type": "markdown",
   "id": "48613303",
   "metadata": {},
   "source": [
    "La distribution obtenue par une imputation par la moyenne est fortement différente de la distribution initiale,  \n",
    "cela signifie que la variable n'est plus représentative de l'échantillon."
   ]
  },
  {
   "cell_type": "markdown",
   "id": "5e035674",
   "metadata": {},
   "source": [
    "#### impuation par les KNN\n",
    "Recherche de la valeur de K optimal.\n"
   ]
  },
  {
   "cell_type": "code",
   "execution_count": 64,
   "id": "0dd690a6",
   "metadata": {},
   "outputs": [
    {
     "name": "stderr",
     "output_type": "stream",
     "text": [
      "C:\\Users\\erwan\\anaconda3\\lib\\site-packages\\pandas\\core\\indexing.py:1732: SettingWithCopyWarning: \n",
      "A value is trying to be set on a copy of a slice from a DataFrame\n",
      "\n",
      "See the caveats in the documentation: https://pandas.pydata.org/pandas-docs/stable/user_guide/indexing.html#returning-a-view-versus-a-copy\n",
      "  self._setitem_single_block(indexer, value, name)\n"
     ]
    },
    {
     "data": {
      "image/png": "[encoded data removed]",
      "text/plain": [
       "<Figure size 432x288 with 1 Axes>"
      ]
     },
     "metadata": {
      "needs_background": "light"
     },
     "output_type": "display_data"
    }
   ],
   "source": [
    "data = DATA[pd.notnull(DATA[\"ENERGYSTARScore\"])].copy(deep=True).select_dtypes(['int', 'float'])\n",
    "i_test = np.random.randint(0, high=len(data), size=200)\n",
    "data_test = data.copy(deep=True)\n",
    "data_test[\"ENERGYSTARScore\"].iloc[i_test] = np.NaN\n",
    "\n",
    "errors = []\n",
    "fig, ax = plt.subplots()\n",
    "for k in [1,2,3,5,10, 15] :\n",
    "    imputer = KNNImputer(n_neighbors=k, copy=True, weights=\"distance\")\n",
    "    data_knn = pd.DataFrame(imputer.fit_transform(data_test), columns=data.columns)\n",
    "    errors.append(np.mean(np.abs(data_knn[\"ENERGYSTARScore\"].iloc[i_test].values - data[\"ENERGYSTARScore\"].iloc[i_test].values)))\n",
    "    \n",
    "ax.plot([1,2,3,5,10, 15], errors)\n",
    "plt.show()"
   ]
  },
  {
   "cell_type": "markdown",
   "id": "257d8223",
   "metadata": {},
   "source": [
    "Une valeur de K=5 semble donner les meilleurs résulats."
   ]
  },
  {
   "cell_type": "code",
   "execution_count": 65,
   "id": "6ddcbd49",
   "metadata": {},
   "outputs": [
    {
     "data": {
      "image/png": "[encoded data removed]",
      "text/plain": [
       "<Figure size 1080x576 with 2 Axes>"
      ]
     },
     "metadata": {
      "needs_background": "light"
     },
     "output_type": "display_data"
    }
   ],
   "source": [
    "imputer = KNNImputer(n_neighbors=5, copy=True, weights=\"distance\")\n",
    "imputed = pd.DataFrame(imputer.fit_transform(DATA.select_dtypes(['int', 'float'])), columns=data.columns)\n",
    "fig, axs = plt.subplots(nrows=1, ncols=2, figsize=(15,8))\n",
    "axs[0].hist(DATA[\"ENERGYSTARScore\"])\n",
    "axs[1].hist(imputed[\"ENERGYSTARScore\"])\n",
    "plt.show()\n",
    "DATA[\"ENERGYSTARScore\"] = imputed[\"ENERGYSTARScore\"]\n"
   ]
  },
  {
   "cell_type": "markdown",
   "id": "a4583769",
   "metadata": {},
   "source": [
    "La forme de la distribution est beaucoup moins modifiée. Nous concervons ces valeurs."
   ]
  },
  {
   "cell_type": "markdown",
   "id": "cd07772a",
   "metadata": {},
   "source": [
    "### Sauvegarde du Dataset nettoyé"
   ]
  },
  {
   "cell_type": "code",
   "execution_count": 66,
   "id": "cce15f80",
   "metadata": {},
   "outputs": [],
   "source": [
    "DATA.to_csv(\"data/building-energy-benchmarking_cleaned.csv\", sep=',', index=False)\n",
    "DATA_ESS.to_csv(\"data/building-energy-benchmarking_EnergyStarScore_cleaned.csv\", sep=',', index=False)"
   ]
  },
  {
   "cell_type": "markdown",
   "id": "1ccf43a1",
   "metadata": {},
   "source": [
    "Variables pouvant encore etre ajoutées\n",
    "encoder les variables qualitative : MainSourceEnergy, type of building\n",
    "nombre d'activités dans l'immeuble"
   ]
  }
 ],
 "metadata": {
  "kernelspec": {
   "display_name": "Python 3 (ipykernel)",
   "language": "python",
   "name": "python3"
  },
  "language_info": {
   "codemirror_mode": {
    "name": "ipython",
    "version": 3
   },
   "file_extension": ".py",
   "mimetype": "text/x-python",
   "name": "python",
   "nbconvert_exporter": "python",
   "pygments_lexer": "ipython3",
   "version": "3.9.7"
  }
 },
 "nbformat": 4,
 "nbformat_minor": 5
}
